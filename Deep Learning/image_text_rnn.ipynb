{
 "cells": [
  {
   "cell_type": "code",
   "execution_count": 21,
   "metadata": {},
   "outputs": [],
   "source": [
    "import torch\n",
    "import torch.nn.functional as F\n",
    "import torch.nn as nn\n",
    "import math\n",
    "import matplotlib.pyplot as plt\n",
    "import seaborn as sns\n",
    "import pandas as pd\n",
    "import numpy as np\n",
    "import torchinfo\n",
    "import warnings\n",
    "warnings.filterwarnings(\"ignore\")\n",
    "import numpy as np\n",
    "import pandas as pd\n",
    "import seaborn as sns\n",
    "import matplotlib.pyplot as plt\n",
    "import statsmodels.api as sm\n",
    "import sympy as sp\n",
    "from sklearn.linear_model import LinearRegression,LogisticRegression\n",
    "from sklearn.metrics import r2_score,mean_squared_error,confusion_matrix\n",
    "from sklearn.ensemble import BaggingClassifier,BaggingRegressor,RandomForestClassifier,RandomForestClassifier\n",
    "from sklearn.linear_model import LinearRegression,LogisticRegression\n",
    "from sklearn.tree import DecisionTreeClassifier,DecisionTreeRegressor\n",
    "from sklearn.impute import SimpleImputer\n",
    "from nltk import sent_tokenize\n",
    "from sklearn.compose import ColumnTransformer\n",
    "from sklearn.metrics import silhouette_score\n",
    "#from imblearn.over_sampling import SMOTE\n",
    "import math\n",
    "from scipy.stats import norm\n",
    "from sklearn.naive_bayes import GaussianNB\n",
    "from sklearn.linear_model import LinearRegression,LogisticRegression\n",
    "from sklearn.model_selection import train_test_split\n",
    "from sklearn.neighbors import KNeighborsClassifier\n",
    "from sklearn.ensemble import BaggingClassifier,RandomForestClassifier,AdaBoostClassifier,AdaBoostRegressor,GradientBoostingClassifier,GradientBoostingClassifier\n",
    "#from xgboost import XGBClassifier,XGBRegressor,XGBRFRegressor,XGBRFClassifier\n",
    "from sklearn.tree import DecisionTreeClassifier\n",
    "from sklearn.svm import SVC\n",
    "from sklearn.metrics import accuracy_score,r2_score,classification_report,confusion_matrix,precision_score,recall_score,f1_score\n",
    "from sklearn.datasets import make_regression,make_classification\n",
    "from sklearn.linear_model import SGDRegressor,SGDClassifier\n",
    "from sklearn.preprocessing import StandardScaler,OneHotEncoder,LabelEncoder,OrdinalEncoder\n",
    "from sklearn.decomposition import PCA\n",
    "from sklearn import tree\n",
    "from sklearn.utils import resample\n",
    "from sklearn.feature_selection import VarianceThreshold \n",
    "from sklearn.feature_selection import SelectKBest,chi2 ,SelectPercentile,f_classif,mutual_info_classif,VarianceThreshold\n",
    "import numpy as np\n",
    "import pandas as pd\n",
    "import seaborn as sns\n",
    "import matplotlib.pyplot as plt\n",
    "import numpy as np\n",
    "import pandas as pd\n",
    "import seaborn as sns\n",
    "#from mlxtend.plotting import plot_decision_regions\n",
    "from sklearn.dummy import DummyClassifier,DummyRegressor\n",
    "#from imblearn.over_sampling import SMOTE\n",
    "#from imblearn.ensemble import BalancedRandomForestClassifier,BalancedBaggingClassifier\n",
    "import matplotlib.pyplot as plt\n",
    "from sklearn.svm import SVC\n",
    "import re\n",
    "from sklearn.pipeline import Pipeline,make_pipeline\n",
    "from sklearn.feature_selection import SequentialFeatureSelector\n",
    "import statsmodels.api as sm\n",
    "import sympy as sp\n",
    "from sklearn.linear_model import LinearRegression,LogisticRegression\n",
    "from sklearn.metrics import r2_score\n",
    "from sklearn.ensemble import BaggingClassifier,BaggingRegressor,RandomForestClassifier,RandomForestClassifier\n",
    "from sklearn.linear_model import LinearRegression,LogisticRegression,SGDRegressor,SGDClassifier\n",
    "from sklearn.tree import DecisionTreeClassifier,DecisionTreeRegressor\n",
    "import math\n",
    "from scipy.stats import norm\n",
    "from sklearn.naive_bayes import GaussianNB\n",
    "from sklearn.linear_model import LinearRegression,LogisticRegression\n",
    "from sklearn.model_selection import train_test_split,GridSearchCV,RandomizedSearchCV\n",
    "from sklearn.neighbors import KNeighborsClassifier\n",
    "from sklearn.ensemble import BaggingClassifier,RandomForestClassifier,AdaBoostClassifier,AdaBoostRegressor,GradientBoostingClassifier,GradientBoostingClassifier\n",
    "from xgboost import XGBClassifier,XGBRegressor \n",
    "from sklearn.tree import DecisionTreeClassifier\n",
    "from sklearn.svm import SVC\n",
    "from sklearn.metrics import accuracy_score,r2_score,classification_report,confusion_matrix\n",
    "from sklearn.datasets import make_regression,make_classification\n",
    "from sklearn.linear_model import SGDRegressor,SGDClassifier\n",
    "from sklearn.preprocessing import StandardScaler,OneHotEncoder,LabelEncoder,OrdinalEncoder,Normalizer,MinMaxScaler,OneHotEncoder\n",
    "from sklearn.decomposition import PCA\n",
    "from sklearn import tree\n",
    "from sklearn.utils import resample\n",
    "from sklearn.feature_selection import SelectPercentile,SelectKBest,chi2,f_classif,mutual_info_regression,mutual_info_classif,VarianceThreshold\n",
    "from statsmodels.stats.outliers_influence import variance_inflation_factor\n",
    "from sklearn.datasets import load_diabetes,load_breast_cancer,load_iris\n",
    "import nltk\n",
    "from nltk.stem import PorterStemmer,SnowballStemmer\n",
    "from nltk import WordNetLemmatizer\n",
    "from nltk.stem import PorterStemmer\n",
    "from nltk.corpus import stopwords\n",
    "from nltk.stem.porter import PorterStemmer\n",
    "from sklearn.feature_extraction.text import CountVectorizer,TfidfVectorizer\n",
    "from sklearn.ensemble import StackingClassifier,StackingRegressor\n",
    "import nltk\n",
    "from nltk.corpus import stopwords\n",
    "import warnings\n",
    "warnings.filterwarnings(\"ignore\")  # Correct way to ignore warnings\n",
    "import optuna\n",
    "from torch.utils.data import Dataset, DataLoader"
   ]
  },
  {
   "cell_type": "markdown",
   "metadata": {},
   "source": [
    "## Objective : To classify the text from multiple images which are grouped under multiple classes"
   ]
  },
  {
   "cell_type": "code",
   "execution_count": 2,
   "metadata": {},
   "outputs": [
    {
     "name": "stdout",
     "output_type": "stream",
     "text": [
      "Class 0: 500 files\n",
      "Class 2: 500 files\n",
      "Class 4: 500 files\n",
      "Class 6: 500 files\n",
      "Class 9: 500 files\n"
     ]
    }
   ],
   "source": [
    "# read the files containing the text\n",
    "import os\n",
    "\n",
    "def read_and_group_data(root_folder):\n",
    "    \"\"\"\n",
    "    Reads text files from subfolders within a root folder.\n",
    "    Groups files by folder name (class label).\n",
    "    \n",
    "    Args:\n",
    "        root_folder (str): Path to the root folder containing subfolders.\n",
    "    \n",
    "    Returns:\n",
    "        dict: Keys are class labels (folder names), values are lists of file contents.\n",
    "    \"\"\"\n",
    "    grouped_data = {}  # Dictionary to hold class-wise grouped data\n",
    "    \n",
    "    # Iterate through all folders in the root folder\n",
    "    for class_folder in os.listdir(root_folder):\n",
    "        class_path = os.path.join(root_folder, class_folder)\n",
    "        \n",
    "        # Check if the item is a folder (class label)\n",
    "        if os.path.isdir(class_path):\n",
    "            grouped_data[class_folder] = []  # Initialize a list for the class\n",
    "            \n",
    "            # Iterate through all text files in the folder\n",
    "            for file_name in os.listdir(class_path):\n",
    "                file_path = os.path.join(class_path, file_name)\n",
    "                \n",
    "                # Read the content of each text file\n",
    "                if file_name.endswith('.txt'):  # Ensure only .txt files are read\n",
    "                    with open(file_path, 'r', encoding='utf-8') as file:\n",
    "                        file_content = file.read()\n",
    "                        grouped_data[class_folder].append(file_content)\n",
    "    \n",
    "    return grouped_data\n",
    "\n",
    "# Example Usage\n",
    "root_folder = \"D:\\Machine_learning\\mltest\\ML\\data\\ocr\"  # Replace with your actual folder path\n",
    "data = read_and_group_data(root_folder)\n",
    "\n",
    "# Print grouped data summary\n",
    "for class_label, files in data.items():\n",
    "    print(f\"Class {class_label}: {len(files)} files\")"
   ]
  },
  {
   "cell_type": "code",
   "execution_count": 3,
   "metadata": {},
   "outputs": [
    {
     "data": {
      "text/html": [
       "<div>\n",
       "<style scoped>\n",
       "    .dataframe tbody tr th:only-of-type {\n",
       "        vertical-align: middle;\n",
       "    }\n",
       "\n",
       "    .dataframe tbody tr th {\n",
       "        vertical-align: top;\n",
       "    }\n",
       "\n",
       "    .dataframe thead th {\n",
       "        text-align: right;\n",
       "    }\n",
       "</style>\n",
       "<table border=\"1\" class=\"dataframe\">\n",
       "  <thead>\n",
       "    <tr style=\"text-align: right;\">\n",
       "      <th></th>\n",
       "      <th>0</th>\n",
       "      <th>2</th>\n",
       "      <th>4</th>\n",
       "      <th>6</th>\n",
       "      <th>9</th>\n",
       "    </tr>\n",
       "  </thead>\n",
       "  <tbody>\n",
       "    <tr>\n",
       "      <th>0</th>\n",
       "      <td>\\n\\nAneto Pi eth Asin\\n\\n \\n\\n15 Fieerih Sie,...</td>\n",
       "      <td>2078873514\\n\\n \\n\\nOriginal Message\\nFrom: Tap...</td>\n",
       "      <td>Bias ora\\n\\nOe ant ie\\n\\nee\\n! a\\n\\nTe ea LI e...</td>\n",
       "      <td>sgaloiat\\n\\n~\\n\\nNoi nditunOs Hod,\\n\\nilodqzod...</td>\n",
       "      <td>Mar 13°96\\nMARS 9 1908\\n\\n8335\\n\\nMINNEAPOLIS ...</td>\n",
       "    </tr>\n",
       "    <tr>\n",
       "      <th>1</th>\n",
       "      <td>IDs PAGE 21729\\nDrenee ve eeepeneectnmnnnne\\n\\...</td>\n",
       "      <td>\\n\\n \\n\\n&lt;&gt;\\n\\nFars em\\n\\nWORLD ALERT near\\n\\...</td>\n",
       "      <td>\\n\\n \\n    \\n\\n \\n\\n~~ TOBACC\\nRETAINS\\nRICH ...</td>\n",
       "      <td>\\n\\nGH. as The\\nie nd poologel\\n\\n \\n\\nfetabo...</td>\n",
       "      <td>200343)2394\\n\\n    \\n\\n010) asuodsax uy sour\\n...</td>\n",
       "    </tr>\n",
       "    <tr>\n",
       "      <th>2</th>\n",
       "      <td>PHILIP MORRIS\\n\\nwor 0b, 1977\\n\\n&lt; Senet tybie...</td>\n",
       "      <td>\\n\\nLevy, Carolyn J.\\n‘Thursday, June 10, 199...</td>\n",
       "      <td>\\n\\n| Some straight talk\\nabout smoking\\nfor ...</td>\n",
       "      <td>MEDICAL RECORD AND ANNALS 985\\n\\nMEDICAL RECOR...</td>\n",
       "      <td>fs! 2046965323\\n\\nKatea‘noag vat db 0 sea mas ...</td>\n",
       "    </tr>\n",
       "    <tr>\n",
       "      <th>3</th>\n",
       "      <td>Gary L. Huber, M.D.\\n\\nChief, Division of Resp...</td>\n",
       "      <td>\\n\\n2084289491\\nGusato, Denise\\n\\nCusato, Den...</td>\n",
       "      <td>\\n\\n‘SURGEON GENERAL'S WARNING: Cigerette\\n‘S...</td>\n",
       "      <td>\\n\\nPAIN Ay i) 2) 2) 2) EP 7) 7) TEED ED ENE...</td>\n",
       "      <td>\\n\\n \\n\\n \\n\\n‘SUN-TIMES\\nChicago, Illinois\\n...</td>\n",
       "    </tr>\n",
       "    <tr>\n",
       "      <th>4</th>\n",
       "      <td>THE TOBACCO INSTITUTE, INC\\n1776 K Street, Nor...</td>\n",
       "      <td>\\n\\n \\n\\n20187776) page 1\\nMessage. for Holle...</td>\n",
       "      <td>\\n\\n \\n\\noozze\\nBuIL\\n\\nung\\n\\n  \\n\\n311a/ ON...</td>\n",
       "      <td>\\n\\npene 20 paces sian (09 pow 0: ‘aang 79 ...</td>\n",
       "      <td>\\n\\n“ ROAZ7IOZ 7\\n\\nPage 4\\nAmerican Medical ...</td>\n",
       "    </tr>\n",
       "  </tbody>\n",
       "</table>\n",
       "</div>"
      ],
      "text/plain": [
       "                                                   0  \\\n",
       "0   \\n\\nAneto Pi eth Asin\\n\\n \\n\\n15 Fieerih Sie,...   \n",
       "1  IDs PAGE 21729\\nDrenee ve eeepeneectnmnnnne\\n\\...   \n",
       "2  PHILIP MORRIS\\n\\nwor 0b, 1977\\n\\n< Senet tybie...   \n",
       "3  Gary L. Huber, M.D.\\n\\nChief, Division of Resp...   \n",
       "4  THE TOBACCO INSTITUTE, INC\\n1776 K Street, Nor...   \n",
       "\n",
       "                                                   2  \\\n",
       "0  2078873514\\n\\n \\n\\nOriginal Message\\nFrom: Tap...   \n",
       "1   \\n\\n \\n\\n<>\\n\\nFars em\\n\\nWORLD ALERT near\\n\\...   \n",
       "2   \\n\\nLevy, Carolyn J.\\n‘Thursday, June 10, 199...   \n",
       "3   \\n\\n2084289491\\nGusato, Denise\\n\\nCusato, Den...   \n",
       "4   \\n\\n \\n\\n20187776) page 1\\nMessage. for Holle...   \n",
       "\n",
       "                                                   4  \\\n",
       "0  Bias ora\\n\\nOe ant ie\\n\\nee\\n! a\\n\\nTe ea LI e...   \n",
       "1   \\n\\n \\n    \\n\\n \\n\\n~~ TOBACC\\nRETAINS\\nRICH ...   \n",
       "2   \\n\\n| Some straight talk\\nabout smoking\\nfor ...   \n",
       "3   \\n\\n‘SURGEON GENERAL'S WARNING: Cigerette\\n‘S...   \n",
       "4   \\n\\n \\n\\noozze\\nBuIL\\n\\nung\\n\\n  \\n\\n311a/ ON...   \n",
       "\n",
       "                                                   6  \\\n",
       "0  sgaloiat\\n\\n~\\n\\nNoi nditunOs Hod,\\n\\nilodqzod...   \n",
       "1   \\n\\nGH. as The\\nie nd poologel\\n\\n \\n\\nfetabo...   \n",
       "2  MEDICAL RECORD AND ANNALS 985\\n\\nMEDICAL RECOR...   \n",
       "3    \\n\\nPAIN Ay i) 2) 2) 2) EP 7) 7) TEED ED ENE...   \n",
       "4     \\n\\npene 20 paces sian (09 pow 0: ‘aang 79 ...   \n",
       "\n",
       "                                                   9  \n",
       "0  Mar 13°96\\nMARS 9 1908\\n\\n8335\\n\\nMINNEAPOLIS ...  \n",
       "1  200343)2394\\n\\n    \\n\\n010) asuodsax uy sour\\n...  \n",
       "2  fs! 2046965323\\n\\nKatea‘noag vat db 0 sea mas ...  \n",
       "3   \\n\\n \\n\\n \\n\\n‘SUN-TIMES\\nChicago, Illinois\\n...  \n",
       "4   \\n\\n“ ROAZ7IOZ 7\\n\\nPage 4\\nAmerican Medical ...  "
      ]
     },
     "execution_count": 3,
     "metadata": {},
     "output_type": "execute_result"
    }
   ],
   "source": [
    "df=pd.DataFrame(data)\n",
    "df.head()"
   ]
  },
  {
   "cell_type": "code",
   "execution_count": 4,
   "metadata": {},
   "outputs": [
    {
     "name": "stdout",
     "output_type": "stream",
     "text": [
      "                                                text label\n",
      "0   \\n\\nAneto Pi eth Asin\\n\\n \\n\\n15 Fieerih Sie,...     0\n",
      "1  IDs PAGE 21729\\nDrenee ve eeepeneectnmnnnne\\n\\...     0\n",
      "2  PHILIP MORRIS\\n\\nwor 0b, 1977\\n\\n< Senet tybie...     0\n",
      "3  Gary L. Huber, M.D.\\n\\nChief, Division of Resp...     0\n",
      "4  THE TOBACCO INSTITUTE, INC\\n1776 K Street, Nor...     0\n"
     ]
    }
   ],
   "source": [
    "import os\n",
    "import pandas as pd\n",
    "\n",
    "def create_dataframe_from_folders(root_folder):\n",
    "    \"\"\"\n",
    "    Reads text files from subfolders within a root folder and creates a DataFrame\n",
    "    with two columns: 'text' (file content) and 'label' (folder name as class label).\n",
    "    \n",
    "    Args:\n",
    "        root_folder (str): Path to the root folder containing subfolders.\n",
    "    \n",
    "    Returns:\n",
    "        pd.DataFrame: A DataFrame with text data and corresponding labels.\n",
    "    \"\"\"\n",
    "    data = []  # List to store rows as (text, label)\n",
    "    \n",
    "    # Iterate through all folders in the root folder\n",
    "    for class_folder in os.listdir(root_folder):\n",
    "        class_path = os.path.join(root_folder, class_folder)\n",
    "        \n",
    "        # Check if the item is a folder (class label)\n",
    "        if os.path.isdir(class_path):\n",
    "            # Iterate through all text files in the folder\n",
    "            for file_name in os.listdir(class_path):\n",
    "                file_path = os.path.join(class_path, file_name)\n",
    "                \n",
    "                # Read the content of each text file\n",
    "                if file_name.endswith('.txt'):  # Ensure only .txt files are read\n",
    "                    with open(file_path, 'r', encoding='utf-8') as file:\n",
    "                        file_content = file.read()\n",
    "                        data.append((file_content, class_folder))  # Append (text, label) tuple\n",
    "    \n",
    "    # Create a DataFrame with two columns: 'text' and 'label'\n",
    "    df = pd.DataFrame(data, columns=['text', 'label'])\n",
    "    return df\n",
    "\n",
    "# Example Usage\n",
    "root_folder = \"D:\\Machine_learning\\mltest\\ML\\data\\ocr\"  # Replace with your actual folder path\n",
    "df = create_dataframe_from_folders(root_folder)\n",
    "\n",
    "# Display the DataFrame\n",
    "print(df.head())  # Show the first 5 rows"
   ]
  },
  {
   "cell_type": "code",
   "execution_count": 5,
   "metadata": {},
   "outputs": [
    {
     "data": {
      "text/html": [
       "<div>\n",
       "<style scoped>\n",
       "    .dataframe tbody tr th:only-of-type {\n",
       "        vertical-align: middle;\n",
       "    }\n",
       "\n",
       "    .dataframe tbody tr th {\n",
       "        vertical-align: top;\n",
       "    }\n",
       "\n",
       "    .dataframe thead th {\n",
       "        text-align: right;\n",
       "    }\n",
       "</style>\n",
       "<table border=\"1\" class=\"dataframe\">\n",
       "  <thead>\n",
       "    <tr style=\"text-align: right;\">\n",
       "      <th></th>\n",
       "      <th>text</th>\n",
       "      <th>label</th>\n",
       "    </tr>\n",
       "  </thead>\n",
       "  <tbody>\n",
       "    <tr>\n",
       "      <th>0</th>\n",
       "      <td>\\n\\nAneto Pi eth Asin\\n\\n \\n\\n15 Fieerih Sie,...</td>\n",
       "      <td>0</td>\n",
       "    </tr>\n",
       "    <tr>\n",
       "      <th>1</th>\n",
       "      <td>IDs PAGE 21729\\nDrenee ve eeepeneectnmnnnne\\n\\...</td>\n",
       "      <td>0</td>\n",
       "    </tr>\n",
       "    <tr>\n",
       "      <th>2</th>\n",
       "      <td>PHILIP MORRIS\\n\\nwor 0b, 1977\\n\\n&lt; Senet tybie...</td>\n",
       "      <td>0</td>\n",
       "    </tr>\n",
       "    <tr>\n",
       "      <th>3</th>\n",
       "      <td>Gary L. Huber, M.D.\\n\\nChief, Division of Resp...</td>\n",
       "      <td>0</td>\n",
       "    </tr>\n",
       "    <tr>\n",
       "      <th>4</th>\n",
       "      <td>THE TOBACCO INSTITUTE, INC\\n1776 K Street, Nor...</td>\n",
       "      <td>0</td>\n",
       "    </tr>\n",
       "  </tbody>\n",
       "</table>\n",
       "</div>"
      ],
      "text/plain": [
       "                                                text label\n",
       "0   \\n\\nAneto Pi eth Asin\\n\\n \\n\\n15 Fieerih Sie,...     0\n",
       "1  IDs PAGE 21729\\nDrenee ve eeepeneectnmnnnne\\n\\...     0\n",
       "2  PHILIP MORRIS\\n\\nwor 0b, 1977\\n\\n< Senet tybie...     0\n",
       "3  Gary L. Huber, M.D.\\n\\nChief, Division of Resp...     0\n",
       "4  THE TOBACCO INSTITUTE, INC\\n1776 K Street, Nor...     0"
      ]
     },
     "execution_count": 5,
     "metadata": {},
     "output_type": "execute_result"
    }
   ],
   "source": [
    "df.head()"
   ]
  },
  {
   "cell_type": "code",
   "execution_count": 6,
   "metadata": {},
   "outputs": [
    {
     "data": {
      "text/plain": [
       "label\n",
       "0    500\n",
       "2    500\n",
       "4    500\n",
       "6    500\n",
       "9    500\n",
       "Name: count, dtype: int64"
      ]
     },
     "execution_count": 6,
     "metadata": {},
     "output_type": "execute_result"
    }
   ],
   "source": [
    "df.label.value_counts()"
   ]
  },
  {
   "cell_type": "code",
   "execution_count": 7,
   "metadata": {},
   "outputs": [
    {
     "data": {
      "text/plain": [
       "'IDs PAGE 21729\\nDrenee ve eeepeneectnmnnnne\\n\\nBashingun, BC 20515\\nSeptenber 28, 1995\\n\\n‘The. Honorable William J. Clinton\\nPresident of the United States\\n\\n1600 Pennsylvania Avenue\\nWashington, D.C. 20500 =\\n\\nDear Mr. President:\\n\\nAa Republican Menbers of Congress, ve are writing to\\ninform you of our egpore fo commen geane acco sagetsttong\\naimed at curbing access. Sone have tried to paint this as a\\n\\nsan issue, Which ig clearly not true. Ne are cautious in our\\nSupport of government regulations. However, reasonable ~\\nregulations aimed at preventing cur youth from or using\\nother tobacco products are a uatter of national health.\\n\\n‘This nation can no longer close its eyes to a product\\nthat kil2e 400,000 Aericans each year and brings into its deathly\\nfold 3,000 children every day. Given the increase in\\namong and the fact that 90 percent of adult smokers started\\n\\nyouth\\nbefore 19, it is time to take the necessary ateps to prevent\\nShother genefation from becoming addicted to this deatly product.\\n\\nFurthermore, we know that people overwhelming2;\\nsmoke the three eost-advertised brands. We are aloo evare of\\nattempts by the tebacca industry to replenish their fold of\\nsmokers by spending billions of dollars in advertising targeting\\nchildren.\\nEvery independent scientific body that has reviewed the ~\\n\\nevidence now that tobacco products are addictive. These\\n\\n‘the Institute of Hedicine, U.S. of Health and\\n\\ninclude\\nHuman Services, the World Health Organization, the American\\nPsy ic Association, and the Anerican Medical Association. It\\n\\nsychiatri\\nis time for the nicotine in tobacco products to be treated 14]\\nthe highly addictive substance it is. ea xe\\n\\nTeenage guakiog {0 a national health ieque and we\\nsupport your vortiuhile efforts to improve rf\\ngenerations through reasonable regulations. * ecere\\n\\nSincerely,\\n\\nSE See\\n\\n \\n\\neL2T6Ez902\\n\\x0c'"
      ]
     },
     "execution_count": 7,
     "metadata": {},
     "output_type": "execute_result"
    }
   ],
   "source": [
    "df.text[1]"
   ]
  },
  {
   "cell_type": "code",
   "execution_count": 8,
   "metadata": {},
   "outputs": [
    {
     "data": {
      "text/plain": [
       "(np.int64(55), np.float64(0.022))"
      ]
     },
     "execution_count": 8,
     "metadata": {},
     "output_type": "execute_result"
    }
   ],
   "source": [
    "df.duplicated().sum(),df.duplicated().sum()/len(df)"
   ]
  },
  {
   "cell_type": "code",
   "execution_count": 9,
   "metadata": {},
   "outputs": [],
   "source": [
    "df.drop_duplicates(inplace=True)"
   ]
  },
  {
   "cell_type": "code",
   "execution_count": 10,
   "metadata": {},
   "outputs": [
    {
     "data": {
      "text/plain": [
       "(np.int64(0), np.float64(0.0))"
      ]
     },
     "execution_count": 10,
     "metadata": {},
     "output_type": "execute_result"
    }
   ],
   "source": [
    "df.duplicated().sum(),df.duplicated().sum()/len(df)"
   ]
  },
  {
   "cell_type": "code",
   "execution_count": 11,
   "metadata": {},
   "outputs": [],
   "source": [
    "# Basic Preprocessing\n",
    "# Remove tags\n",
    "# lowercase\n",
    "# remove stopwords"
   ]
  },
  {
   "cell_type": "code",
   "execution_count": 12,
   "metadata": {},
   "outputs": [],
   "source": [
    "import re\n",
    "def remove_tags(raw_text):\n",
    "    cleaned_text = re.sub(re.compile('<.*?>'), '', raw_text)\n",
    "    return cleaned_text"
   ]
  },
  {
   "cell_type": "code",
   "execution_count": 13,
   "metadata": {},
   "outputs": [],
   "source": [
    "df['text'] = df['text'].apply(remove_tags)"
   ]
  },
  {
   "cell_type": "code",
   "execution_count": 14,
   "metadata": {},
   "outputs": [],
   "source": [
    "df['text'] = df['text'].apply(lambda x:x.lower())"
   ]
  },
  {
   "cell_type": "code",
   "execution_count": 15,
   "metadata": {},
   "outputs": [
    {
     "data": {
      "text/html": [
       "<div>\n",
       "<style scoped>\n",
       "    .dataframe tbody tr th:only-of-type {\n",
       "        vertical-align: middle;\n",
       "    }\n",
       "\n",
       "    .dataframe tbody tr th {\n",
       "        vertical-align: top;\n",
       "    }\n",
       "\n",
       "    .dataframe thead th {\n",
       "        text-align: right;\n",
       "    }\n",
       "</style>\n",
       "<table border=\"1\" class=\"dataframe\">\n",
       "  <thead>\n",
       "    <tr style=\"text-align: right;\">\n",
       "      <th></th>\n",
       "      <th>text</th>\n",
       "      <th>label</th>\n",
       "    </tr>\n",
       "  </thead>\n",
       "  <tbody>\n",
       "    <tr>\n",
       "      <th>0</th>\n",
       "      <td>\\n\\naneto pi eth asin\\n\\n \\n\\n15 fieerih sie,...</td>\n",
       "      <td>0</td>\n",
       "    </tr>\n",
       "    <tr>\n",
       "      <th>1</th>\n",
       "      <td>ids page 21729\\ndrenee ve eeepeneectnmnnnne\\n\\...</td>\n",
       "      <td>0</td>\n",
       "    </tr>\n",
       "    <tr>\n",
       "      <th>2</th>\n",
       "      <td>philip morris\\n\\nwor 0b, 1977\\n\\n&lt; senet tybie...</td>\n",
       "      <td>0</td>\n",
       "    </tr>\n",
       "    <tr>\n",
       "      <th>3</th>\n",
       "      <td>gary l. huber, m.d.\\n\\nchief, division of resp...</td>\n",
       "      <td>0</td>\n",
       "    </tr>\n",
       "    <tr>\n",
       "      <th>4</th>\n",
       "      <td>the tobacco institute, inc\\n1776 k street, nor...</td>\n",
       "      <td>0</td>\n",
       "    </tr>\n",
       "  </tbody>\n",
       "</table>\n",
       "</div>"
      ],
      "text/plain": [
       "                                                text label\n",
       "0   \\n\\naneto pi eth asin\\n\\n \\n\\n15 fieerih sie,...     0\n",
       "1  ids page 21729\\ndrenee ve eeepeneectnmnnnne\\n\\...     0\n",
       "2  philip morris\\n\\nwor 0b, 1977\\n\\n< senet tybie...     0\n",
       "3  gary l. huber, m.d.\\n\\nchief, division of resp...     0\n",
       "4  the tobacco institute, inc\\n1776 k street, nor...     0"
      ]
     },
     "execution_count": 15,
     "metadata": {},
     "output_type": "execute_result"
    }
   ],
   "source": [
    "df.head()"
   ]
  },
  {
   "cell_type": "code",
   "execution_count": 16,
   "metadata": {},
   "outputs": [],
   "source": [
    "from nltk.corpus import stopwords\n",
    "\n",
    "sw_list = stopwords.words('english')\n",
    "sw_list = stopwords.words('english')\n",
    "sw_list.remove(\"not\")  # Exclude \"not\" from stopwords\n",
    "\n",
    "df['text'] = df['text'].apply(lambda x: [item for item in x.split() if item not in sw_list]).apply(lambda x:\" \".join(x))"
   ]
  },
  {
   "cell_type": "code",
   "execution_count": 17,
   "metadata": {},
   "outputs": [
    {
     "data": {
      "text/html": [
       "<div>\n",
       "<style scoped>\n",
       "    .dataframe tbody tr th:only-of-type {\n",
       "        vertical-align: middle;\n",
       "    }\n",
       "\n",
       "    .dataframe tbody tr th {\n",
       "        vertical-align: top;\n",
       "    }\n",
       "\n",
       "    .dataframe thead th {\n",
       "        text-align: right;\n",
       "    }\n",
       "</style>\n",
       "<table border=\"1\" class=\"dataframe\">\n",
       "  <thead>\n",
       "    <tr style=\"text-align: right;\">\n",
       "      <th></th>\n",
       "      <th>text</th>\n",
       "      <th>label</th>\n",
       "    </tr>\n",
       "  </thead>\n",
       "  <tbody>\n",
       "    <tr>\n",
       "      <th>0</th>\n",
       "      <td>aneto pi eth asin 15 fieerih sie, ww washing, ...</td>\n",
       "      <td>0</td>\n",
       "    </tr>\n",
       "    <tr>\n",
       "      <th>1</th>\n",
       "      <td>ids page 21729 drenee eeepeneectnmnnnne bashin...</td>\n",
       "      <td>0</td>\n",
       "    </tr>\n",
       "    <tr>\n",
       "      <th>2</th>\n",
       "      <td>philip morris wor 0b, 1977 &lt; senet tybieht laa...</td>\n",
       "      <td>0</td>\n",
       "    </tr>\n",
       "    <tr>\n",
       "      <th>3</th>\n",
       "      <td>gary l. huber, m.d. chief, division resptrator...</td>\n",
       "      <td>0</td>\n",
       "    </tr>\n",
       "    <tr>\n",
       "      <th>4</th>\n",
       "      <td>tobacco institute, inc 1776 k street, nortthwe...</td>\n",
       "      <td>0</td>\n",
       "    </tr>\n",
       "  </tbody>\n",
       "</table>\n",
       "</div>"
      ],
      "text/plain": [
       "                                                text label\n",
       "0  aneto pi eth asin 15 fieerih sie, ww washing, ...     0\n",
       "1  ids page 21729 drenee eeepeneectnmnnnne bashin...     0\n",
       "2  philip morris wor 0b, 1977 < senet tybieht laa...     0\n",
       "3  gary l. huber, m.d. chief, division resptrator...     0\n",
       "4  tobacco institute, inc 1776 k street, nortthwe...     0"
      ]
     },
     "execution_count": 17,
     "metadata": {},
     "output_type": "execute_result"
    }
   ],
   "source": [
    "df.head()"
   ]
  },
  {
   "cell_type": "code",
   "execution_count": null,
   "metadata": {},
   "outputs": [],
   "source": []
  },
  {
   "cell_type": "code",
   "execution_count": 23,
   "metadata": {},
   "outputs": [],
   "source": [
    "import re\n",
    "def remove_tags(raw_text):\n",
    "    cleaned_text = re.sub(re.compile('<.*?>'), '', raw_text)\n",
    "    return cleaned_text\n",
    "\n",
    "df['text'] = df['text'].apply(remove_tags)"
   ]
  },
  {
   "cell_type": "code",
   "execution_count": 24,
   "metadata": {},
   "outputs": [],
   "source": [
    "df['text'] = df['text'].apply(lambda x:x.lower())"
   ]
  },
  {
   "cell_type": "code",
   "execution_count": 25,
   "metadata": {},
   "outputs": [
    {
     "data": {
      "text/html": [
       "<div>\n",
       "<style scoped>\n",
       "    .dataframe tbody tr th:only-of-type {\n",
       "        vertical-align: middle;\n",
       "    }\n",
       "\n",
       "    .dataframe tbody tr th {\n",
       "        vertical-align: top;\n",
       "    }\n",
       "\n",
       "    .dataframe thead th {\n",
       "        text-align: right;\n",
       "    }\n",
       "</style>\n",
       "<table border=\"1\" class=\"dataframe\">\n",
       "  <thead>\n",
       "    <tr style=\"text-align: right;\">\n",
       "      <th></th>\n",
       "      <th>text</th>\n",
       "      <th>label</th>\n",
       "    </tr>\n",
       "  </thead>\n",
       "  <tbody>\n",
       "    <tr>\n",
       "      <th>0</th>\n",
       "      <td>aneto pi eth asin 15 fieerih sie, ww washing, ...</td>\n",
       "      <td>0</td>\n",
       "    </tr>\n",
       "    <tr>\n",
       "      <th>1</th>\n",
       "      <td>ids page 21729 drenee eeepeneectnmnnnne bashin...</td>\n",
       "      <td>0</td>\n",
       "    </tr>\n",
       "    <tr>\n",
       "      <th>2</th>\n",
       "      <td>philip morris wor 0b, 1977 &lt; senet tybieht laa...</td>\n",
       "      <td>0</td>\n",
       "    </tr>\n",
       "    <tr>\n",
       "      <th>3</th>\n",
       "      <td>gary l. huber, m.d. chief, division resptrator...</td>\n",
       "      <td>0</td>\n",
       "    </tr>\n",
       "    <tr>\n",
       "      <th>4</th>\n",
       "      <td>tobacco institute, inc 1776 k street, nortthwe...</td>\n",
       "      <td>0</td>\n",
       "    </tr>\n",
       "  </tbody>\n",
       "</table>\n",
       "</div>"
      ],
      "text/plain": [
       "                                                text label\n",
       "0  aneto pi eth asin 15 fieerih sie, ww washing, ...     0\n",
       "1  ids page 21729 drenee eeepeneectnmnnnne bashin...     0\n",
       "2  philip morris wor 0b, 1977 < senet tybieht laa...     0\n",
       "3  gary l. huber, m.d. chief, division resptrator...     0\n",
       "4  tobacco institute, inc 1776 k street, nortthwe...     0"
      ]
     },
     "execution_count": 25,
     "metadata": {},
     "output_type": "execute_result"
    }
   ],
   "source": [
    "df.head()"
   ]
  },
  {
   "cell_type": "code",
   "execution_count": 26,
   "metadata": {},
   "outputs": [],
   "source": [
    "from sklearn.preprocessing import LabelEncoder\n",
    "\n",
    "le = LabelEncoder()\n",
    "df.label = le.fit_transform(df.label)  # Converts labels to sequential values\n"
   ]
  },
  {
   "cell_type": "code",
   "execution_count": 27,
   "metadata": {},
   "outputs": [],
   "source": [
    "# tokenize\n",
    "def tokenize(text):\n",
    "  text = text.lower()\n",
    "  text = text.replace('?','')\n",
    "  text = text.replace(\"'\",\"\")\n",
    "  return text.split()"
   ]
  },
  {
   "cell_type": "code",
   "execution_count": 28,
   "metadata": {},
   "outputs": [],
   "source": [
    "tokenize('What is the capital of France?')\n",
    "# vocab\n",
    "vocab = {'<UNK>':0}"
   ]
  },
  {
   "cell_type": "code",
   "execution_count": 29,
   "metadata": {},
   "outputs": [
    {
     "data": {
      "text/plain": [
       "0       None\n",
       "1       None\n",
       "2       None\n",
       "3       None\n",
       "4       None\n",
       "        ... \n",
       "2495    None\n",
       "2496    None\n",
       "2497    None\n",
       "2498    None\n",
       "2499    None\n",
       "Length: 2445, dtype: object"
      ]
     },
     "execution_count": 29,
     "metadata": {},
     "output_type": "execute_result"
    }
   ],
   "source": [
    "def build_vocab(row):\n",
    "    tokenized_text = tokenize(row['text'])  # Tokenized words from content\n",
    "    output = [str(row['label'])]  # Convert label to a list\n",
    "\n",
    "    merged_tokens = tokenized_text + output  # Now it's safe to concatenate\n",
    "\n",
    "    for token in merged_tokens:\n",
    "        if token not in vocab:\n",
    "            vocab[token] = len(vocab)\n",
    "\n",
    "df.apply(build_vocab, axis=1)  # Ensure `axis=1` for row-wise processing"
   ]
  },
  {
   "cell_type": "code",
   "execution_count": 30,
   "metadata": {},
   "outputs": [
    {
     "data": {
      "text/plain": [
       "text     0\n",
       "label    0\n",
       "dtype: int64"
      ]
     },
     "execution_count": 30,
     "metadata": {},
     "output_type": "execute_result"
    }
   ],
   "source": [
    "df.isnull().sum()"
   ]
  },
  {
   "cell_type": "code",
   "execution_count": 31,
   "metadata": {},
   "outputs": [
    {
     "data": {
      "text/plain": [
       "133855"
      ]
     },
     "execution_count": 31,
     "metadata": {},
     "output_type": "execute_result"
    }
   ],
   "source": [
    "len(vocab)"
   ]
  },
  {
   "cell_type": "code",
   "execution_count": 32,
   "metadata": {},
   "outputs": [],
   "source": [
    "# convert words to numerical indices\n",
    "def text_to_indices(text, vocab):\n",
    "\n",
    "  indexed_text = []\n",
    "\n",
    "  for token in tokenize(text):\n",
    "\n",
    "    if token in vocab:\n",
    "      indexed_text.append(vocab[token])\n",
    "    else:\n",
    "      indexed_text.append(vocab['<UNK>'])\n",
    "\n",
    "  return indexed_text"
   ]
  },
  {
   "cell_type": "code",
   "execution_count": 33,
   "metadata": {},
   "outputs": [
    {
     "data": {
      "text/plain": [
       "[24940, 26761, 45001]"
      ]
     },
     "execution_count": 33,
     "metadata": {},
     "output_type": "execute_result"
    }
   ],
   "source": [
    "text_to_indices(\"What is cake\", vocab)"
   ]
  },
  {
   "cell_type": "code",
   "execution_count": 164,
   "metadata": {},
   "outputs": [],
   "source": [
    "import torch.nn as nn\n",
    "\n",
    "class SimpleRNN(nn.Module):\n",
    "    def __init__(self, vocab_size, embedding_dim=50, hidden_dim=64, dropout_rate=0.5):\n",
    "        super().__init__()\n",
    "        self.embedding = nn.Embedding(vocab_size, embedding_dim)\n",
    "        self.rnn = nn.RNN(embedding_dim, hidden_dim, batch_first=True)\n",
    "        self.dropout = nn.Dropout(dropout_rate)  # Add dropout layer\n",
    "        self.fc = nn.Linear(hidden_dim, vocab_size)\n",
    "\n",
    "    def forward(self, text):\n",
    "        embedded_text = self.embedding(text)  # Shape: [batch_size, seq_length, embedding_dim]\n",
    "        hidden, _ = self.rnn(embedded_text)   # `hidden`: all timesteps\n",
    "\n",
    "        # Apply dropout to the last hidden state (hidden[:, -1, :])\n",
    "        dropped_hidden = self.dropout(hidden[:, -1, :])  # Shape: [batch_size, hidden_dim]\n",
    "        output = self.fc(dropped_hidden)  # Shape: [batch_size, vocab_size]\n",
    "\n",
    "        return output"
   ]
  },
  {
   "cell_type": "code",
   "execution_count": 46,
   "metadata": {},
   "outputs": [],
   "source": [
    "from collections import Counter\n",
    "\n",
    "# Step 1: Extract words from the existing vocabulary\n",
    "word_list = list(vocab.keys())  # Get current vocabulary words\n",
    "\n",
    "# Step 2: Count occurrences (if vocab is frequency-based, otherwise assume all words are used equally)\n",
    "word_counts = Counter(word_list)  # If vocab does NOT store frequencies, adapt this step\n",
    "\n",
    "# Step 3: Keep only the top N most frequent words\n",
    "top_n = 10000  # Adjust based on desired vocabulary size\n",
    "most_common_words = [word for word, _ in word_counts.most_common(top_n)]\n",
    "\n",
    "# Step 4: Create a new vocabulary dictionary with reduced size\n",
    "newvocab = {word: idx for idx, word in enumerate(most_common_words)}\n",
    "\n",
    "# Step 5: Add <UNK> token for words not in the top N\n",
    "UNK_TOKEN = \"<UNK>\"\n",
    "newvocab[UNK_TOKEN] = len(newvocab)  # Assign an index for unknown words"
   ]
  },
  {
   "cell_type": "code",
   "execution_count": 47,
   "metadata": {},
   "outputs": [
    {
     "data": {
      "text/plain": [
       "10000"
      ]
     },
     "execution_count": 47,
     "metadata": {},
     "output_type": "execute_result"
    }
   ],
   "source": [
    "len(newvocab)"
   ]
  },
  {
   "cell_type": "code",
   "execution_count": 97,
   "metadata": {},
   "outputs": [],
   "source": [
    "def collate_fn(batch):\n",
    "    texts, labels = zip(*batch)\n",
    "    texts = [text if len(text) > 0 else [0] for text in texts]\n",
    "    padded_texts = pad_sequence([torch.tensor(text) for text in texts], batch_first=True, padding_value=0)\n",
    "    labels = torch.tensor(labels, dtype=torch.long)\n",
    "    \n",
    "    # Debugging shapes\n",
    "    #print(f\"Padded Texts Shape: {padded_texts.shape}, Labels Shape: {labels.shape}\")\n",
    "    return padded_texts, labels"
   ]
  },
  {
   "cell_type": "code",
   "execution_count": 98,
   "metadata": {},
   "outputs": [],
   "source": [
    "x = df.iloc[:,0:1]\n",
    "y = df['label']"
   ]
  },
  {
   "cell_type": "code",
   "execution_count": 99,
   "metadata": {},
   "outputs": [],
   "source": [
    "\n",
    "class textDataset(Dataset):\n",
    "    def __init__(self, x, y, vocab):\n",
    "        self.x = x  # Assumes DataFrame or similar structure\n",
    "        self.y = y  # Assumes DataFrame or Series\n",
    "        self.vocab = vocab  # Vocabulary mapping for text-to-indices conversion\n",
    "\n",
    "    def __len__(self):\n",
    "        return len(self.x)  # Safe length calculation\n",
    "\n",
    "    def __getitem__(self, index):\n",
    "        # Use valid indexing for DataFrame or Series\n",
    "        input = text_to_indices(self.x.iloc[index]['text'], self.vocab)  # Or use .loc\n",
    "        output = self.y.iloc[index]  # Access label directly\n",
    "        return torch.tensor(input, dtype=torch.long), torch.tensor(output, dtype=torch.long)"
   ]
  },
  {
   "cell_type": "code",
   "execution_count": 100,
   "metadata": {},
   "outputs": [],
   "source": [
    "dataset = textDataset(x,y, vocab)\n",
    "dataloader = DataLoader(dataset, batch_size=1, shuffle=True, collate_fn=collate_fn)"
   ]
  },
  {
   "cell_type": "code",
   "execution_count": 101,
   "metadata": {},
   "outputs": [
    {
     "name": "stdout",
     "output_type": "stream",
     "text": [
      "tensor([[37559,   492, 14156,  6571, 37560, 17111,   492, 14156, 37561,  1415,\n",
      "         37562,  1513,  2372, 14869,   173, 37563,  6312,  7055,  5992, 37564,\n",
      "          1415,   492, 26730,   155, 37565, 37566,  5309, 37567, 37568,  1257,\n",
      "           969,   721,   173,  7028,  2625,   938, 17216, 37569, 28397, 37570,\n",
      "          1734,  1475,   969,   173,  1887, 37571, 37572, 14013,  1513, 34553,\n",
      "         24560,  3096,   173, 37573,  1005,  9496,   198,  1444,  1446, 28397,\n",
      "          4474,  6537, 37574, 37575,  9041, 37576, 28397, 37570,  8465, 19761,\n",
      "         37564,  1415, 37564, 37577,  1257,  3753, 37578,  3671, 34263,   173,\n",
      "          4349, 37579,   173, 29083,  4407,   112, 37580,   173, 37581,  1027,\n",
      "         37582, 37583,   732, 37584, 37585,   173, 37564, 37586, 37564, 37587,\n",
      "         37564, 37588,  1427,    23, 36947, 37589,   969, 36947, 17285, 31225,\n",
      "         37590, 12252,  3313, 37591,  1239, 10238,   505,  1239,   693,   173,\n",
      "         17592, 10931, 24833,  4058, 37592, 10698, 36949, 37593,   492,  5757,\n",
      "         37564,  4356, 37594,  7866, 37595, 14408, 37596, 37597, 37598]]) tensor([2])\n"
     ]
    }
   ],
   "source": [
    "for i,j in dataloader:\n",
    "    print(i,j)\n",
    "    break"
   ]
  },
  {
   "cell_type": "code",
   "execution_count": 105,
   "metadata": {},
   "outputs": [
    {
     "name": "stdout",
     "output_type": "stream",
     "text": [
      "shape of a: torch.Size([1, 67])\n",
      "shape of b: torch.Size([1, 67, 50])\n",
      "shape of c: torch.Size([1, 67, 64])\n",
      "shape of d: torch.Size([1, 1, 64])\n",
      "shape of e: torch.Size([1, 133855])\n"
     ]
    }
   ],
   "source": [
    "#sample \n",
    "x1 = nn.Embedding(len(vocab), embedding_dim=50)\n",
    "y = nn.RNN(50, 64, batch_first=True)\n",
    "z = nn.Linear(64, len(vocab))\n",
    "a = dataset[0][0].reshape(1, dataset[0][0].shape[0])  # Use shape[0] to get the size of the first dimension\n",
    "print(\"shape of a:\", a.shape)\n",
    "\n",
    "b = x1(a)\n",
    "print(\"shape of b:\", b.shape)\n",
    "\n",
    "c, d = y(b)\n",
    "print(\"shape of c:\", c.shape)\n",
    "print(\"shape of d:\", d.shape)\n",
    "\n",
    "e = z(d.squeeze(0))\n",
    "print(\"shape of e:\", e.shape)"
   ]
  },
  {
   "cell_type": "code",
   "execution_count": 106,
   "metadata": {},
   "outputs": [
    {
     "name": "stdout",
     "output_type": "stream",
     "text": [
      "Epoch: 1, Loss: 11.95858383178711\n",
      "Epoch: 2, Loss: 11.854532241821289\n"
     ]
    }
   ],
   "source": [
    "#sample run\n",
    "learning_rate = 0.01\n",
    "epochs = 20\n",
    "model = SimpleRNN(len(vocab))\n",
    "criterion = nn.CrossEntropyLoss()\n",
    "optimizer = torch.optim.Adam(model.parameters(), lr=learning_rate)\n",
    "for epoch in range(2):\n",
    "  total_loss = 0\n",
    "  for text, label in dataloader:\n",
    "    optimizer.zero_grad()\n",
    "    output = model(text)\n",
    "    loss = criterion(output, label)\n",
    "    loss.backward()\n",
    "    optimizer.step()\n",
    "    total_loss += loss.item()\n",
    "    \n",
    "    break\n",
    "  print(f\"Epoch: {epoch+1}, Loss: {total_loss}\")"
   ]
  },
  {
   "cell_type": "code",
   "execution_count": null,
   "metadata": {},
   "outputs": [
    {
     "name": "stdout",
     "output_type": "stream",
     "text": [
      "Epoch: 1, Loss: 11.823830604553223\n",
      "Epoch: 2, Loss: 11.880606651306152\n",
      "Epoch: 3, Loss: 11.764530181884766\n",
      "Epoch: 4, Loss: 11.761880874633789\n",
      "Epoch: 5, Loss: 9.388741493225098\n",
      "Epoch: 6, Loss: 8.350868225097656\n",
      "Epoch: 7, Loss: 7.423868179321289\n",
      "Epoch: 8, Loss: 4.259916305541992\n",
      "Epoch: 9, Loss: 4.0007476806640625\n",
      "Epoch: 10, Loss: 1.6942462921142578\n",
      "Epoch: 11, Loss: 1.6287733316421509\n",
      "Epoch: 12, Loss: 15.396666526794434\n",
      "Epoch: 13, Loss: 1.594033122062683\n",
      "Epoch: 14, Loss: 1.1389309167861938\n",
      "Epoch: 15, Loss: 1.7062389850616455\n",
      "Epoch: 16, Loss: 1.9740917682647705\n",
      "Epoch: 17, Loss: 3.8530802726745605\n",
      "Epoch: 18, Loss: 3.5632669925689697\n",
      "Epoch: 19, Loss: 1.4472596645355225\n",
      "Epoch: 20, Loss: 2.2980175018310547\n",
      "Epoch: 21, Loss: 12.871048927307129\n",
      "Epoch: 22, Loss: 1.8813711404800415\n",
      "Epoch: 23, Loss: 0.7137506008148193\n",
      "Epoch: 24, Loss: 0.40702879428863525\n",
      "Epoch: 25, Loss: 11.365814208984375\n",
      "Epoch: 26, Loss: 3.334686040878296\n",
      "Epoch: 27, Loss: 3.7203919887542725\n",
      "Epoch: 28, Loss: 3.2666420936584473\n",
      "Epoch: 29, Loss: 0.2671213448047638\n",
      "Epoch: 30, Loss: 0.41307273507118225\n",
      "Epoch: 31, Loss: 3.23117995262146\n",
      "Epoch: 32, Loss: 1.8758705854415894\n",
      "Epoch: 33, Loss: 1.5731947422027588\n",
      "Epoch: 34, Loss: 1.14005708694458\n",
      "Epoch: 35, Loss: 2.64377760887146\n",
      "Epoch: 36, Loss: 0.4570644795894623\n",
      "Epoch: 37, Loss: 4.873703479766846\n",
      "Epoch: 38, Loss: 4.003310203552246\n",
      "Epoch: 39, Loss: 1.9194308519363403\n",
      "Epoch: 40, Loss: 3.1066596508026123\n",
      "Epoch: 41, Loss: 0.9401506185531616\n",
      "Epoch: 42, Loss: 1.366843581199646\n",
      "Epoch: 43, Loss: 4.224780559539795\n",
      "Epoch: 44, Loss: 4.771032810211182\n",
      "Epoch: 45, Loss: 0.7567253112792969\n",
      "Epoch: 46, Loss: 4.0113043785095215\n",
      "Epoch: 47, Loss: 0.7218943238258362\n",
      "Epoch: 48, Loss: 2.987037181854248\n",
      "Epoch: 49, Loss: 2.9525015354156494\n",
      "Epoch: 50, Loss: 2.7520928382873535\n"
     ]
    }
   ],
   "source": [
    "criterion = nn.CrossEntropyLoss()\n",
    "learning_rate = 0.02\n",
    "model = SimpleRNN(len(vocab))\n",
    "\n",
    "for params in model.parameters():\n",
    "    if params.dim() > 1:\n",
    "        nn.init.xavier_uniform_(params)\n",
    "\n",
    "optimizer = torch.optim.Adam(model.parameters(), lr=learning_rate)\n",
    "epochs=50\n",
    "\n",
    "\n",
    "for epoch in range(epochs):\n",
    "  total_loss = 0\n",
    "  for text, label in dataloader:\n",
    "    if len(text)<=0:\n",
    "      continue\n",
    "    \n",
    "    optimizer.zero_grad()\n",
    "    output = model(text)\n",
    "    loss = criterion(output, label)\n",
    "    loss.backward()\n",
    "    optimizer.step()\n",
    "    total_loss += loss.item()\n",
    "    break\n",
    "  print(f\"Epoch: {epoch+1}, Loss: {total_loss}\")"
   ]
  },
  {
   "cell_type": "code",
   "execution_count": null,
   "metadata": {},
   "outputs": [],
   "source": []
  },
  {
   "cell_type": "code",
   "execution_count": null,
   "metadata": {},
   "outputs": [],
   "source": []
  },
  {
   "cell_type": "code",
   "execution_count": 114,
   "metadata": {},
   "outputs": [],
   "source": [
    "#train the model"
   ]
  },
  {
   "cell_type": "code",
   "execution_count": 126,
   "metadata": {},
   "outputs": [],
   "source": [
    "from sklearn.model_selection import train_test_split\n",
    "x = df.iloc[:,0:1]\n",
    "y = df['label']\n",
    "X_train,X_test,y_train,y_test = train_test_split(x,y,test_size=0.2,random_state=1)"
   ]
  },
  {
   "cell_type": "code",
   "execution_count": 131,
   "metadata": {},
   "outputs": [],
   "source": [
    "batch_size=32\n",
    "train_dataset = textDataset(X_train, y_train,vocab)\n",
    "test_dataset = textDataset(X_test, y_test,vocab)\n",
    "train_loader = DataLoader(train_dataset, batch_size=batch_size, shuffle=True,collate_fn=collate_fn)\n",
    "test_loader = DataLoader(test_dataset, batch_size=batch_size, shuffle=False, collate_fn=collate_fn)"
   ]
  },
  {
   "cell_type": "code",
   "execution_count": null,
   "metadata": {},
   "outputs": [],
   "source": []
  },
  {
   "cell_type": "code",
   "execution_count": 165,
   "metadata": {},
   "outputs": [
    {
     "name": "stdout",
     "output_type": "stream",
     "text": [
      "\n",
      "Starting training for learning rate: 0.001\n",
      "Learning Rate: 0.001, Epoch: 1, Loss: 11.833118438720703\n",
      "Learning Rate: 0.001, Epoch: 2, Loss: 11.755436897277832\n",
      "Learning Rate: 0.001, Epoch: 3, Loss: 11.705976486206055\n",
      "Learning Rate: 0.001, Epoch: 4, Loss: 11.61379337310791\n",
      "Learning Rate: 0.001, Epoch: 5, Loss: 11.5326566696167\n",
      "Learning Rate: 0.001, Epoch: 6, Loss: 11.447927474975586\n",
      "Learning Rate: 0.001, Epoch: 7, Loss: 11.39208698272705\n",
      "Learning Rate: 0.001, Epoch: 8, Loss: 11.286421775817871\n",
      "Learning Rate: 0.001, Epoch: 9, Loss: 11.151686668395996\n",
      "Learning Rate: 0.001, Epoch: 10, Loss: 11.020421981811523\n",
      "Learning Rate: 0.001, Epoch: 11, Loss: 10.935009002685547\n",
      "Learning Rate: 0.001, Epoch: 12, Loss: 10.829919815063477\n",
      "Learning Rate: 0.001, Epoch: 13, Loss: 10.681609153747559\n",
      "Learning Rate: 0.001, Epoch: 14, Loss: 10.54857349395752\n",
      "Learning Rate: 0.001, Epoch: 15, Loss: 10.431892395019531\n",
      "Learning Rate: 0.001, Epoch: 16, Loss: 10.290907859802246\n",
      "Learning Rate: 0.001, Epoch: 17, Loss: 10.141636848449707\n",
      "Learning Rate: 0.001, Epoch: 18, Loss: 10.012389183044434\n",
      "Learning Rate: 0.001, Epoch: 19, Loss: 9.894979476928711\n",
      "Learning Rate: 0.001, Epoch: 20, Loss: 9.681920051574707\n",
      "Learning Rate: 0.001, Epoch: 21, Loss: 9.558152198791504\n",
      "Learning Rate: 0.001, Epoch: 22, Loss: 9.409955024719238\n",
      "Learning Rate: 0.001, Epoch: 23, Loss: 9.265999794006348\n",
      "Learning Rate: 0.001, Epoch: 24, Loss: 9.09862232208252\n",
      "Learning Rate: 0.001, Epoch: 25, Loss: 8.99367618560791\n",
      "Learning Rate: 0.001, Epoch: 26, Loss: 8.798245429992676\n",
      "Learning Rate: 0.001, Epoch: 27, Loss: 8.630901336669922\n",
      "Learning Rate: 0.001, Epoch: 28, Loss: 8.520206451416016\n",
      "Learning Rate: 0.001, Epoch: 29, Loss: 8.30004596710205\n",
      "Learning Rate: 0.001, Epoch: 30, Loss: 8.161747932434082\n",
      "Learning Rate: 0.001, Epoch: 31, Loss: 8.031611442565918\n",
      "Learning Rate: 0.001, Epoch: 32, Loss: 7.912057876586914\n",
      "Learning Rate: 0.001, Epoch: 33, Loss: 7.769873142242432\n",
      "Learning Rate: 0.001, Epoch: 34, Loss: 7.586554527282715\n",
      "Learning Rate: 0.001, Epoch: 35, Loss: 7.510383129119873\n",
      "Learning Rate: 0.001, Epoch: 36, Loss: 7.23451042175293\n",
      "Learning Rate: 0.001, Epoch: 37, Loss: 7.143055438995361\n",
      "Learning Rate: 0.001, Epoch: 38, Loss: 6.961653709411621\n",
      "Learning Rate: 0.001, Epoch: 39, Loss: 6.854822635650635\n",
      "Learning Rate: 0.001, Epoch: 40, Loss: 6.699615001678467\n",
      "Learning Rate: 0.001, Epoch: 41, Loss: 6.6108198165893555\n",
      "Learning Rate: 0.001, Epoch: 42, Loss: 6.3844380378723145\n",
      "Learning Rate: 0.001, Epoch: 43, Loss: 6.286198139190674\n",
      "Learning Rate: 0.001, Epoch: 44, Loss: 6.082945823669434\n",
      "Learning Rate: 0.001, Epoch: 45, Loss: 5.961380958557129\n",
      "Learning Rate: 0.001, Epoch: 46, Loss: 5.761739253997803\n",
      "Learning Rate: 0.001, Epoch: 47, Loss: 5.692713260650635\n",
      "Learning Rate: 0.001, Epoch: 48, Loss: 5.563669681549072\n",
      "Learning Rate: 0.001, Epoch: 49, Loss: 5.433570861816406\n",
      "Learning Rate: 0.001, Epoch: 50, Loss: 5.309022426605225\n",
      "\n",
      "Starting training for learning rate: 0.005\n",
      "Learning Rate: 0.005, Epoch: 1, Loss: 11.786245346069336\n",
      "Learning Rate: 0.005, Epoch: 2, Loss: 11.558880805969238\n",
      "Learning Rate: 0.005, Epoch: 3, Loss: 11.160269737243652\n",
      "Learning Rate: 0.005, Epoch: 4, Loss: 10.605263710021973\n",
      "Learning Rate: 0.005, Epoch: 5, Loss: 10.05897045135498\n",
      "Learning Rate: 0.005, Epoch: 6, Loss: 9.426383018493652\n",
      "Learning Rate: 0.005, Epoch: 7, Loss: 8.874316215515137\n",
      "Learning Rate: 0.005, Epoch: 8, Loss: 8.143446922302246\n",
      "Learning Rate: 0.005, Epoch: 9, Loss: 7.549856185913086\n",
      "Learning Rate: 0.005, Epoch: 10, Loss: 6.917586326599121\n",
      "Learning Rate: 0.005, Epoch: 11, Loss: 6.26810884475708\n",
      "Learning Rate: 0.005, Epoch: 12, Loss: 5.698465824127197\n",
      "Learning Rate: 0.005, Epoch: 13, Loss: 4.984650611877441\n",
      "Learning Rate: 0.005, Epoch: 14, Loss: 4.394516944885254\n",
      "Learning Rate: 0.005, Epoch: 15, Loss: 3.7246041297912598\n",
      "Learning Rate: 0.005, Epoch: 16, Loss: 3.1054165363311768\n",
      "Learning Rate: 0.005, Epoch: 17, Loss: 2.6637818813323975\n",
      "Learning Rate: 0.005, Epoch: 18, Loss: 2.36437726020813\n",
      "Learning Rate: 0.005, Epoch: 19, Loss: 2.151628017425537\n",
      "Learning Rate: 0.005, Epoch: 20, Loss: 1.8544992208480835\n",
      "Learning Rate: 0.005, Epoch: 21, Loss: 1.78350031375885\n",
      "Learning Rate: 0.005, Epoch: 22, Loss: 1.7690937519073486\n",
      "Learning Rate: 0.005, Epoch: 23, Loss: 1.6910133361816406\n",
      "Learning Rate: 0.005, Epoch: 24, Loss: 1.6977308988571167\n",
      "Learning Rate: 0.005, Epoch: 25, Loss: 1.6297489404678345\n",
      "Learning Rate: 0.005, Epoch: 26, Loss: 1.6468772888183594\n",
      "Learning Rate: 0.005, Epoch: 27, Loss: 1.5881949663162231\n",
      "Learning Rate: 0.005, Epoch: 28, Loss: 1.6583452224731445\n",
      "Learning Rate: 0.005, Epoch: 29, Loss: 1.6044831275939941\n",
      "Learning Rate: 0.005, Epoch: 30, Loss: 1.7027478218078613\n",
      "Learning Rate: 0.005, Epoch: 31, Loss: 1.705152153968811\n",
      "Learning Rate: 0.005, Epoch: 32, Loss: 1.634352684020996\n",
      "Learning Rate: 0.005, Epoch: 33, Loss: 1.5876001119613647\n",
      "Learning Rate: 0.005, Epoch: 34, Loss: 1.5786445140838623\n",
      "Learning Rate: 0.005, Epoch: 35, Loss: 1.6190229654312134\n",
      "Learning Rate: 0.005, Epoch: 36, Loss: 1.6298422813415527\n",
      "Learning Rate: 0.005, Epoch: 37, Loss: 1.6479244232177734\n",
      "Learning Rate: 0.005, Epoch: 38, Loss: 1.6229519844055176\n",
      "Learning Rate: 0.005, Epoch: 39, Loss: 1.6358275413513184\n",
      "Learning Rate: 0.005, Epoch: 40, Loss: 1.649402141571045\n",
      "Learning Rate: 0.005, Epoch: 41, Loss: 1.5912201404571533\n",
      "Learning Rate: 0.005, Epoch: 42, Loss: 1.6923476457595825\n",
      "Learning Rate: 0.005, Epoch: 43, Loss: 1.6700812578201294\n",
      "Learning Rate: 0.005, Epoch: 44, Loss: 1.6496933698654175\n",
      "Learning Rate: 0.005, Epoch: 45, Loss: 1.612834095954895\n",
      "Learning Rate: 0.005, Epoch: 46, Loss: 1.5496779680252075\n",
      "Learning Rate: 0.005, Epoch: 47, Loss: 1.6676663160324097\n",
      "Learning Rate: 0.005, Epoch: 48, Loss: 1.6966900825500488\n",
      "Learning Rate: 0.005, Epoch: 49, Loss: 1.6237365007400513\n",
      "Learning Rate: 0.005, Epoch: 50, Loss: 1.6243491172790527\n",
      "\n",
      "Starting training for learning rate: 0.01\n",
      "Learning Rate: 0.01, Epoch: 1, Loss: 11.844231605529785\n",
      "Learning Rate: 0.01, Epoch: 2, Loss: 11.505755424499512\n",
      "Learning Rate: 0.01, Epoch: 3, Loss: 10.701828956604004\n",
      "Learning Rate: 0.01, Epoch: 4, Loss: 9.670755386352539\n",
      "Learning Rate: 0.01, Epoch: 5, Loss: 8.558876991271973\n",
      "Learning Rate: 0.01, Epoch: 6, Loss: 7.372825622558594\n",
      "Learning Rate: 0.01, Epoch: 7, Loss: 6.112060070037842\n",
      "Learning Rate: 0.01, Epoch: 8, Loss: 4.8582444190979\n",
      "Learning Rate: 0.01, Epoch: 9, Loss: 3.7125821113586426\n",
      "Learning Rate: 0.01, Epoch: 10, Loss: 2.7093732357025146\n",
      "Learning Rate: 0.01, Epoch: 11, Loss: 2.0858311653137207\n",
      "Learning Rate: 0.01, Epoch: 12, Loss: 1.7841811180114746\n",
      "Learning Rate: 0.01, Epoch: 13, Loss: 1.68662691116333\n",
      "Learning Rate: 0.01, Epoch: 14, Loss: 1.6491848230361938\n",
      "Learning Rate: 0.01, Epoch: 15, Loss: 1.5899081230163574\n",
      "Learning Rate: 0.01, Epoch: 16, Loss: 1.6763261556625366\n",
      "Learning Rate: 0.01, Epoch: 17, Loss: 1.613027572631836\n",
      "Learning Rate: 0.01, Epoch: 18, Loss: 1.6711499691009521\n",
      "Learning Rate: 0.01, Epoch: 19, Loss: 1.658410906791687\n",
      "Learning Rate: 0.01, Epoch: 20, Loss: 1.6572067737579346\n",
      "Learning Rate: 0.01, Epoch: 21, Loss: 1.6177922487258911\n",
      "Learning Rate: 0.01, Epoch: 22, Loss: 1.7062864303588867\n",
      "Learning Rate: 0.01, Epoch: 23, Loss: 1.625884771347046\n",
      "Learning Rate: 0.01, Epoch: 24, Loss: 1.6373200416564941\n",
      "Learning Rate: 0.01, Epoch: 25, Loss: 1.5587506294250488\n",
      "Learning Rate: 0.01, Epoch: 26, Loss: 1.5959168672561646\n",
      "Learning Rate: 0.01, Epoch: 27, Loss: 1.6328238248825073\n",
      "Learning Rate: 0.01, Epoch: 28, Loss: 1.642590045928955\n",
      "Learning Rate: 0.01, Epoch: 29, Loss: 1.6548380851745605\n",
      "Learning Rate: 0.01, Epoch: 30, Loss: 1.6215219497680664\n",
      "Learning Rate: 0.01, Epoch: 31, Loss: 1.7424514293670654\n",
      "Learning Rate: 0.01, Epoch: 32, Loss: 1.7001193761825562\n",
      "Learning Rate: 0.01, Epoch: 33, Loss: 1.5885837078094482\n",
      "Learning Rate: 0.01, Epoch: 34, Loss: 1.6100419759750366\n",
      "Learning Rate: 0.01, Epoch: 35, Loss: 1.589407205581665\n",
      "Learning Rate: 0.01, Epoch: 36, Loss: 1.6080036163330078\n",
      "Learning Rate: 0.01, Epoch: 37, Loss: 1.6629406213760376\n",
      "Learning Rate: 0.01, Epoch: 38, Loss: 1.6564610004425049\n",
      "Learning Rate: 0.01, Epoch: 39, Loss: 1.6904045343399048\n",
      "Learning Rate: 0.01, Epoch: 40, Loss: 1.7286040782928467\n",
      "Learning Rate: 0.01, Epoch: 41, Loss: 1.6490098237991333\n",
      "Learning Rate: 0.01, Epoch: 42, Loss: 1.6982492208480835\n",
      "Learning Rate: 0.01, Epoch: 43, Loss: 1.5664167404174805\n",
      "Learning Rate: 0.01, Epoch: 44, Loss: 1.6459572315216064\n",
      "Learning Rate: 0.01, Epoch: 45, Loss: 1.5819275379180908\n",
      "Learning Rate: 0.01, Epoch: 46, Loss: 1.6750943660736084\n",
      "Learning Rate: 0.01, Epoch: 47, Loss: 1.6273006200790405\n",
      "Learning Rate: 0.01, Epoch: 48, Loss: 1.684692144393921\n",
      "Learning Rate: 0.01, Epoch: 49, Loss: 1.6582632064819336\n",
      "Learning Rate: 0.01, Epoch: 50, Loss: 1.6506788730621338\n",
      "\n",
      "Starting training for learning rate: 0.02\n",
      "Learning Rate: 0.02, Epoch: 1, Loss: 11.824110984802246\n",
      "Learning Rate: 0.02, Epoch: 2, Loss: 11.631006240844727\n",
      "Learning Rate: 0.02, Epoch: 3, Loss: 10.127809524536133\n",
      "Learning Rate: 0.02, Epoch: 4, Loss: 7.82846736907959\n",
      "Learning Rate: 0.02, Epoch: 5, Loss: 5.488515853881836\n",
      "Learning Rate: 0.02, Epoch: 6, Loss: 3.2417256832122803\n",
      "Learning Rate: 0.02, Epoch: 7, Loss: 1.8922991752624512\n",
      "Learning Rate: 0.02, Epoch: 8, Loss: 1.6404497623443604\n",
      "Learning Rate: 0.02, Epoch: 9, Loss: 1.7553528547286987\n",
      "Learning Rate: 0.02, Epoch: 10, Loss: 1.6882119178771973\n",
      "Learning Rate: 0.02, Epoch: 11, Loss: 1.7148910760879517\n",
      "Learning Rate: 0.02, Epoch: 12, Loss: 1.6681827306747437\n",
      "Learning Rate: 0.02, Epoch: 13, Loss: 1.6191637516021729\n",
      "Learning Rate: 0.02, Epoch: 14, Loss: 1.6785966157913208\n",
      "Learning Rate: 0.02, Epoch: 15, Loss: 1.6817729473114014\n",
      "Learning Rate: 0.02, Epoch: 16, Loss: 1.5889782905578613\n",
      "Learning Rate: 0.02, Epoch: 17, Loss: 1.6696152687072754\n",
      "Learning Rate: 0.02, Epoch: 18, Loss: 1.6083006858825684\n",
      "Learning Rate: 0.02, Epoch: 19, Loss: 1.6234592199325562\n",
      "Learning Rate: 0.02, Epoch: 20, Loss: 1.6203445196151733\n",
      "Learning Rate: 0.02, Epoch: 21, Loss: 1.6522971391677856\n",
      "Learning Rate: 0.02, Epoch: 22, Loss: 1.6807764768600464\n",
      "Learning Rate: 0.02, Epoch: 23, Loss: 1.5874531269073486\n",
      "Learning Rate: 0.02, Epoch: 24, Loss: 1.691941738128662\n",
      "Learning Rate: 0.02, Epoch: 25, Loss: 1.5738276243209839\n",
      "Learning Rate: 0.02, Epoch: 26, Loss: 1.6183828115463257\n",
      "Learning Rate: 0.02, Epoch: 27, Loss: 1.7291702032089233\n",
      "Learning Rate: 0.02, Epoch: 28, Loss: 1.6910134553909302\n",
      "Learning Rate: 0.02, Epoch: 29, Loss: 1.6694444417953491\n",
      "Learning Rate: 0.02, Epoch: 30, Loss: 1.5686923265457153\n",
      "Learning Rate: 0.02, Epoch: 31, Loss: 1.6430881023406982\n",
      "Learning Rate: 0.02, Epoch: 32, Loss: 1.7225514650344849\n",
      "Learning Rate: 0.02, Epoch: 33, Loss: 1.6907317638397217\n",
      "Learning Rate: 0.02, Epoch: 34, Loss: 1.7185778617858887\n",
      "Learning Rate: 0.02, Epoch: 35, Loss: 1.7081122398376465\n",
      "Learning Rate: 0.02, Epoch: 36, Loss: 1.7332432270050049\n",
      "Learning Rate: 0.02, Epoch: 37, Loss: 1.6600412130355835\n",
      "Learning Rate: 0.02, Epoch: 38, Loss: 1.657060146331787\n",
      "Learning Rate: 0.02, Epoch: 39, Loss: 1.5943764448165894\n",
      "Learning Rate: 0.02, Epoch: 40, Loss: 1.6869757175445557\n",
      "Learning Rate: 0.02, Epoch: 41, Loss: 1.8637195825576782\n",
      "Learning Rate: 0.02, Epoch: 42, Loss: 1.7376370429992676\n",
      "Learning Rate: 0.02, Epoch: 43, Loss: 1.6225717067718506\n",
      "Learning Rate: 0.02, Epoch: 44, Loss: 1.6133825778961182\n",
      "Learning Rate: 0.02, Epoch: 45, Loss: 1.700937271118164\n",
      "Learning Rate: 0.02, Epoch: 46, Loss: 1.711471438407898\n",
      "Learning Rate: 0.02, Epoch: 47, Loss: 1.7179348468780518\n",
      "Learning Rate: 0.02, Epoch: 48, Loss: 1.6142085790634155\n",
      "Learning Rate: 0.02, Epoch: 49, Loss: 1.6387640237808228\n",
      "Learning Rate: 0.02, Epoch: 50, Loss: 1.7384337186813354\n",
      "\n",
      "Starting training for learning rate: 0.05\n",
      "Learning Rate: 0.05, Epoch: 1, Loss: 11.844283103942871\n",
      "Learning Rate: 0.05, Epoch: 2, Loss: 12.247075080871582\n",
      "Learning Rate: 0.05, Epoch: 3, Loss: 11.213696479797363\n",
      "Learning Rate: 0.05, Epoch: 4, Loss: 18.06624412536621\n",
      "Learning Rate: 0.05, Epoch: 5, Loss: 16.877765655517578\n",
      "Learning Rate: 0.05, Epoch: 6, Loss: 14.346067428588867\n",
      "Learning Rate: 0.05, Epoch: 7, Loss: 10.205894470214844\n",
      "Learning Rate: 0.05, Epoch: 8, Loss: 6.007287502288818\n",
      "Learning Rate: 0.05, Epoch: 9, Loss: 2.4143424034118652\n",
      "Learning Rate: 0.05, Epoch: 10, Loss: 1.620279312133789\n",
      "Learning Rate: 0.05, Epoch: 11, Loss: 1.7974845170974731\n",
      "Learning Rate: 0.05, Epoch: 12, Loss: 1.8114690780639648\n",
      "Learning Rate: 0.05, Epoch: 13, Loss: 1.7170814275741577\n",
      "Learning Rate: 0.05, Epoch: 14, Loss: 2.8804409503936768\n",
      "Learning Rate: 0.05, Epoch: 15, Loss: 1.910280704498291\n",
      "Learning Rate: 0.05, Epoch: 16, Loss: 1.6994993686676025\n",
      "Learning Rate: 0.05, Epoch: 17, Loss: 3.065838098526001\n",
      "Learning Rate: 0.05, Epoch: 18, Loss: 3.0406334400177\n",
      "Learning Rate: 0.05, Epoch: 19, Loss: 3.209890365600586\n",
      "Learning Rate: 0.05, Epoch: 20, Loss: 1.7124375104904175\n",
      "Learning Rate: 0.05, Epoch: 21, Loss: 3.1960151195526123\n",
      "Learning Rate: 0.05, Epoch: 22, Loss: 4.960249900817871\n",
      "Learning Rate: 0.05, Epoch: 23, Loss: 1.8338589668273926\n",
      "Learning Rate: 0.05, Epoch: 24, Loss: 3.24971866607666\n",
      "Learning Rate: 0.05, Epoch: 25, Loss: 3.147775650024414\n",
      "Learning Rate: 0.05, Epoch: 26, Loss: 1.8615552186965942\n",
      "Learning Rate: 0.05, Epoch: 27, Loss: 2.079855442047119\n",
      "Learning Rate: 0.05, Epoch: 28, Loss: 1.520297884941101\n",
      "Learning Rate: 0.05, Epoch: 29, Loss: 3.4318621158599854\n",
      "Learning Rate: 0.05, Epoch: 30, Loss: 3.602597236633301\n",
      "Learning Rate: 0.05, Epoch: 31, Loss: 2.008885145187378\n",
      "Learning Rate: 0.05, Epoch: 32, Loss: 4.8157219886779785\n",
      "Learning Rate: 0.05, Epoch: 33, Loss: 3.1618759632110596\n",
      "Learning Rate: 0.05, Epoch: 34, Loss: 1.9420987367630005\n",
      "Learning Rate: 0.05, Epoch: 35, Loss: 1.8433328866958618\n",
      "Learning Rate: 0.05, Epoch: 36, Loss: 1.8945660591125488\n",
      "Learning Rate: 0.05, Epoch: 37, Loss: 3.2987020015716553\n",
      "Learning Rate: 0.05, Epoch: 38, Loss: 3.0165112018585205\n",
      "Learning Rate: 0.05, Epoch: 39, Loss: 1.8504548072814941\n",
      "Learning Rate: 0.05, Epoch: 40, Loss: 1.9345778226852417\n",
      "Learning Rate: 0.05, Epoch: 41, Loss: 2.0201497077941895\n",
      "Learning Rate: 0.05, Epoch: 42, Loss: 3.3127381801605225\n",
      "Learning Rate: 0.05, Epoch: 43, Loss: 6.116724491119385\n",
      "Learning Rate: 0.05, Epoch: 44, Loss: 1.6497058868408203\n",
      "Learning Rate: 0.05, Epoch: 45, Loss: 2.000828266143799\n",
      "Learning Rate: 0.05, Epoch: 46, Loss: 3.0718936920166016\n",
      "Learning Rate: 0.05, Epoch: 47, Loss: 1.639548659324646\n",
      "Learning Rate: 0.05, Epoch: 48, Loss: 1.7571923732757568\n",
      "Learning Rate: 0.05, Epoch: 49, Loss: 1.6830453872680664\n",
      "Learning Rate: 0.05, Epoch: 50, Loss: 1.614260196685791\n",
      "Final Losses: [8.794331045150757, 3.655040419101715, 2.868534390926361, 2.4765614557266233, 4.144091813564301]\n"
     ]
    }
   ],
   "source": [
    "## find optimal learning rate \n",
    "learning_rates = [0.001, 0.005, 0.01, 0.02, 0.05]\n",
    "losses = []  \n",
    "criterion = nn.CrossEntropyLoss()\n",
    "epochs = 50  \n",
    "\n",
    "for lr in learning_rates:\n",
    "    print(f\"\\nStarting training for learning rate: {lr}\")\n",
    "\n",
    "    model = SimpleRNN(len(vocab),dropout_rate=0.1)  # Reinitialize model  \n",
    "    for params in model.parameters():\n",
    "        if params.dim() > 1:\n",
    "            nn.init.xavier_uniform_(params)\n",
    "    \n",
    "    optimizer = torch.optim.Adam(model.parameters(), lr=lr)  \n",
    "    total_loss = 0  \n",
    "\n",
    "    for epoch in range(epochs):\n",
    "        epoch_loss = 0\n",
    "        for text, label in train_loader:\n",
    "            if text.size(1) == 0:\n",
    "                print(\"Skipping empty batch\")\n",
    "                continue\n",
    "            \n",
    "            optimizer.zero_grad()\n",
    "            output = model(text)\n",
    "            loss = criterion(output, label)\n",
    "            loss.backward()\n",
    "            optimizer.step()\n",
    "            epoch_loss += loss.item()\n",
    "            \n",
    "            break  # Ensures only one batch per epoch like your first working code\n",
    "        \n",
    "        print(f\"Learning Rate: {lr}, Epoch: {epoch+1}, Loss: {epoch_loss}\")\n",
    "        total_loss += epoch_loss  \n",
    "    \n",
    "    losses.append(total_loss / epochs)  \n",
    "\n",
    "print(f\"Final Losses: {losses}\")"
   ]
  },
  {
   "cell_type": "code",
   "execution_count": 166,
   "metadata": {},
   "outputs": [
    {
     "data": {
      "image/png": "[encoded data removed]",
      "text/plain": [
       "<Figure size 800x600 with 1 Axes>"
      ]
     },
     "metadata": {},
     "output_type": "display_data"
    }
   ],
   "source": [
    "import matplotlib.pyplot as plt\n",
    "\n",
    "plt.figure(figsize=(8, 6))\n",
    "plt.plot(learning_rates, losses, marker='o', label='Loss vs Learning Rate')\n",
    "plt.xlabel('Learning Rate')\n",
    "plt.ylabel('Loss (Average over Epochs)')\n",
    "plt.title('Effect of Learning Rate on Loss')\n",
    "plt.legend()\n",
    "plt.grid()\n",
    "plt.show()"
   ]
  },
  {
   "cell_type": "code",
   "execution_count": 181,
   "metadata": {},
   "outputs": [],
   "source": [
    "#train the miodel twith optimal lr\n",
    "\n",
    "def train_model(model, train_loader, criterion, optimizer, epochs=100):\n",
    "   \n",
    "    losses = []\n",
    "\n",
    "    # Initialize weights\n",
    "    for params in model.parameters():\n",
    "        if params.dim() > 1:\n",
    "            nn.init.xavier_uniform_(params)\n",
    "\n",
    "    for epoch in range(epochs):\n",
    "        total_loss = 0\n",
    "        model.train()  # Set the model to training mode\n",
    "\n",
    "        for text, label in train_loader:\n",
    "            if len(text) <= 0:  # Skip empty batches\n",
    "                continue\n",
    "\n",
    "            # Zero gradients\n",
    "            optimizer.zero_grad()\n",
    "\n",
    "            # Forward pass\n",
    "            output = model(text)\n",
    "\n",
    "            # Compute loss\n",
    "            loss = criterion(output, label)\n",
    "\n",
    "            # Backward pass\n",
    "            loss.backward()\n",
    "\n",
    "            # Update weights\n",
    "            optimizer.step()\n",
    "\n",
    "            # Accumulate total loss\n",
    "            total_loss += loss.item()\n",
    "            break  # Process only one batch per epoch for debugging\n",
    "\n",
    "        losses.append(total_loss)\n",
    "        #print(f\"Epoch: {epoch+1}, Loss: {total_loss:.4f}\")\n",
    "\n",
    "    return losses\n"
   ]
  },
  {
   "cell_type": "code",
   "execution_count": 179,
   "metadata": {},
   "outputs": [
    {
     "name": "stdout",
     "output_type": "stream",
     "text": [
      "Epoch: 1, Loss: 11.8121\n",
      "Epoch: 2, Loss: 11.6604\n",
      "Epoch: 3, Loss: 9.6811\n",
      "Epoch: 4, Loss: 7.6729\n",
      "Epoch: 5, Loss: 5.4510\n",
      "Epoch: 6, Loss: 3.3265\n",
      "Epoch: 7, Loss: 2.0236\n",
      "Epoch: 8, Loss: 1.6611\n",
      "Epoch: 9, Loss: 1.5678\n",
      "Epoch: 10, Loss: 1.7582\n",
      "Epoch: 11, Loss: 1.6568\n",
      "Epoch: 12, Loss: 1.7367\n",
      "Epoch: 13, Loss: 1.7035\n",
      "Epoch: 14, Loss: 1.6172\n",
      "Epoch: 15, Loss: 1.5862\n",
      "Epoch: 16, Loss: 1.6105\n",
      "Epoch: 17, Loss: 1.7306\n",
      "Epoch: 18, Loss: 1.6635\n",
      "Epoch: 19, Loss: 1.6531\n",
      "Epoch: 20, Loss: 1.6378\n",
      "Epoch: 21, Loss: 1.6477\n",
      "Epoch: 22, Loss: 1.6423\n",
      "Epoch: 23, Loss: 1.5780\n",
      "Epoch: 24, Loss: 1.7532\n",
      "Epoch: 25, Loss: 1.7362\n",
      "Epoch: 26, Loss: 1.6624\n",
      "Epoch: 27, Loss: 1.6418\n",
      "Epoch: 28, Loss: 1.6467\n",
      "Epoch: 29, Loss: 1.6410\n",
      "Epoch: 30, Loss: 1.5597\n",
      "Epoch: 31, Loss: 1.6021\n",
      "Epoch: 32, Loss: 1.7174\n",
      "Epoch: 33, Loss: 1.8209\n",
      "Epoch: 34, Loss: 1.8182\n",
      "Epoch: 35, Loss: 1.6639\n",
      "Epoch: 36, Loss: 1.5533\n",
      "Epoch: 37, Loss: 1.6496\n",
      "Epoch: 38, Loss: 1.6107\n",
      "Epoch: 39, Loss: 1.6553\n",
      "Epoch: 40, Loss: 1.6650\n",
      "Epoch: 41, Loss: 1.5841\n",
      "Epoch: 42, Loss: 1.6732\n",
      "Epoch: 43, Loss: 1.6913\n",
      "Epoch: 44, Loss: 1.7069\n",
      "Epoch: 45, Loss: 1.7202\n",
      "Epoch: 46, Loss: 1.7735\n",
      "Epoch: 47, Loss: 1.6270\n",
      "Epoch: 48, Loss: 1.6690\n",
      "Epoch: 49, Loss: 1.6718\n",
      "Epoch: 50, Loss: 1.7231\n",
      "Epoch: 51, Loss: 1.6957\n",
      "Epoch: 52, Loss: 1.6595\n",
      "Epoch: 53, Loss: 1.6429\n",
      "Epoch: 54, Loss: 1.7858\n",
      "Epoch: 55, Loss: 1.7759\n",
      "Epoch: 56, Loss: 1.5876\n",
      "Epoch: 57, Loss: 1.6514\n",
      "Epoch: 58, Loss: 1.7915\n",
      "Epoch: 59, Loss: 1.6240\n",
      "Epoch: 60, Loss: 1.5858\n",
      "Epoch: 61, Loss: 1.7603\n",
      "Epoch: 62, Loss: 1.7675\n",
      "Epoch: 63, Loss: 1.6996\n",
      "Epoch: 64, Loss: 1.8332\n",
      "Epoch: 65, Loss: 2.8632\n",
      "Epoch: 66, Loss: 1.5262\n",
      "Epoch: 67, Loss: 1.9122\n",
      "Epoch: 68, Loss: 1.6227\n",
      "Epoch: 69, Loss: 1.6131\n",
      "Epoch: 70, Loss: 1.8115\n",
      "Epoch: 71, Loss: 1.6040\n",
      "Epoch: 72, Loss: 1.6948\n",
      "Epoch: 73, Loss: 1.8460\n",
      "Epoch: 74, Loss: 1.6716\n",
      "Epoch: 75, Loss: 1.9106\n",
      "Epoch: 76, Loss: 1.9468\n",
      "Epoch: 77, Loss: 1.7922\n",
      "Epoch: 78, Loss: 1.6456\n",
      "Epoch: 79, Loss: 1.6114\n",
      "Epoch: 80, Loss: 1.6706\n",
      "Epoch: 81, Loss: 1.7861\n",
      "Epoch: 82, Loss: 3.0040\n",
      "Epoch: 83, Loss: 1.6324\n",
      "Epoch: 84, Loss: 1.6272\n",
      "Epoch: 85, Loss: 1.6448\n",
      "Epoch: 86, Loss: 1.6263\n",
      "Epoch: 87, Loss: 1.5983\n",
      "Epoch: 88, Loss: 1.6215\n",
      "Epoch: 89, Loss: 1.7756\n",
      "Epoch: 90, Loss: 1.7890\n",
      "Epoch: 91, Loss: 1.6649\n",
      "Epoch: 92, Loss: 1.6255\n",
      "Epoch: 93, Loss: 1.7811\n",
      "Epoch: 94, Loss: 1.7788\n",
      "Epoch: 95, Loss: 1.6717\n",
      "Epoch: 96, Loss: 1.8461\n",
      "Epoch: 97, Loss: 1.6413\n",
      "Epoch: 98, Loss: 1.6372\n",
      "Epoch: 99, Loss: 1.6454\n",
      "Epoch: 100, Loss: 1.6881\n"
     ]
    }
   ],
   "source": [
    "\n",
    "\n",
    "# Define model, criterion, optimizer, and DataLoader\n",
    "criterion = nn.CrossEntropyLoss()\n",
    "learning_rate = 0.02\n",
    "rnnmodel =  SimpleRNN(len(vocab),dropout_rate=0.1)\n",
    "optimizer = torch.optim.Adam(rnnmodel.parameters(), lr=learning_rate)\n",
    "\n",
    "# Train the model\n",
    "training_loss = train_model(rnnmodel, train_loader, criterion, optimizer, epochs=100)"
   ]
  },
  {
   "cell_type": "code",
   "execution_count": 180,
   "metadata": {},
   "outputs": [
    {
     "data": {
      "image/png": "[encoded data removed]",
      "text/plain": [
       "<Figure size 800x600 with 1 Axes>"
      ]
     },
     "metadata": {},
     "output_type": "display_data"
    }
   ],
   "source": [
    "import matplotlib.pyplot as plt\n",
    "\n",
    "plt.figure(figsize=(8, 6))\n",
    "plt.plot(range(100), training_loss)\n",
    "plt.xlabel('Learning Rate')\n",
    "plt.ylabel('Loss (Average over Epochs)')\n",
    "plt.title('epochs')\n",
    "plt.legend()\n",
    "plt.grid()\n",
    "plt.show()"
   ]
  },
  {
   "cell_type": "code",
   "execution_count": 171,
   "metadata": {},
   "outputs": [],
   "source": [
    "def evaluate_model(data_loader, model, dataset_name=\"\", padding_idx=0):\n",
    "    model.eval()  # Set the model to evaluation mode\n",
    "    total = 0\n",
    "    correct = 0\n",
    "\n",
    "    with torch.no_grad():\n",
    "        for text, label in data_loader:\n",
    "            if text.size(1) == 0:  # Skip empty sequences\n",
    "                continue\n",
    "\n",
    "            # Forward pass\n",
    "            predictions = model(text)  # Shape: [batch_size, vocab_size]\n",
    "\n",
    "            # Use CrossEntropyLoss-compatible targets (not one-hot)\n",
    "            _, predicted = torch.max(predictions, dim=1)  # Get the predicted class indices\n",
    "\n",
    "            # Filter out padding tokens\n",
    "            valid_indices = (label != padding_idx)  # Create a mask for non-padding indices\n",
    "            valid_targets = label[valid_indices]  # Filter labels (non-padding)\n",
    "            valid_predictions = predicted[valid_indices]  # Filter predictions (non-padding)\n",
    "\n",
    "            # Skip batch if it contains no valid tokens\n",
    "            if valid_targets.numel() == 0:\n",
    "                continue\n",
    "\n",
    "            # Count correct predictions and total valid samples\n",
    "            correct += (valid_predictions == valid_targets).sum().item()\n",
    "            total += valid_targets.size(0)\n",
    "\n",
    "    # Compute accuracy\n",
    "    accuracy = correct / total if total > 0 else 0.0\n",
    "    print(f\"Accuracy on {dataset_name} Data: {accuracy:.4f}\")\n",
    "    return accuracy"
   ]
  },
  {
   "cell_type": "code",
   "execution_count": 172,
   "metadata": {},
   "outputs": [
    {
     "name": "stdout",
     "output_type": "stream",
     "text": [
      "Evaluating on Test Data...\n",
      "Accuracy on Test Data: 0.2338\n"
     ]
    }
   ],
   "source": [
    "# Evaluate on test data\n",
    "print(\"Evaluating on Test Data...\")\n",
    "test_accuracy = evaluate_model(test_loader,rnnmodel ,dataset_name=\"Test\")"
   ]
  },
  {
   "cell_type": "code",
   "execution_count": 173,
   "metadata": {},
   "outputs": [
    {
     "name": "stdout",
     "output_type": "stream",
     "text": [
      "Evaluating on Training Data...\n"
     ]
    },
    {
     "name": "stdout",
     "output_type": "stream",
     "text": [
      "Accuracy on Training Data: 0.2566\n"
     ]
    }
   ],
   "source": [
    "#Evaluate on training data\n",
    "print(\"Evaluating on Training Data...\")\n",
    "train_accuracy = evaluate_model(train_loader, model,dataset_name=\"Training\")\n"
   ]
  },
  {
   "cell_type": "code",
   "execution_count": null,
   "metadata": {},
   "outputs": [],
   "source": [
    "#using optuna\n"
   ]
  },
  {
   "cell_type": "code",
   "execution_count": 182,
   "metadata": {},
   "outputs": [],
   "source": [
    "# objective function\n",
    "def objective(trial):\n",
    "    # Hyperparameter search space\n",
    "    embedding_dim = trial.suggest_int(\"embedding_dim\", 16, 128, step=16)\n",
    "    hidden_dim = trial.suggest_int(\"hidden_dim\", 32, 128, step=32)\n",
    "    dropout_rate = trial.suggest_float(\"dropout_rate\", 0.1, 0.5, step=0.1)  # Add dropout rate\n",
    "    epochs = trial.suggest_int(\"epochs\", 10, 50, step=10)\n",
    "    learning_rate = trial.suggest_float(\"learning_rate\", 1e-5, 1e-1, log=True)\n",
    "    batch_size = trial.suggest_categorical(\"batch_size\", [16, 32, 64, 128])\n",
    "    optimizer_name = trial.suggest_categorical(\"optimizer\", ['Adam', 'SGD', 'RMSprop'])\n",
    "    weight_decay = trial.suggest_float(\"weight_decay\", 1e-5, 1e-3, log=True)\n",
    "\n",
    "    # DataLoader setup\n",
    "    train_loader = DataLoader(train_dataset, batch_size=batch_size, shuffle=True, collate_fn=collate_fn)\n",
    "    test_loader = DataLoader(test_dataset, batch_size=batch_size, shuffle=False, collate_fn=collate_fn)\n",
    "\n",
    "    # Model initialization\n",
    "    vocab_size = len(vocab)  # Assuming `vocab` is defined elsewhere\n",
    "    model = SimpleRNN(vocab_size, embedding_dim=embedding_dim, hidden_dim=hidden_dim, dropout_rate=dropout_rate)\n",
    "\n",
    "    # Loss function\n",
    "    criterion = nn.CrossEntropyLoss()\n",
    "\n",
    "    # Optimizer setup\n",
    "    if optimizer_name == 'Adam':\n",
    "        optimizer = torch.optim.Adam(model.parameters(), lr=learning_rate, weight_decay=weight_decay)\n",
    "    elif optimizer_name == 'SGD':\n",
    "        optimizer = torch.optim.SGD(model.parameters(), lr=learning_rate, weight_decay=weight_decay)\n",
    "    else:\n",
    "        optimizer = torch.optim.RMSprop(model.parameters(), lr=learning_rate, weight_decay=weight_decay)\n",
    "\n",
    "    # Train the model\n",
    "    print(f\"Training model with lr={learning_rate}, batch_size={batch_size}, optimizer={optimizer_name}, epochs={epochs}, dropout_rate={dropout_rate}\")\n",
    "    train_loss = train_model(model, train_loader, criterion, optimizer, epochs=epochs)\n",
    "\n",
    "    # Evaluate the model\n",
    "    accuracy = evaluate_model(test_loader, model, dataset_name=\"Test\", padding_idx=0)\n",
    "\n",
    "    # Return accuracy as the objective value\n",
    "    return accuracy"
   ]
  },
  {
   "cell_type": "code",
   "execution_count": 183,
   "metadata": {},
   "outputs": [
    {
     "name": "stderr",
     "output_type": "stream",
     "text": [
      "[I 2025-04-06 18:53:28,816] A new study created in memory with name: no-name-843a3af8-56b4-4083-9c4b-af22d5fe6f58\n"
     ]
    },
    {
     "name": "stdout",
     "output_type": "stream",
     "text": [
      "Training model with lr=0.009075871848258282, batch_size=64, optimizer=SGD, epochs=10, dropout_rate=0.5\n"
     ]
    },
    {
     "name": "stderr",
     "output_type": "stream",
     "text": [
      "[I 2025-04-06 18:53:44,395] Trial 0 finished with value: 0.23383084577114427 and parameters: {'embedding_dim': 96, 'hidden_dim': 64, 'dropout_rate': 0.5, 'epochs': 10, 'learning_rate': 0.009075871848258282, 'batch_size': 64, 'optimizer': 'SGD', 'weight_decay': 5.570860886085145e-05}. Best is trial 0 with value: 0.23383084577114427.\n"
     ]
    },
    {
     "name": "stdout",
     "output_type": "stream",
     "text": [
      "Accuracy on Test Data: 0.2338\n",
      "Training model with lr=2.1139772468176246e-05, batch_size=128, optimizer=RMSprop, epochs=10, dropout_rate=0.1\n"
     ]
    },
    {
     "name": "stderr",
     "output_type": "stream",
     "text": [
      "[I 2025-04-06 18:54:22,899] Trial 1 finished with value: 0.0 and parameters: {'embedding_dim': 112, 'hidden_dim': 32, 'dropout_rate': 0.1, 'epochs': 10, 'learning_rate': 2.1139772468176246e-05, 'batch_size': 128, 'optimizer': 'RMSprop', 'weight_decay': 0.0008843023751630754}. Best is trial 0 with value: 0.23383084577114427.\n"
     ]
    },
    {
     "name": "stdout",
     "output_type": "stream",
     "text": [
      "Accuracy on Test Data: 0.0000\n",
      "Training model with lr=0.009078018127890022, batch_size=16, optimizer=Adam, epochs=20, dropout_rate=0.30000000000000004\n"
     ]
    },
    {
     "name": "stderr",
     "output_type": "stream",
     "text": [
      "[I 2025-04-06 18:54:36,062] Trial 2 finished with value: 0.2835820895522388 and parameters: {'embedding_dim': 48, 'hidden_dim': 32, 'dropout_rate': 0.30000000000000004, 'epochs': 20, 'learning_rate': 0.009078018127890022, 'batch_size': 16, 'optimizer': 'Adam', 'weight_decay': 0.00025471569658140197}. Best is trial 2 with value: 0.2835820895522388.\n"
     ]
    },
    {
     "name": "stdout",
     "output_type": "stream",
     "text": [
      "Accuracy on Test Data: 0.2836\n"
     ]
    }
   ],
   "source": [
    "import optuna\n",
    "\n",
    "study = optuna.create_study(direction='maximize')\n",
    "study.optimize(objective, n_trials=3)"
   ]
  },
  {
   "cell_type": "code",
   "execution_count": 184,
   "metadata": {},
   "outputs": [
    {
     "data": {
      "text/plain": [
       "0.2835820895522388"
      ]
     },
     "execution_count": 184,
     "metadata": {},
     "output_type": "execute_result"
    }
   ],
   "source": [
    "study.best_value"
   ]
  },
  {
   "cell_type": "code",
   "execution_count": 185,
   "metadata": {},
   "outputs": [
    {
     "data": {
      "text/plain": [
       "{'embedding_dim': 48,\n",
       " 'hidden_dim': 32,\n",
       " 'dropout_rate': 0.30000000000000004,\n",
       " 'epochs': 20,\n",
       " 'learning_rate': 0.009078018127890022,\n",
       " 'batch_size': 16,\n",
       " 'optimizer': 'Adam',\n",
       " 'weight_decay': 0.00025471569658140197}"
      ]
     },
     "execution_count": 185,
     "metadata": {},
     "output_type": "execute_result"
    }
   ],
   "source": [
    "study.best_params"
   ]
  },
  {
   "cell_type": "code",
   "execution_count": null,
   "metadata": {},
   "outputs": [],
   "source": []
  },
  {
   "cell_type": "code",
   "execution_count": null,
   "metadata": {},
   "outputs": [],
   "source": []
  },
  {
   "cell_type": "code",
   "execution_count": null,
   "metadata": {},
   "outputs": [],
   "source": []
  }
 ],
 "metadata": {
  "kernelspec": {
   "display_name": "Python 3",
   "language": "python",
   "name": "python3"
  },
  "language_info": {
   "codemirror_mode": {
    "name": "ipython",
    "version": 3
   },
   "file_extension": ".py",
   "mimetype": "text/x-python",
   "name": "python",
   "nbconvert_exporter": "python",
   "pygments_lexer": "ipython3",
   "version": "3.13.2"
  }
 },
 "nbformat": 4,
 "nbformat_minor": 2
}
