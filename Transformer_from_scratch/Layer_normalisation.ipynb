{
  "nbformat": 4,
  "nbformat_minor": 0,
  "metadata": {
    "colab": {
      "provenance": []
    },
    "kernelspec": {
      "name": "python3",
      "display_name": "Python 3"
    },
    "language_info": {
      "name": "python"
    }
  },
  "cells": [
    {
      "cell_type": "code",
      "execution_count": null,
      "metadata": {
        "id": "UOTbpmH7SxHY"
      },
      "outputs": [],
      "source": [
        "import torch\n",
        "import numpy as np\n",
        "import pandas as pd\n",
        "import matplotlib.pyplot as plt\n",
        "import seaborn as sn\n",
        "import tensorflow as tf\n",
        "from tensorflow import keras\n",
        "from torch import nn\n"
      ]
    },
    {
      "cell_type": "code",
      "source": [
        "\n",
        "import torch\n",
        "from torch import nn\n",
        "#video implementation\n",
        "class LayerNormalization():\n",
        "    def __init__(self, parameters_shape, eps=1e-5):\n",
        "        self.parameters_shape=parameters_shape\n",
        "        self.eps=eps\n",
        "        self.gamma = nn.Parameter(torch.ones(parameters_shape))\n",
        "        self.beta =  nn.Parameter(torch.zeros(parameters_shape))\n",
        "\n",
        "    def forward(self, input):\n",
        "        dims = [-(i + 1) for i in range(len(self.parameters_shape))]\n",
        "        mean = inputs.mean(dim=dims, keepdim=True)\n",
        "        print(f\"Mean \\n ({mean.size()}): \\n {mean}\")\n",
        "        var = ((inputs - mean) ** 2).mean(dim=dims, keepdim=True)\n",
        "        std = (var + self.eps).sqrt()\n",
        "        print(f\"Standard Deviation \\n ({std.size()}): \\n {std}\")\n",
        "        y = (inputs - mean) / std\n",
        "        print(f\"y \\n ({y.size()}) = \\n {y}\")\n",
        "        out = self.gamma * y  + self.beta\n",
        "        print(f\"out \\n ({out.size()}) = \\n {out}\")\n",
        "        return out"
      ],
      "metadata": {
        "id": "bztpxut7S1HF"
      },
      "execution_count": null,
      "outputs": []
    },
    {
      "cell_type": "code",
      "source": [
        "\n"
      ],
      "metadata": {
        "id": "qULz_U38TDzG"
      },
      "execution_count": null,
      "outputs": []
    },
    {
      "cell_type": "code",
      "source": [
        "#my onw\n",
        "class CustomLayerNorm(nn.Module):\n",
        "    def __init__(self, normalized_shape, epsilon=1e-5):\n",
        "        super(CustomLayerNorm, self).__init__()\n",
        "        self.gamma = nn.Parameter(torch.ones(normalized_shape))\n",
        "        self.beta = nn.Parameter(torch.zeros(normalized_shape))\n",
        "        self.epsilon = epsilon\n",
        "\n",
        "    def forward(self, x):\n",
        "        # Calculate mean and std across the last dimension (features) for each sequence in the batch\n",
        "        mean = x.mean(dim=-1, keepdim=True)\n",
        "        std = x.std(dim=-1, keepdim=True)\n",
        "        x_normalized = (x - mean) / (std + self.epsilon)\n",
        "\n",
        "        # Apply gamma and beta, which are learned parameters for normalization\n",
        "        # The shape of gamma and beta should match the feature size\n",
        "        return self.gamma.unsqueeze(0).unsqueeze(0) * x_normalized + self.beta.unsqueeze(0).unsqueeze(0)\n",
        "\n",
        "\n"
      ],
      "metadata": {
        "id": "y6tht9gwTGYQ"
      },
      "execution_count": null,
      "outputs": []
    },
    {
      "cell_type": "code",
      "source": [
        "# Sample input tensor with batch dimension (2, 2, 3)\n",
        "torch.manual_seed(2)\n",
        "x = torch.randn(2, 2, 3)\n",
        "print(\"Input Tensor:\\n\", x)\n",
        "\n",
        "layer_norm = CustomLayerNorm(normalized_shape=x.shape[2])\n",
        "output_custom = layer_norm(x)\n",
        "print(\"\\nCustom Layer Norm Output:\\n\", output_custom)\n",
        "\n",
        "layer_norm_video = LayerNormalization(parameters_shape=x.shape[2])\n",
        "output_custom_video = layer_norm(x)\n",
        "print(\"\\n video Layer Norm Output:\\n\", output_custom_video)\n",
        "\n",
        "layer_norm_builtin = nn.LayerNorm(normalized_shape=x.shape[2])\n",
        "output_builtin = layer_norm_builtin(x)\n",
        "print(\"\\nPyTorch Layer Norm Output:\\n\", output_builtin)"
      ],
      "metadata": {
        "id": "tNXSmPa7TX_d",
        "colab": {
          "base_uri": "https://localhost:8080/"
        },
        "outputId": "eb379dd7-0b4d-4562-c181-d5941a849be0"
      },
      "execution_count": null,
      "outputs": [
        {
          "output_type": "stream",
          "name": "stdout",
          "text": [
            "Input Tensor:\n",
            " tensor([[[ 0.3923, -0.2236, -0.3195],\n",
            "         [-1.2050,  1.0445, -0.6332]],\n",
            "\n",
            "        [[ 0.5731,  0.5409, -0.3919],\n",
            "         [-1.0427,  1.3186,  0.7476]]])\n",
            "\n",
            "Custom Layer Norm Output:\n",
            " tensor([[[ 1.1457, -0.4487, -0.6971],\n",
            "         [-0.8044,  1.1196, -0.3153]],\n",
            "\n",
            "        [[ 0.6064,  0.5478, -1.1542],\n",
            "         [-1.1233,  0.7934,  0.3299]]], grad_fn=<AddBackward0>)\n",
            "\n",
            " video Layer Norm Output:\n",
            " tensor([[[ 1.1457, -0.4487, -0.6971],\n",
            "         [-0.8044,  1.1196, -0.3153]],\n",
            "\n",
            "        [[ 0.6064,  0.5478, -1.1542],\n",
            "         [-1.1233,  0.7934,  0.3299]]], grad_fn=<AddBackward0>)\n",
            "\n",
            "PyTorch Layer Norm Output:\n",
            " tensor([[[ 1.4032, -0.5495, -0.8537],\n",
            "         [-0.9851,  1.3713, -0.3861]],\n",
            "\n",
            "        [[ 0.7427,  0.6709, -1.4136],\n",
            "         [-1.3757,  0.9717,  0.4041]]], grad_fn=<NativeLayerNormBackward0>)\n"
          ]
        }
      ]
    },
    {
      "cell_type": "code",
      "source": [
        "#loks good thats it!"
      ],
      "metadata": {
        "id": "2AQl2tDSqpP_"
      },
      "execution_count": null,
      "outputs": []
    }
  ]
}