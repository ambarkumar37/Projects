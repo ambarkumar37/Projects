{
  "cells": [
    {
      "cell_type": "markdown",
      "metadata": {
        "id": "gO5Z0qErNuOt"
      },
      "source": [
        "# Self Attention in Transformers"
      ]
    },
    {
      "cell_type": "markdown",
      "metadata": {
        "id": "HedntyUvLrBo"
      },
      "source": [
        "## Generate Data"
      ]
    },
    {
      "cell_type": "code",
      "execution_count": null,
      "metadata": {
        "id": "xtKbaWhFJui3"
      },
      "outputs": [],
      "source": [
        "import numpy as np\n",
        "import math\n",
        "\n",
        "L, d_k, d_v = 3,2,2\n",
        "q = np.random.randn(L, d_k)\n",
        "k = np.random.randn(L, d_k)\n",
        "v = np.random.randn(L, d_v)"
      ]
    },
    {
      "cell_type": "code",
      "execution_count": null,
      "metadata": {
        "colab": {
          "base_uri": "https://localhost:8080/"
        },
        "id": "09JpvuNJ2sZC",
        "outputId": "1d3feefe-0af2-45fc-c273-f9016b8e8999"
      },
      "outputs": [
        {
          "name": "stdout",
          "output_type": "stream",
          "text": [
            "Q\n",
            " [[ 1.46718556 -0.54307583]\n",
            " [-0.92201114  1.33947543]\n",
            " [-0.92643635  1.37391767]]\n",
            "K\n",
            " [[-0.14788663  0.12504221]\n",
            " [ 1.38980759  1.02773425]\n",
            " [ 0.04250997 -3.38619662]]\n",
            "V\n",
            " [[ 0.40501676 -0.11814524]\n",
            " [ 2.4144589  -0.61711308]\n",
            " [-1.25793383 -1.09310971]]\n"
          ]
        }
      ],
      "source": [
        "print(\"Q\\n\", q)\n",
        "print(\"K\\n\", k)\n",
        "print(\"V\\n\", v)"
      ]
    },
    {
      "cell_type": "markdown",
      "metadata": {
        "id": "tV6txskBLwjh"
      },
      "source": [
        "## Self Attention\n",
        "\n",
        "$$\n",
        "\\text{self attention} = softmax\\bigg(\\frac{Q.K^T}{\\sqrt{d_k}}+M\\bigg)\n",
        "$$\n",
        "\n",
        "$$\n",
        "\\text{new V} = \\text{self attention}.V\n",
        "$$"
      ]
    },
    {
      "cell_type": "code",
      "execution_count": null,
      "metadata": {
        "colab": {
          "base_uri": "https://localhost:8080/"
        },
        "id": "x7GePHKk3Mh0",
        "outputId": "3f5e3584-a215-4372-8a73-f8bafd717e44"
      },
      "outputs": [
        {
          "data": {
            "text/plain": [
              "array([[-0.28488452,  1.48096801,  1.90133154],\n",
              "       [ 0.30384408,  0.0952067 , -4.57492183],\n",
              "       [ 0.30880524,  0.12445397, -4.69173817]])"
            ]
          },
          "execution_count": 13,
          "metadata": {},
          "output_type": "execute_result"
        }
      ],
      "source": [
        "np.matmul(q, k.T)"
      ]
    },
    {
      "cell_type": "code",
      "execution_count": null,
      "metadata": {
        "colab": {
          "base_uri": "https://localhost:8080/"
        },
        "id": "odK76OoI3nL2",
        "outputId": "2b298481-9d36-4931-8c5f-395d20edfe07"
      },
      "outputs": [
        {
          "data": {
            "text/plain": [
              "(1.2173907847199892, 2.390557790558945, 5.097697225538967)"
            ]
          },
          "execution_count": 14,
          "metadata": {},
          "output_type": "execute_result"
        }
      ],
      "source": [
        "# Why we need sqrt(d_k) in denominator\n",
        "q.var(), k.var(), np.matmul(q, k.T).var()"
      ]
    },
    {
      "cell_type": "code",
      "execution_count": null,
      "metadata": {
        "colab": {
          "base_uri": "https://localhost:8080/"
        },
        "id": "0Ps6AY1Q3tRI",
        "outputId": "b04cc9d4-39e5-4728-eaa5-f5eab4204f09"
      },
      "outputs": [
        {
          "data": {
            "text/plain": [
              "(1.2173907847199892, 2.390557790558945, 2.5488486127694827)"
            ]
          },
          "execution_count": 15,
          "metadata": {},
          "output_type": "execute_result"
        }
      ],
      "source": [
        "scaled = np.matmul(q, k.T) / math.sqrt(d_k)\n",
        "q.var(), k.var(), scaled.var()"
      ]
    },
    {
      "cell_type": "markdown",
      "metadata": {
        "id": "ypO9IK1PL3cJ"
      },
      "source": [
        "Notice the reduction in variance of the product"
      ]
    },
    {
      "cell_type": "code",
      "execution_count": null,
      "metadata": {
        "colab": {
          "base_uri": "https://localhost:8080/"
        },
        "id": "LVHAJR4N4VQX",
        "outputId": "414d09c9-9960-4272-b781-34694175fc6f"
      },
      "outputs": [
        {
          "data": {
            "text/plain": [
              "array([[-0.20144378,  1.04720252,  1.34444442],\n",
              "       [ 0.21485021,  0.0673213 , -3.23495825],\n",
              "       [ 0.21835828,  0.08800225, -3.31755988]])"
            ]
          },
          "execution_count": 16,
          "metadata": {},
          "output_type": "execute_result"
        }
      ],
      "source": [
        "scaled"
      ]
    },
    {
      "cell_type": "markdown",
      "metadata": {
        "id": "Dmz4v-RmMAaj"
      },
      "source": [
        "## Masking\n",
        "\n",
        "- This is to ensure words don't get context from words generated in the future.\n",
        "- Not required in the encoders, but required int he decoders"
      ]
    },
    {
      "cell_type": "code",
      "execution_count": null,
      "metadata": {
        "colab": {
          "base_uri": "https://localhost:8080/"
        },
        "id": "e8N3OhSLILfG",
        "outputId": "637d3eb5-0042-4d63-9a0b-1e150b69a3a1"
      },
      "outputs": [
        {
          "data": {
            "text/plain": [
              "array([[1., 0., 0.],\n",
              "       [1., 1., 0.],\n",
              "       [1., 1., 1.]])"
            ]
          },
          "execution_count": 17,
          "metadata": {},
          "output_type": "execute_result"
        }
      ],
      "source": [
        "mask = np.tril(np.ones( (L, L) ))\n",
        "mask"
      ]
    },
    {
      "cell_type": "code",
      "execution_count": null,
      "metadata": {
        "id": "hIV9K3Yn6s1V"
      },
      "outputs": [],
      "source": [
        "mask = np.tril(np.ones( (L, L) ))\n",
        "mask\n",
        "mask[mask == 0] = -np.infty\n",
        "mask[mask == 1] = 0"
      ]
    },
    {
      "cell_type": "code",
      "execution_count": null,
      "metadata": {
        "colab": {
          "base_uri": "https://localhost:8080/"
        },
        "id": "LK5V_T3W6vpX",
        "outputId": "76d7b45b-1697-441a-e0b1-3b1835acce4e"
      },
      "outputs": [
        {
          "data": {
            "text/plain": [
              "array([[  0., -inf, -inf],\n",
              "       [  0.,   0., -inf],\n",
              "       [  0.,   0.,   0.]])"
            ]
          },
          "execution_count": 19,
          "metadata": {},
          "output_type": "execute_result"
        }
      ],
      "source": [
        "mask"
      ]
    },
    {
      "cell_type": "code",
      "execution_count": null,
      "metadata": {
        "colab": {
          "base_uri": "https://localhost:8080/"
        },
        "id": "lNH1VgEf7xTa",
        "outputId": "9fdcf334-335c-4868-e177-4a006374302c"
      },
      "outputs": [
        {
          "data": {
            "text/plain": [
              "array([[-0.20144378,        -inf,        -inf],\n",
              "       [ 0.21485021,  0.0673213 ,        -inf],\n",
              "       [ 0.21835828,  0.08800225, -3.31755988]])"
            ]
          },
          "execution_count": 20,
          "metadata": {},
          "output_type": "execute_result"
        }
      ],
      "source": [
        "scaled + mask"
      ]
    },
    {
      "cell_type": "markdown",
      "metadata": {
        "id": "XMTAXjooN9eZ"
      },
      "source": [
        "## Softmax\n",
        "\n",
        "$$\n",
        "\\text{softmax} = \\frac{e^{x_i}}{\\sum_j e^x_j}\n",
        "$$"
      ]
    },
    {
      "cell_type": "code",
      "execution_count": null,
      "metadata": {
        "id": "2R4gdRqj8W4Y"
      },
      "outputs": [],
      "source": [
        "def softmax(x):\n",
        "  return (np.exp(x).T / np.sum(np.exp(x), axis=-1)).T"
      ]
    },
    {
      "cell_type": "code",
      "execution_count": null,
      "metadata": {
        "id": "K5eg2zPy41sP"
      },
      "outputs": [],
      "source": [
        "attention_v = softmax(scaled + mask)"
      ]
    },
    {
      "cell_type": "code",
      "execution_count": null,
      "metadata": {
        "colab": {
          "base_uri": "https://localhost:8080/"
        },
        "id": "7sauNmfl-1TB",
        "outputId": "3324fa63-db9c-4c06-f38d-876b86cd3079"
      },
      "outputs": [
        {
          "data": {
            "text/plain": [
              "array([[1.        , 0.        , 0.        ],\n",
              "       [0.53681548, 0.46318452, 0.        ],\n",
              "       [0.52440726, 0.46031571, 0.01527703]])"
            ]
          },
          "execution_count": 24,
          "metadata": {},
          "output_type": "execute_result"
        }
      ],
      "source": [
        "attention_v"
      ]
    },
    {
      "cell_type": "code",
      "execution_count": null,
      "metadata": {
        "colab": {
          "base_uri": "https://localhost:8080/"
        },
        "id": "BAy37go56LZo",
        "outputId": "c1dab1a8-f9f8-4337-b55b-9c76b67663c6"
      },
      "outputs": [
        {
          "data": {
            "text/plain": [
              "array([[ 0.40501676, -0.11814524],\n",
              "       [ 1.33575926, -0.34925942],\n",
              "       [ 1.30458959, -0.36272253]])"
            ]
          },
          "execution_count": 25,
          "metadata": {},
          "output_type": "execute_result"
        }
      ],
      "source": [
        "attention = np.matmul(attention_v, v)\n",
        "attention"
      ]
    },
    {
      "cell_type": "code",
      "execution_count": null,
      "metadata": {
        "colab": {
          "base_uri": "https://localhost:8080/"
        },
        "id": "vCP2aZOU9VrT",
        "outputId": "3ca6642c-927c-494e-f853-1a73807e3b5d"
      },
      "outputs": [
        {
          "data": {
            "text/plain": [
              "array([[ 0.40501676, -0.11814524],\n",
              "       [ 2.4144589 , -0.61711308],\n",
              "       [-1.25793383, -1.09310971]])"
            ]
          },
          "execution_count": 26,
          "metadata": {},
          "output_type": "execute_result"
        }
      ],
      "source": [
        "v"
      ]
    },
    {
      "cell_type": "code",
      "execution_count": null,
      "metadata": {
        "id": "h_JndWelLDNW"
      },
      "outputs": [],
      "source": []
    },
    {
      "cell_type": "markdown",
      "metadata": {
        "id": "nSiJuBQELFHT"
      },
      "source": [
        "# Function"
      ]
    },
    {
      "cell_type": "code",
      "execution_count": null,
      "metadata": {
        "id": "XvTnmdcB_jdq"
      },
      "outputs": [],
      "source": [
        "np.random.seed(2)\n",
        "L, d_k, d_v = 3,2,2\n",
        "q = np.random.randn(L, d_k)\n",
        "k = np.random.randn(L, d_k)\n",
        "v = np.random.randn(L, d_v)\n",
        "def softmax(x):\n",
        "  return (np.exp(x).T / np.sum(np.exp(x), axis=-1)).T\n",
        "\n",
        "def scaled_dot_product_attention(q, k, v, mask=None):\n",
        "  d_model = q.shape[-1]\n",
        "  scaled = np.matmul(q, k.T) / math.sqrt(d_model)\n",
        "  if mask is not None:\n",
        "    scaled = scaled + mask\n",
        "  attention = softmax(scaled)\n",
        "  out = np.matmul(attention, v)\n",
        "  return out, attention"
      ]
    },
    {
      "cell_type": "code",
      "execution_count": null,
      "metadata": {
        "colab": {
          "base_uri": "https://localhost:8080/"
        },
        "id": "KSxLkZdiSLMT",
        "outputId": "b5a299d1-cfa6-4534-f90c-fbfdd29d66ba"
      },
      "outputs": [
        {
          "name": "stdout",
          "output_type": "stream",
          "text": [
            "Q\n",
            " [[-0.41675785 -0.05626683]\n",
            " [-2.1361961   1.64027081]\n",
            " [-1.79343559 -0.84174737]]\n",
            "K\n",
            " [[ 0.50288142 -1.24528809]\n",
            " [-1.05795222 -0.90900761]\n",
            " [ 0.55145404  2.29220801]]\n",
            "V\n",
            " [[ 0.04153939 -1.11792545]\n",
            " [ 0.53905832 -0.5961597 ]\n",
            " [-0.0191305   1.17500122]]\n",
            "attentio_v\n",
            " [[ 0.2537593  -0.30516903]\n",
            " [ 0.10129328  0.76405618]\n",
            " [ 0.45930586 -0.64146812]]\n",
            "Attention\n",
            " [[0.29245479 0.4570973  0.25044791]\n",
            " [0.01372793 0.21424812 0.77202395]\n",
            " [0.14205121 0.84168316 0.01626562]]\n"
          ]
        }
      ],
      "source": [
        "values, attention = scaled_dot_product_attention(q, k, v)\n",
        "print(\"Q\\n\", q)\n",
        "print(\"K\\n\", k)\n",
        "print(\"V\\n\", v)\n",
        "print(\"attentio_v\\n\", values)\n",
        "\n",
        "print(\"Attention\\n\", attention)"
      ]
    },
    {
      "cell_type": "code",
      "execution_count": null,
      "metadata": {
        "colab": {
          "base_uri": "https://localhost:8080/",
          "height": 487
        },
        "id": "-HtQQtB2LJus",
        "outputId": "cbb97537-6ba5-4e39-9879-4b66606e1464"
      },
      "outputs": [
        {
          "data": {
            "image/png": "[encoded data removed]",
            "text/plain": [
              "<Figure size 500x500 with 2 Axes>"
            ]
          },
          "metadata": {},
          "output_type": "display_data"
        }
      ],
      "source": [
        "import numpy as np\n",
        "import matplotlib.pyplot as plt\n",
        "import seaborn as sns\n",
        "tokens = [\"I\", \"am\", \"ChatGPT\"]\n",
        "\n",
        "# Plot the heatmap using seaborn\n",
        "plt.figure(figsize=(5, 5))\n",
        "sns.heatmap(attention, annot=True, xticklabels=tokens, yticklabels=tokens, cbar=True)\n",
        "\n",
        "# Title and axis labels\n",
        "plt.title(\"Attention Heatmap for Word Sequence\")\n",
        "plt.xlabel(\"Keys (K)\")\n",
        "plt.ylabel(\"Queries (Q)\")\n",
        "plt.show()\n"
      ]
    },
    {
      "cell_type": "code",
      "execution_count": null,
      "metadata": {
        "colab": {
          "base_uri": "https://localhost:8080/"
        },
        "id": "kt_9wzta1l2r",
        "outputId": "05fd82b7-796a-44ac-9118-0e5cc200e39a"
      },
      "outputs": [
        {
          "data": {
            "text/plain": [
              "tensor(2.)"
            ]
          },
          "execution_count": 36,
          "metadata": {},
          "output_type": "execute_result"
        }
      ],
      "source": [
        "torch.sqrt(torch.tensor(4))"
      ]
    },
    {
      "cell_type": "code",
      "execution_count": null,
      "metadata": {
        "id": "AJBjJd4g4ROV"
      },
      "outputs": [],
      "source": [
        "np.random.seed(2)\n",
        "L, d_k, d_v = 3,2,2\n",
        "q = np.random.randn(L, d_k)\n",
        "k = np.random.randn(L, d_k)\n",
        "v = np.random.randn(L, d_v)"
      ]
    },
    {
      "cell_type": "code",
      "execution_count": null,
      "metadata": {
        "id": "a-D4gIRQzGvb"
      },
      "outputs": [],
      "source": [
        "#attention class for one bathc or only one seq\n",
        "import torch\n",
        "import numpy as np\n",
        "class attention(nn.Module):\n",
        "  def __init__(self,x,mask=None):\n",
        "    super().__init__()\n",
        "    self.inputdim=x.shape[-1]\n",
        "    self.seqlen=x.shape[0]\n",
        "    self.q=torch.randn(self.seqlen,self.inputdim)\n",
        "    self.k=torch.randn(self.seqlen,self.inputdim)\n",
        "    self.v=torch.randn(self.seqlen,self.inputdim)\n",
        "    self.mask = mask\n",
        "    print('q',self.q)\n",
        "    print('k',self.k)\n",
        "    print('v',self.k)\n",
        "\n",
        "\n",
        "  def scaled_dot_product_attention(self, mask=None):\n",
        "    d_model = q.shape[-1]\n",
        "    scaled = torch.matmul(self.q, self.k.T) / np.sqrt(d_model)\n",
        "    if mask is not None:\n",
        "      scaled = scaled + mask\n",
        "    attention = self.softmax(scaled)\n",
        "    scores = torch.matmul(attention, self.v)\n",
        "    return  attention,scores\n",
        "\n",
        "  def softmax(self,z):\n",
        "    return torch.softmax(z,dim=-1)\n",
        "\n",
        "  def forward(self,x):\n",
        "    attention,scores=self.scaled_dot_product_attention()\n",
        "    return attention,scores\n",
        "\n",
        "\n"
      ]
    },
    {
      "cell_type": "code",
      "execution_count": null,
      "metadata": {
        "colab": {
          "base_uri": "https://localhost:8080/"
        },
        "id": "VUVDv-WlBNzC",
        "outputId": "ef71424c-aa18-4985-f55b-c778d167a9a8"
      },
      "outputs": [
        {
          "name": "stdout",
          "output_type": "stream",
          "text": [
            "q tensor([[ 0.5731,  0.5409],\n",
            "        [-0.3919, -1.0427],\n",
            "        [ 1.3186,  0.7476]])\n",
            "k tensor([[-1.3265, -1.2413],\n",
            "        [-0.1028, -0.9498],\n",
            "        [ 0.6181, -0.2385]])\n",
            "v tensor([[-1.3265, -1.2413],\n",
            "        [-0.1028, -0.9498],\n",
            "        [ 0.6181, -0.2385]])\n",
            "Input x: tensor([[ 0.3923, -0.2236],\n",
            "        [-0.3195, -1.2050],\n",
            "        [ 1.0445, -0.6332]])\n",
            "Attention: tensor([[0.1649, 0.3028, 0.5323],\n",
            "        [0.5396, 0.3101, 0.1503],\n",
            "        [0.0664, 0.2423, 0.6913]])\n",
            "Scores: tensor([[ 0.2128, -1.3437],\n",
            "        [ 0.0589, -0.9731],\n",
            "        [ 0.2816, -1.4363]])\n"
          ]
        }
      ],
      "source": [
        "torch.manual_seed(2)\n",
        "x = torch.randn(3, 2)  # seq len, input dim\n",
        "self_attention = attention(x)  # Instantiate the attention class\n",
        "\n",
        "# Get attention, output, and scores by using the attention object like a function\n",
        "attention, scores = self_attention(x)\n",
        "\n",
        "# Print the results\n",
        "print('Input x:', x)\n",
        "print(\"Attention:\", attention)\n",
        "print(\"Scores:\", scores)\n"
      ]
    },
    {
      "cell_type": "code",
      "execution_count": null,
      "metadata": {
        "colab": {
          "base_uri": "https://localhost:8080/"
        },
        "id": "4hHQGhNJ-TrF",
        "outputId": "d9789726-d347-43ad-af14-9dc6d080e332"
      },
      "outputs": [
        {
          "data": {
            "text/plain": [
              "tensor([[[-0.4766,  0.2480],\n",
              "         [ 0.1559, -0.1607],\n",
              "         [ 0.4172,  1.0004]],\n",
              "\n",
              "        [[ 0.6008,  0.1098],\n",
              "         [-0.8411, -0.2908],\n",
              "         [-0.1480, -0.9266]]])"
            ]
          },
          "execution_count": 87,
          "metadata": {},
          "output_type": "execute_result"
        }
      ],
      "source": [
        "#for batch input\n",
        "x=torch.randn(2,3,2)#batch,seq len,input dim\n",
        "x"
      ]
    },
    {
      "cell_type": "code",
      "execution_count": null,
      "metadata": {
        "colab": {
          "base_uri": "https://localhost:8080/"
        },
        "id": "hbFegDb28RNe",
        "outputId": "2632bcde-ab98-4fcf-fea6-3d41ba43c161"
      },
      "outputs": [
        {
          "name": "stdout",
          "output_type": "stream",
          "text": [
            "Input x: tensor([[[ 0.3923, -0.2236],\n",
            "         [-0.3195, -1.2050],\n",
            "         [ 1.0445, -0.6332]],\n",
            "\n",
            "        [[ 0.5731,  0.5409],\n",
            "         [-0.3919, -1.0427],\n",
            "         [ 1.3186,  0.7476]]])\n",
            "q tensor([[[-1.3265, -1.2413],\n",
            "         [-0.1028, -0.9498],\n",
            "         [ 0.6181, -0.2385]],\n",
            "\n",
            "        [[ 0.0245, -0.4912],\n",
            "         [-0.0591, -1.5653],\n",
            "         [ 0.4258, -1.4818]]])\n",
            "k tensor([[[-0.4766,  0.2480],\n",
            "         [ 0.1559, -0.1607],\n",
            "         [ 0.4172,  1.0004]],\n",
            "\n",
            "        [[ 0.6008,  0.1098],\n",
            "         [-0.8411, -0.2908],\n",
            "         [-0.1480, -0.9266]]])\n",
            "v tensor([[[-0.4766,  0.2480],\n",
            "         [ 0.1559, -0.1607],\n",
            "         [ 0.4172,  1.0004]],\n",
            "\n",
            "        [[ 0.6008,  0.1098],\n",
            "         [-0.8411, -0.2908],\n",
            "         [-0.1480, -0.9266]]])\n",
            "Attention: tensor([[[0.4964, 0.3927, 0.1109],\n",
            "         [0.3543, 0.4453, 0.2003],\n",
            "         [0.2692, 0.3803, 0.3505]],\n",
            "\n",
            "        [[0.2828, 0.3170, 0.4002],\n",
            "         [0.1694, 0.2803, 0.5503],\n",
            "         [0.2299, 0.2266, 0.5435]]])\n",
            "Scores: tensor([[[-0.8393,  0.8577],\n",
            "         [-0.6865,  0.6844],\n",
            "         [-0.5691,  0.5566]],\n",
            "\n",
            "        [[-0.8549, -0.3220],\n",
            "         [-0.9365, -0.1213],\n",
            "         [-0.8629, -0.2023]]])\n"
          ]
        }
      ],
      "source": [
        "#attention class for n batches\n",
        "import torch.nn as nn\n",
        "import numpy as np\n",
        "class attention(nn.Module):\n",
        "  def __init__(self,inputdim,mask=None):\n",
        "    super().__init__()\n",
        "    self.inputdim=x.shape[-1]\n",
        "    self.seqlen=x.shape[1]\n",
        "    self.batchsize=x.shape[0]\n",
        "    self.q=torch.randn(self.batchsize,self.seqlen,self.inputdim)\n",
        "    self.k=torch.randn(self.batchsize,self.seqlen,self.inputdim)\n",
        "    self.v=torch.randn(self.batchsize,self.seqlen,self.inputdim)\n",
        "    self.mask = mask\n",
        "    print('q',self.q)\n",
        "    print('k',self.k)\n",
        "    print('v',self.k)\n",
        "\n",
        "\n",
        "  def scaled_dot_product_attention(self, mask=None):\n",
        "    d_model = self.q.shape[-1]\n",
        "    scaled = torch.matmul(self.q, self.k.transpose(-2,-1)) / np.sqrt(d_model)\n",
        "    if mask is not None:\n",
        "      scaled = scaled + mask\n",
        "    attention = self.softmax(scaled)\n",
        "    scores = torch.matmul(attention, self.v)\n",
        "    return  attention,scores\n",
        "\n",
        "  def softmax(self,z):\n",
        "    return torch.softmax(z,dim=-1)\n",
        "\n",
        "  def forward(self,x):\n",
        "    attention,scores=self.scaled_dot_product_attention()\n",
        "    return attention,scores\n",
        "\n",
        "\n",
        "\n",
        "torch.manual_seed(2)\n",
        "#x = torch.randn(3, 2)  # seq len, input dim\n",
        "x=torch.randn(2,3,2)#batch,seq len,input dim\n",
        "print('Input x:', x)\n",
        "self_attention = attention(x)  # Instantiate the attention class\n",
        "\n",
        "# Get attention, output, and scores by using the attention object like a function\n",
        "attention, scores = self_attention(x)\n",
        "\n",
        "#Print the results\n",
        "\n",
        "print(\"Attention:\", attention)\n",
        "\n",
        "print(\"Scores:\", scores)\n"
      ]
    },
    {
      "cell_type": "code",
      "execution_count": null,
      "metadata": {
        "colab": {
          "base_uri": "https://localhost:8080/",
          "height": 497
        },
        "id": "-LOMN8OkGvcG",
        "outputId": "311f6486-4fe3-4702-bad6-81b103b15f96"
      },
      "outputs": [
        {
          "data": {
            "image/png": "[encoded data removed]",
            "text/plain": [
              "<Figure size 800x500 with 4 Axes>"
            ]
          },
          "metadata": {},
          "output_type": "display_data"
        }
      ],
      "source": [
        "# Plot side-by-side heatmaps\n",
        "fig, axes = plt.subplots(1, 2, figsize=(8, 5))\n",
        "fig.suptitle('Attention Weights Heatmap')\n",
        "\n",
        "sentence_labels = [[\"i\", \"am\", \"chagpt\"] for _ in range(2)]\n",
        "\n",
        "for i in range(2):  # Iterate for each batch\n",
        "    sns.heatmap(\n",
        "        attention[i].detach().numpy(),\n",
        "        annot=True, fmt=\".2f\", cmap=\"Blues\",\n",
        "        xticklabels=sentence_labels[i],\n",
        "        yticklabels=sentence_labels[i],\n",
        "        ax=axes[i]\n",
        "    )\n",
        "    axes[i].set_title(f\"Sentence {i + 1} Attention Weights\")\n",
        "    axes[i].set_xlabel(\"Key Words\")\n",
        "    axes[i].set_ylabel(\"Query Words\")\n",
        "\n",
        "plt.tight_layout(rect=[0, 0.03, 1, 0.95])\n",
        "plt.show()"
      ]
    },
    {
      "cell_type": "code",
      "execution_count": null,
      "metadata": {
        "colab": {
          "base_uri": "https://localhost:8080/"
        },
        "id": "if_QjDJtE9jg",
        "outputId": "ebac5612-bc37-4bb3-8812-80924935392c"
      },
      "outputs": [
        {
          "name": "stdout",
          "output_type": "stream",
          "text": [
            "Input x: tensor([[[ 0.3923, -0.2236],\n",
            "         [-0.3195, -1.2050],\n",
            "         [ 1.0445, -0.6332]],\n",
            "\n",
            "        [[ 0.5731,  0.5409],\n",
            "         [-0.3919, -1.0427],\n",
            "         [ 1.3186,  0.7476]]])\n",
            "Attention Weights: tensor([[[0.3422, 0.2825, 0.3753],\n",
            "         [0.3657, 0.2341, 0.4002],\n",
            "         [0.3532, 0.2550, 0.3918]],\n",
            "\n",
            "        [[0.3233, 0.3378, 0.3390],\n",
            "         [0.3536, 0.1953, 0.4511],\n",
            "         [0.3182, 0.3520, 0.3297]]], grad_fn=<SoftmaxBackward0>)\n",
            "Scores (Contextual Vectors): tensor([[[ 0.0911, -0.4697],\n",
            "         [ 0.0968, -0.4922],\n",
            "         [ 0.0951, -0.4823]],\n",
            "\n",
            "        [[-0.0874, -0.7630],\n",
            "         [-0.0862, -0.8941],\n",
            "         [-0.0871, -0.7503]]], grad_fn=<UnsafeViewBackward0>)\n"
          ]
        }
      ],
      "source": [
        "#using weight matrices n bathc only\n",
        "\"\"\"If the input has shape (batch_size, seq_len, input_dim),\n",
        "then typically have shape (input_dim, input_dim) to map each input vector to the same output dimension\"\"\"\n",
        "\n",
        "\n",
        "import torch\n",
        "import torch.nn as nn\n",
        "import numpy as np\n",
        "\n",
        "class Attention(nn.Module):\n",
        "    def __init__(self, input_dim):\n",
        "        super().__init__()\n",
        "        self.input_dim = input_dim\n",
        "\n",
        "        # Define learnable weight matrices for Q, K, V\n",
        "        self.W_q = nn.Linear(input_dim, input_dim)\n",
        "        self.W_k = nn.Linear(input_dim, input_dim)\n",
        "        self.W_v = nn.Linear(input_dim, input_dim)\n",
        "\n",
        "    def scaled_dot_product_attention(self, q, k, v, mask=None):\n",
        "        d_model = q.shape[-1]\n",
        "        scaled_scores = torch.matmul(q, k.transpose(-2, -1)) / np.sqrt(d_model)\n",
        "\n",
        "        if mask is not None:\n",
        "            scaled_scores += mask\n",
        "\n",
        "        attention_weights = torch.softmax(scaled_scores, dim=-1)\n",
        "        output = torch.matmul(attention_weights, v)\n",
        "\n",
        "        return attention_weights, output\n",
        "\n",
        "    def forward(self, x):\n",
        "        # Compute Q, K, V from input x\n",
        "        q = self.W_q(x)\n",
        "        k = self.W_k(x)\n",
        "        v = self.W_v(x)\n",
        "\n",
        "        attention, scores = self.scaled_dot_product_attention(q, k, v)\n",
        "        return attention, scores\n",
        "\n",
        "\n",
        "# Testing the attention class with batch input\n",
        "torch.manual_seed(2)\n",
        "x = torch.randn(2, 3, 2)  # (batch_size, seq_len, input_dim)\n",
        "print('Input x:', x)\n",
        "\n",
        "self_attention = Attention(input_dim=x.shape[-1])  # Instantiate the attention class\n",
        "\n",
        "# Get attention, output, and scores by using the attention object like a function\n",
        "attention_weights, scores = self_attention(x)\n",
        "\n",
        "# Print the results\n",
        "print(\"Attention Weights:\", attention_weights)\n",
        "print(\"Scores (Contextual Vectors):\", scores)\n"
      ]
    },
    {
      "cell_type": "code",
      "execution_count": null,
      "metadata": {
        "colab": {
          "base_uri": "https://localhost:8080/"
        },
        "id": "AEo4hW6z2j5G",
        "outputId": "dd2668a4-99d9-4460-837e-1ce95d5950b2"
      },
      "outputs": [
        {
          "data": {
            "text/plain": [
              "(Parameter containing:\n",
              " tensor([[-0.7011, -0.5578],\n",
              "         [-0.3029, -0.6690]], requires_grad=True),\n",
              " Parameter containing:\n",
              " tensor([-0.0693,  0.4235], requires_grad=True))"
            ]
          },
          "execution_count": 13,
          "metadata": {},
          "output_type": "execute_result"
        }
      ],
      "source": [
        "#2input 2 outputs\n",
        "torch.manual_seed(3)\n",
        "nn.Linear(2,2).weight,nn.Linear(2,2).bias#each time u run u get new random values  osuse manul seed"
      ]
    },
    {
      "cell_type": "code",
      "execution_count": null,
      "metadata": {
        "colab": {
          "base_uri": "https://localhost:8080/"
        },
        "id": "M_9J72x7Cwn_",
        "outputId": "aefa160b-8326-493d-eee1-38914774db93"
      },
      "outputs": [
        {
          "name": "stdout",
          "output_type": "stream",
          "text": [
            "Input x: tensor([[[ 0.3923, -0.2236],\n",
            "         [-0.3195, -1.2050],\n",
            "         [ 1.0445, -0.6332]],\n",
            "\n",
            "        [[ 0.5731,  0.5409],\n",
            "         [-0.3919, -1.0427],\n",
            "         [ 1.3186,  0.7476]]])\n",
            "\n",
            "wq w and b\n",
            " Parameter containing:\n",
            "tensor([[-0.0672,  0.1862],\n",
            "        [-0.0339, -0.3959]], requires_grad=True) Parameter containing:\n",
            "tensor([-0.4008, -0.3435], requires_grad=True)\n",
            "\n",
            "wk w and b\n",
            " Parameter containing:\n",
            "tensor([[-0.6423, -0.4589],\n",
            "        [ 0.1664,  0.4654]], requires_grad=True) Parameter containing:\n",
            "tensor([ 0.0348, -0.3241], requires_grad=True)\n",
            "\n",
            "wv w and b\n",
            " Parameter containing:\n",
            "tensor([[ 0.3108, -0.2714],\n",
            "        [-0.1566, -0.3876]], requires_grad=True) Parameter containing:\n",
            "tensor([-0.2220, -0.6552], requires_grad=True)\n",
            "q tensor([[[-0.4688, -0.2683],\n",
            "         [-0.6037,  0.1444],\n",
            "         [-0.5889, -0.1283]],\n",
            "\n",
            "        [[-0.3386, -0.5772],\n",
            "         [-0.5686,  0.0826],\n",
            "         [-0.3502, -0.6843]]], grad_fn=<ViewBackward0>)\n",
            "k tensor([[[-0.4688, -0.2683],\n",
            "         [-0.6037,  0.1444],\n",
            "         [-0.5889, -0.1283]],\n",
            "\n",
            "        [[-0.3386, -0.5772],\n",
            "         [-0.5686,  0.0826],\n",
            "         [-0.3502, -0.6843]]], grad_fn=<ViewBackward0>)\n",
            "v tensor([[[-0.4688, -0.2683],\n",
            "         [-0.6037,  0.1444],\n",
            "         [-0.5889, -0.1283]],\n",
            "\n",
            "        [[-0.3386, -0.5772],\n",
            "         [-0.5686,  0.0826],\n",
            "         [-0.3502, -0.6843]]], grad_fn=<ViewBackward0>)\n",
            "Attention: tensor([[[0.3355, 0.3245, 0.3400],\n",
            "         [0.3152, 0.3483, 0.3366],\n",
            "         [0.3271, 0.3333, 0.3396]],\n",
            "\n",
            "        [[0.3503, 0.2827, 0.3670],\n",
            "         [0.3186, 0.3632, 0.3181],\n",
            "         [0.3539, 0.2723, 0.3738]]], grad_fn=<SoftmaxBackward0>)\n",
            "Scores: tensor([[[-0.5534, -0.0868],\n",
            "         [-0.5562, -0.0774],\n",
            "         [-0.5545, -0.0832]],\n",
            "\n",
            "        [[-0.4079, -0.4299],\n",
            "         [-0.4258, -0.3716],\n",
            "         [-0.4056, -0.4376]]], grad_fn=<UnsafeViewBackward0>)\n"
          ]
        }
      ],
      "source": [
        "#multihead attention class for n batches for 1 head same as self attention\n",
        "import torch.nn as nn\n",
        "import numpy as np\n",
        "class multihead_attention(nn.Module):\n",
        "  def __init__(self,inputdim,mask=None,heads=None):\n",
        "    super().__init__()\n",
        "    self.wq=nn.Linear(inputdim,inputdim)\n",
        "    self.wk=nn.Linear(inputdim,inputdim)\n",
        "    self.wv=nn.Linear(inputdim,inputdim)\n",
        "    self.mask = mask\n",
        "    self.heads=heads\n",
        "    print('\\nwq w and b\\n',self.wq.weight,self.wq.bias)\n",
        "    print('\\nwk w and b\\n',self.wk.weight,self.wk.bias)\n",
        "    print('\\nwv w and b\\n',self.wv.weight,self.wv.bias)\n",
        "\n",
        "\n",
        "\n",
        "  def scaled_dot_product_attention(self,q,k,v):\n",
        "    d_model = q.shape[-1]\n",
        "    scaled = torch.matmul(q, k.transpose(-2,-1)) / np.sqrt(d_model)\n",
        "    if self.mask is not None:\n",
        "      scaled = scaled + self.mask\n",
        "    attention = torch.softmax(scaled,dim=-1)\n",
        "    scores = torch.matmul(attention,v)\n",
        "    return  attention,scores\n",
        "\n",
        "  def softmax(self,z):\n",
        "    return torch.softmax(z,dim=-1)\n",
        "\n",
        "  def forward(self,x):\n",
        "    q=self.wq(x)\n",
        "    k=self.wq(x)\n",
        "    v=self.wq(x)\n",
        "    print('q',q)\n",
        "    print('k',k)\n",
        "    print('v',v)\n",
        "    attention,scores=self.scaled_dot_product_attention(q,k,v)\n",
        "    return attention,scores\n",
        "\n",
        "\n",
        "\n",
        "torch.manual_seed(2)\n",
        "#x = torch.randn(3, 2)  # seq len, input dim\n",
        "x=torch.randn(2,3,2)#batch,seq len,input dim\n",
        "print('Input x:', x)\n",
        "multiattention = multihead_attention(x.shape[-1])  # Instantiate the attention class\n",
        "\n",
        "# Get attention, output, and scores by using the attention object like a function\n",
        "attention, scores = multiattention(x)\n",
        "\n",
        "#Print the results\n",
        "\n",
        "print(\"Attention:\", attention)\n",
        "\n",
        "print(\"Scores:\", scores)\n"
      ]
    },
    {
      "cell_type": "code",
      "execution_count": null,
      "metadata": {
        "colab": {
          "base_uri": "https://localhost:8080/"
        },
        "id": "uGxYCACrVOdJ",
        "outputId": "cf573a20-db2f-40ce-8a0d-2f811914a5fc"
      },
      "outputs": [
        {
          "data": {
            "text/plain": [
              "torch.Size([2, 3, 2])"
            ]
          },
          "execution_count": 65,
          "metadata": {},
          "output_type": "execute_result"
        }
      ],
      "source": [
        "x=torch.randn(2,3,2)\n",
        "w=nn.Linear(2,2)\n",
        "y=w(x)\n",
        "y.shape"
      ]
    },
    {
      "cell_type": "code",
      "execution_count": null,
      "metadata": {
        "colab": {
          "base_uri": "https://localhost:8080/"
        },
        "id": "TPvuc0S3VgiQ",
        "outputId": "9a6f8093-ae77-4c95-accb-bab7b6f674a4"
      },
      "outputs": [
        {
          "data": {
            "text/plain": [
              "tensor([[[ 0.0391, -0.1455],\n",
              "         [ 0.3825, -0.7899],\n",
              "         [ 0.3771, -1.7423]],\n",
              "\n",
              "        [[ 0.0761, -0.4451],\n",
              "         [ 0.6037, -0.0096],\n",
              "         [ 0.5174, -0.9399]]], grad_fn=<ViewBackward0>)"
            ]
          },
          "execution_count": 67,
          "metadata": {},
          "output_type": "execute_result"
        }
      ],
      "source": [
        "y"
      ]
    },
    {
      "cell_type": "code",
      "execution_count": null,
      "metadata": {
        "colab": {
          "base_uri": "https://localhost:8080/"
        },
        "id": "Ov1k5eygVgpS",
        "outputId": "4930b1b4-77f9-47ab-f939-96eb79dfcd88"
      },
      "outputs": [
        {
          "data": {
            "text/plain": [
              "(Parameter containing:\n",
              " tensor([[ 0.2655, -0.1499],\n",
              "         [-0.2327, -0.5116]], requires_grad=True),\n",
              " Parameter containing:\n",
              " tensor([ 0.3639, -0.4971], requires_grad=True))"
            ]
          },
          "execution_count": 69,
          "metadata": {},
          "output_type": "execute_result"
        }
      ],
      "source": [
        "w.weight,w.bias"
      ]
    },
    {
      "cell_type": "code",
      "execution_count": null,
      "metadata": {
        "colab": {
          "base_uri": "https://localhost:8080/"
        },
        "id": "XfWUoNhiVgrZ",
        "outputId": "021f3f5f-aead-480a-af3c-f8647be46b91"
      },
      "outputs": [
        {
          "data": {
            "text/plain": [
              "tensor([[[-0.0766,  0.3599, -0.7820,  0.0715],\n",
              "         [ 0.6648, -0.2868,  1.6206, -1.5967],\n",
              "         [ 0.4046,  0.6113,  0.7604, -0.0336]],\n",
              "\n",
              "        [[-0.3448,  0.4937, -0.0776, -1.8054],\n",
              "         [ 0.4851,  0.2052,  0.3384,  1.3528],\n",
              "         [ 0.3736,  0.0134,  0.7737, -0.1092]]])"
            ]
          },
          "execution_count": 89,
          "metadata": {},
          "output_type": "execute_result"
        }
      ],
      "source": [
        "torch.manual_seed(3)\n",
        "q=torch.randn(2,3,4)\n",
        "q"
      ]
    },
    {
      "cell_type": "code",
      "execution_count": null,
      "metadata": {
        "id": "iGoGf0xXZQV5"
      },
      "outputs": [],
      "source": []
    },
    {
      "cell_type": "code",
      "execution_count": null,
      "metadata": {
        "colab": {
          "base_uri": "https://localhost:8080/"
        },
        "id": "jAUlCUipWqeL",
        "outputId": "b9affeac-9382-4e4b-9962-30f0265bc548"
      },
      "outputs": [
        {
          "data": {
            "text/plain": [
              "tensor([[[[-0.0766,  0.3599],\n",
              "          [-0.7820,  0.0715]],\n",
              "\n",
              "         [[ 0.6648, -0.2868],\n",
              "          [ 1.6206, -1.5967]],\n",
              "\n",
              "         [[ 0.4046,  0.6113],\n",
              "          [ 0.7604, -0.0336]]],\n",
              "\n",
              "\n",
              "        [[[-0.3448,  0.4937],\n",
              "          [-0.0776, -1.8054]],\n",
              "\n",
              "         [[ 0.4851,  0.2052],\n",
              "          [ 0.3384,  1.3528]],\n",
              "\n",
              "         [[ 0.3736,  0.0134],\n",
              "          [ 0.7737, -0.1092]]]])"
            ]
          },
          "execution_count": 91,
          "metadata": {},
          "output_type": "execute_result"
        }
      ],
      "source": [
        "#we need to split dmodel into h heads\n",
        "q.view(q.shape[0],3,2,2)#bathch,seqlen,heads,headsdim\n"
      ]
    },
    {
      "cell_type": "code",
      "execution_count": null,
      "metadata": {
        "colab": {
          "base_uri": "https://localhost:8080/"
        },
        "id": "qvS5z7lTWqgf",
        "outputId": "e9cbdcf1-f226-4b95-bc79-f2253d6db41e"
      },
      "outputs": [
        {
          "data": {
            "text/plain": [
              "torch.Size([2, 2, 2, 2])"
            ]
          },
          "execution_count": 88,
          "metadata": {},
          "output_type": "execute_result"
        }
      ],
      "source": [
        "q.view(q.shape[0],2,2,2).shape"
      ]
    },
    {
      "cell_type": "code",
      "execution_count": null,
      "metadata": {
        "colab": {
          "base_uri": "https://localhost:8080/"
        },
        "id": "iR-8gHDwWqi1",
        "outputId": "e6ee6d28-b260-413f-e201-6827b56c415f"
      },
      "outputs": [
        {
          "data": {
            "text/plain": [
              "(tensor([[[-0.0766,  0.3599, -0.7820,  0.0715],\n",
              "          [ 0.6648, -0.2868,  1.6206, -1.5967],\n",
              "          [ 0.4046,  0.6113,  0.7604, -0.0336]],\n",
              " \n",
              "         [[-0.3448,  0.4937, -0.0776, -1.8054],\n",
              "          [ 0.4851,  0.2052,  0.3384,  1.3528],\n",
              "          [ 0.3736,  0.0134,  0.7737, -0.1092]]]),\n",
              " tensor([[[[-0.0766,  0.3599],\n",
              "           [-0.7820,  0.0715],\n",
              "           [ 0.6648, -0.2868]],\n",
              " \n",
              "          [[ 1.6206, -1.5967],\n",
              "           [ 0.4046,  0.6113],\n",
              "           [ 0.7604, -0.0336]]],\n",
              " \n",
              " \n",
              "         [[[-0.3448,  0.4937],\n",
              "           [-0.0776, -1.8054],\n",
              "           [ 0.4851,  0.2052]],\n",
              " \n",
              "          [[ 0.3384,  1.3528],\n",
              "           [ 0.3736,  0.0134],\n",
              "           [ 0.7737, -0.1092]]]]),\n",
              " tensor([[[[-0.0766,  0.3599],\n",
              "           [ 1.6206, -1.5967]],\n",
              " \n",
              "          [[-0.7820,  0.0715],\n",
              "           [ 0.4046,  0.6113]],\n",
              " \n",
              "          [[ 0.6648, -0.2868],\n",
              "           [ 0.7604, -0.0336]]],\n",
              " \n",
              " \n",
              "         [[[-0.3448,  0.4937],\n",
              "           [ 0.3384,  1.3528]],\n",
              " \n",
              "          [[-0.0776, -1.8054],\n",
              "           [ 0.3736,  0.0134]],\n",
              " \n",
              "          [[ 0.4851,  0.2052],\n",
              "           [ 0.7737, -0.1092]]]]))"
            ]
          },
          "execution_count": 11,
          "metadata": {},
          "output_type": "execute_result"
        }
      ],
      "source": [
        "torch.manual_seed(3)\n",
        "q=torch.randn(2,3,4)\n",
        "q,q.view(q.shape[0],2,3,2),q.view(q.shape[0],2,3,2).permute(0,2,1,3)"
      ]
    },
    {
      "cell_type": "code",
      "execution_count": null,
      "metadata": {
        "colab": {
          "base_uri": "https://localhost:8080/"
        },
        "id": "CA09USGiWqlC",
        "outputId": "03668320-f523-453c-e21a-e6d3c5f3f290"
      },
      "outputs": [
        {
          "data": {
            "text/plain": [
              "(torch.Size([2, 3, 4]), torch.Size([2, 2, 3, 2]), torch.Size([2, 3, 2, 2]))"
            ]
          },
          "execution_count": 12,
          "metadata": {},
          "output_type": "execute_result"
        }
      ],
      "source": [
        "q.shape,q.view(q.shape[0],2,3,2).shape,q.view(q.shape[0],2,3,2).permute(0,2,1,3).shape#permute and view diff"
      ]
    },
    {
      "cell_type": "code",
      "execution_count": null,
      "metadata": {
        "colab": {
          "base_uri": "https://localhost:8080/"
        },
        "id": "ZgloyeT2cbgd",
        "outputId": "4fca3ed7-0bb6-49af-f14e-bc734130c049"
      },
      "outputs": [
        {
          "data": {
            "text/plain": [
              "tensor([[1., 0., 0.],\n",
              "        [1., 1., 0.],\n",
              "        [1., 1., 1.]])"
            ]
          },
          "execution_count": 50,
          "metadata": {},
          "output_type": "execute_result"
        }
      ],
      "source": [
        "torch.tril(torch.ones(3,3))"
      ]
    },
    {
      "cell_type": "code",
      "execution_count": null,
      "metadata": {
        "colab": {
          "base_uri": "https://localhost:8080/"
        },
        "id": "kEc7Ui4AeB_u",
        "outputId": "d7213c5a-00ec-49ff-ccf2-6c6c2f834547"
      },
      "outputs": [
        {
          "data": {
            "text/plain": [
              "(-inf, tensor(-1.4142))"
            ]
          },
          "execution_count": 61,
          "metadata": {},
          "output_type": "execute_result"
        }
      ],
      "source": [
        "-torch.inf,-torch.sqrt(torch.tensor(2))"
      ]
    },
    {
      "cell_type": "code",
      "execution_count": null,
      "metadata": {
        "colab": {
          "base_uri": "https://localhost:8080/"
        },
        "id": "IWaPu60cecTu",
        "outputId": "1390ea5e-21aa-4d2f-a11d-fed8239d494f"
      },
      "outputs": [
        {
          "data": {
            "text/plain": [
              "tensor([[1., 0., 0., 0.],\n",
              "        [1., 1., 0., 0.],\n",
              "        [1., 1., 1., 0.],\n",
              "        [1., 1., 1., 1.]])"
            ]
          },
          "execution_count": 68,
          "metadata": {},
          "output_type": "execute_result"
        }
      ],
      "source": [
        "torch.manual_seed(3)\n",
        "q=torch.randn(2,4,4)\n",
        "torch.tril(torch.ones( q.shape[-2],q.shape[-1] ))"
      ]
    },
    {
      "cell_type": "code",
      "execution_count": null,
      "metadata": {
        "id": "reMVMz0VerdV"
      },
      "outputs": [],
      "source": []
    },
    {
      "cell_type": "code",
      "execution_count": null,
      "metadata": {
        "colab": {
          "base_uri": "https://localhost:8080/"
        },
        "id": "qZx0JuXZWqne",
        "outputId": "c0b8716e-25c0-420b-b4be-eaa21add6620"
      },
      "outputs": [
        {
          "name": "stdout",
          "output_type": "stream",
          "text": [
            "mask tensor([[0., -inf, -inf],\n",
            "        [0., 0., -inf],\n",
            "        [0., 0., 0.]])\n",
            "scaled tensor([[[-0.1046,    -inf,    -inf],\n",
            "         [ 0.7379,  2.9088,    -inf],\n",
            "         [ 0.1956,  0.2048, -0.3698]],\n",
            "\n",
            "        [[-0.3592,    -inf,    -inf],\n",
            "         [-0.6748,  2.0231,    -inf],\n",
            "         [-0.3402,  0.3450, -0.0567]]])\n",
            "Attention Scores:\n",
            "tensor([[[1.0000, 0.0000, 0.0000],\n",
            "         [0.1024, 0.8976, 0.0000],\n",
            "         [0.3880, 0.3916, 0.2204]],\n",
            "\n",
            "        [[1.0000, 0.0000, 0.0000],\n",
            "         [0.0631, 0.9369, 0.0000],\n",
            "         [0.2319, 0.4602, 0.3079]]])\n",
            "Scores:\n",
            "tensor([[[-1.5835,  1.3960, -1.3898],\n",
            "         [-0.3052,  0.4279, -0.0121],\n",
            "         [-0.8141,  0.6635, -0.5603]],\n",
            "\n",
            "        [[-0.8388, -0.6851, -0.3094],\n",
            "         [ 0.4306, -0.8698,  0.5067],\n",
            "         [ 0.4878, -0.6292, -0.7714]]])\n"
          ]
        }
      ],
      "source": [
        "import torch\n",
        "\n",
        "def f1(q, k, v, mask=None):\n",
        "    dk = torch.tensor(q.shape[-1], dtype=torch.float32)\n",
        "    scaled = torch.matmul(q, k.transpose(-2, -1)) / torch.sqrt(dk)\n",
        "\n",
        "    if mask is not None:\n",
        "        # Create a tensor of ones with shape (seq_len, seq_len)\n",
        "        mask = torch.ones(q.shape[-2], q.shape[-1], device=q.device)\n",
        "        mask = torch.tril(mask)  # Apply the lower triangular mask\n",
        "\n",
        "        # Set the upper triangle to -inf and the lower triangle to 0\n",
        "        mask[mask == 0] = -torch.inf\n",
        "        mask[mask == 1] = 0\n",
        "        print('mask',mask)\n",
        "        # Add the mask to the scaled logits\n",
        "        scaled = scaled + mask\n",
        "        print('scaled',scaled)\n",
        "    attention = torch.softmax(scaled, dim=-1)\n",
        "    scores = torch.matmul(attention, v)\n",
        "\n",
        "    print(\"Attention Scores:\")\n",
        "    print(attention)\n",
        "    print(\"Scores:\")\n",
        "    print(scores)\n",
        "\n",
        "# Example usage\n",
        "torch.manual_seed(3)\n",
        "q = torch.randn(2, 3, 3)\n",
        "k = torch.randn(2, 3, 3)\n",
        "v = torch.randn(2, 3, 3)\n",
        "\n",
        "f1(q, k, v, mask=True)\n"
      ]
    },
    {
      "cell_type": "code",
      "execution_count": null,
      "metadata": {
        "id": "A4HINSZAWqph"
      },
      "outputs": [],
      "source": []
    },
    {
      "cell_type": "code",
      "execution_count": null,
      "metadata": {
        "id": "7ZbN-CUlWqr-"
      },
      "outputs": [],
      "source": []
    },
    {
      "cell_type": "code",
      "execution_count": null,
      "metadata": {
        "id": "-WmzJ07MWquS"
      },
      "outputs": [],
      "source": []
    },
    {
      "cell_type": "code",
      "execution_count": null,
      "metadata": {
        "id": "C6EkavfpWqwz"
      },
      "outputs": [],
      "source": []
    },
    {
      "cell_type": "code",
      "execution_count": null,
      "metadata": {
        "id": "WKYYhFxUVdgz"
      },
      "outputs": [],
      "source": []
    },
    {
      "cell_type": "code",
      "execution_count": null,
      "metadata": {
        "colab": {
          "base_uri": "https://localhost:8080/"
        },
        "id": "_RuYoJjqDH72",
        "outputId": "bfe65675-f421-4462-dc63-9b1013c487ac"
      },
      "outputs": [
        {
          "name": "stdout",
          "output_type": "stream",
          "text": [
            "Input x: tensor([[[-1.0408,  0.9166],\n",
            "         [-1.3042, -1.1097],\n",
            "         [-1.2188,  1.1676],\n",
            "         [-1.0574, -0.1188]],\n",
            "\n",
            "        [[-0.9078,  0.3452],\n",
            "         [-0.5713, -0.2351],\n",
            "         [ 1.0076, -0.7529],\n",
            "         [-0.2250, -0.4327]]])\n",
            "heads = 3\n",
            "q torch.Size([2, 3, 4, 2])\n",
            "k torch.Size([2, 3, 4, 2])\n",
            "v torch.Size([2, 3, 4, 2])\n",
            "mask torch.Size([4, 4])\n",
            "scaled torch.Size([2, 3, 4, 4])\n",
            "attention shape torch.Size([2, 3, 4, 4])\n",
            "Scores: torch.Size([2, 3, 4, 2])\n"
          ]
        }
      ],
      "source": [
        "#multihead attention class for n batches for n head same as self attention\n",
        "#final\n",
        "# own implementation\n",
        "import torch.nn as nn\n",
        "import torch\n",
        "import numpy as np\n",
        "import matplotlib.pyplot as plt\n",
        "import seaborn as sns\n",
        "\n",
        "\n",
        "\n",
        "\n",
        "class multihead_attention(nn.Module):\n",
        "  def __init__(self,inputdim,dmodel,masking=None,heads=1):\n",
        "    super().__init__()\n",
        "    self.heads=heads\n",
        "    self.masking = masking\n",
        "    assert dmodel % heads == 0, \"Embedding dimension must be divisible by num_heads\"\n",
        "    self.inputdim=inputdim\n",
        "    self.dmodel=dmodel\n",
        "    self.head_dim = self.dmodel //self.heads\n",
        "    self.wq=nn.Linear(self.inputdim,self.dmodel)\n",
        "    self.wk=nn.Linear(self.inputdim,self.dmodel)\n",
        "    self.wv=nn.Linear(self.inputdim,self.dmodel)\n",
        "    # print('\\nwq w and b\\n',self.wq.weight,self.wq.bias)\n",
        "    # print('\\nwk w and b\\n',self.wk.weight,self.wk.bias)\n",
        "    # print('\\nwv w and b\\n',self.wv.weight,self.wv.bias)\n",
        "    print('heads =',self.heads)\n",
        "\n",
        "  def scaled_dot_product_attention(self,q,k,v):\n",
        "    dk = torch.tensor(q.shape[-1], dtype=torch.float32)\n",
        "    scaled = torch.matmul(q, k.transpose(-2, -1)) / torch.sqrt(dk)\n",
        "\n",
        "    if self.masking is not None:\n",
        "        # Create a tensor of ones with shape (seq_len, seq_len)\n",
        "        mask = torch.ones(q.shape[2],q.shape[2], device=q.device)\n",
        "        mask = torch.tril(mask)  # Apply the lower triangular mask\n",
        "\n",
        "        # Set the upper triangle to -inf and the lower triangle to 0\n",
        "        mask[mask == 0] = -torch.inf\n",
        "        mask[mask == 1] = 0\n",
        "        print('mask',mask.shape)\n",
        "        # Add the mask to the scaled logits\n",
        "        scaled = scaled + mask\n",
        "        print('scaled',scaled.shape)\n",
        "    attention = torch.softmax(scaled, dim=-1)\n",
        "    scores = torch.matmul(attention, v)\n",
        "    return attention, scores\n",
        "\n",
        "  def softmax(self,z):\n",
        "    return torch.softmax(z,dim=-1)\n",
        "\n",
        "  def forward(self,x):\n",
        "    batch_size, sequence_length, input_dim = x.size()\n",
        "    q=self.wq(x)\n",
        "    k=self.wk(x)\n",
        "    v=self.wv(x)\n",
        "    #print('orig q',q)\n",
        "    #print('orig k',k)\n",
        "    #print('orig v',v)\n",
        "    #split into heads\n",
        "    q=q.view(batch_size,sequence_length,self.heads,self.head_dim)\n",
        "    k=k.view(batch_size,sequence_length,self.heads,self.head_dim)\n",
        "    v=v.view(batch_size,sequence_length,self.heads,self.head_dim)\n",
        "    q=q.permute(0,2,1,3)#reardding dim second arg as head for scaled dot prod attention mulitpcation\n",
        "    k=k.permute(0,2,1,3)\n",
        "    v=v.permute(0,2,1,3)\n",
        "    print('q',q.shape)\n",
        "    print('k',k.shape)\n",
        "    print('v',v.shape)\n",
        "\n",
        "    attention,scores=self.scaled_dot_product_attention(q,k,v)\n",
        "    return attention,scores\n",
        "\n",
        "def plot_multhead(attention, sentences):\n",
        "    # Plot attention for each head\n",
        "    num_batches = attention.shape[0]\n",
        "    num_heads = attention.shape[1]\n",
        "    sequence_length = attention.shape[2]\n",
        "\n",
        "    # Create a figure with subplots\n",
        "    fig, axes = plt.subplots(num_batches, num_heads, figsize=(5 * num_heads, 5 * num_batches))  # Adjust size as needed\n",
        "    if num_heads == 1:\n",
        "        axes = [axes]  # Make axes iterable for the case of a single head\n",
        "    if num_batches == 1:\n",
        "        axes = [axes]  # Make axes iterable for the case of a single batch\n",
        "\n",
        "    # Tokens for x-axis labels from the input sentences\n",
        "    for batch_idx in range(num_batches):\n",
        "        for head_idx in range(num_heads):\n",
        "            ax = axes[batch_idx][head_idx] if num_batches > 1 else axes[head_idx]\n",
        "            sns.heatmap(attention[batch_idx, head_idx].detach().numpy(), annot=True, cmap=\"Blues\", ax=ax)\n",
        "\n",
        "            # Set the x and y axis labels as the words from the sentences\n",
        "            sentence = sentences[batch_idx]\n",
        "            ax.set_title(f\"Attention Heatmap for Batch {batch_idx + 1}, Head {head_idx + 1}\")\n",
        "            ax.set_xticklabels(sentence, rotation=45, ha=\"right\")  # Set word labels on x-axis\n",
        "            ax.set_yticklabels(sentence, rotation=0)  # Optional: Set word labels on y-axis\n",
        "\n",
        "    plt.tight_layout()\n",
        "    plt.show()\n",
        "\n",
        "\n",
        "\n",
        "torch.manual_seed(2)\n",
        "input_dim = 2\n",
        "d_model =6\n",
        "num_heads = 3\n",
        "batch_size =2\n",
        "sequence_length = 4\n",
        "\n",
        "x=torch.randn(batch_size,sequence_length,input_dim)#batch,seq len,input dim\n",
        "print('Input x:', x)\n",
        "multiattention = multihead_attention(input_dim,d_model,heads=num_heads,masking=True)  # Instantiate the attention class\n",
        "\n",
        "# Get attention, output, and scores by using the attention object like a function\n",
        "attention, scores = multiattention(x)\n",
        "\n",
        "#Print the results\n",
        "\n",
        "#print(\"Attention:\", attention)\n",
        "print('attention shape',attention.shape)\n",
        "\n",
        "#print(\"Scores:\", scores)\n",
        "print(\"Scores:\", scores.shape)\n",
        "# Example sentences: \"I am GPT\" and \"Good to know\"\n",
        "sentences = [[\"I\", \"am\", \"GPT\"], [\"Good\", \"to\", \"know\"]]\n",
        "#plot_multhead(attention, sentences)\n"
      ]
    },
    {
      "cell_type": "code",
      "execution_count": null,
      "metadata": {
        "colab": {
          "base_uri": "https://localhost:8080/",
          "height": 222
        },
        "id": "qmprKGvvCwqh",
        "outputId": "f750b423-fc8d-4bad-ef0d-ba844bdb49b8"
      },
      "outputs": [
        {
          "data": {
            "image/png": "[encoded data removed]",
            "text/plain": [
              "<Figure size 2000x400 with 8 Axes>"
            ]
          },
          "metadata": {},
          "output_type": "display_data"
        }
      ],
      "source": [
        "import matplotlib.pyplot as plt\n",
        "import seaborn as sns\n",
        "\n",
        "def plot_multhead(attention):\n",
        "    # Plot attention for each head\n",
        "    batch_idx = 0  # You can loop for all batches if needed\n",
        "    num_heads = attention.shape[1]\n",
        "    sequence_length = attention.shape[2]\n",
        "\n",
        "    # Create a figure with subplots\n",
        "    fig, axes = plt.subplots(1, num_heads, figsize=(5 * num_heads, 4))  # Adjust size as needed\n",
        "    if num_heads == 1:\n",
        "        axes = [axes]  # Make axes iterable for the case of a single head\n",
        "\n",
        "    # Tokens for x-axis labels\n",
        "    tokens = [f\"Token {i+1}\" for i in range(sequence_length)]\n",
        "\n",
        "    for head_idx in range(num_heads):\n",
        "        ax = axes[head_idx]\n",
        "        sns.heatmap(attention[batch_idx, head_idx].detach().numpy(), annot=True, cmap=\"Blues\", ax=ax)\n",
        "\n",
        "        # Set the x and y axis labels\n",
        "        ax.set_title(f\"Attention Heatmap for Head {head_idx + 1}\")\n",
        "        ax.set_xticklabels(tokens, rotation=45, ha=\"right\")  # Set token labels on x-axis\n",
        "        ax.set_yticklabels(tokens, rotation=0)  # Optional: Set token labels on y-axis\n",
        "\n",
        "    plt.tight_layout()\n",
        "    plt.show()\n",
        "\n",
        "# Call the plot function\n",
        "plot_multhead(attention)\n"
      ]
    },
    {
      "cell_type": "code",
      "execution_count": null,
      "metadata": {
        "id": "aS8qzCXvPaI7"
      },
      "outputs": [],
      "source": []
    },
    {
      "cell_type": "code",
      "execution_count": null,
      "metadata": {
        "id": "KjKfYxtnPadT"
      },
      "outputs": [],
      "source": []
    },
    {
      "cell_type": "code",
      "execution_count": null,
      "metadata": {
        "colab": {
          "base_uri": "https://localhost:8080/",
          "height": 537
        },
        "id": "Naakb4f7Cws7",
        "outputId": "67d29016-6176-4b72-a2c5-662a03023e29"
      },
      "outputs": [
        {
          "data": {
            "image/png": "[encoded data removed]",
            "text/plain": [
              "<Figure size 2000x1000 with 16 Axes>"
            ]
          },
          "metadata": {},
          "output_type": "display_data"
        }
      ],
      "source": [
        "import matplotlib.pyplot as plt\n",
        "import seaborn as sns\n",
        "\n",
        "def plot_multhead(attention, sentences):\n",
        "    # Plot attention for each head\n",
        "    num_batches = attention.shape[0]\n",
        "    num_heads = attention.shape[1]\n",
        "    sequence_length = attention.shape[2]\n",
        "\n",
        "    # Create a figure with subplots\n",
        "    fig, axes = plt.subplots(num_batches, num_heads, figsize=(5 * num_heads, 5 * num_batches))  # Adjust size as needed\n",
        "    if num_heads == 1:\n",
        "        axes = [axes]  # Make axes iterable for the case of a single head\n",
        "    if num_batches == 1:\n",
        "        axes = [axes]  # Make axes iterable for the case of a single batch\n",
        "\n",
        "    # Tokens for x-axis labels from the input sentences\n",
        "    for batch_idx in range(num_batches):\n",
        "        for head_idx in range(num_heads):\n",
        "            ax = axes[batch_idx][head_idx] if num_batches > 1 else axes[head_idx]\n",
        "            sns.heatmap(attention[batch_idx, head_idx].detach().numpy(), annot=True, cmap=\"Blues\", ax=ax)\n",
        "\n",
        "            # Set the x and y axis labels as the words from the sentences\n",
        "            sentence = sentences[batch_idx]\n",
        "            ax.set_title(f\"Attention Heatmap for Batch {batch_idx + 1}, Head {head_idx + 1}\")\n",
        "            ax.set_xticklabels(sentence, rotation=45, ha=\"right\")  # Set word labels on x-axis\n",
        "            ax.set_yticklabels(sentence, rotation=0)  # Optional: Set word labels on y-axis\n",
        "\n",
        "    plt.tight_layout()\n",
        "    plt.show()\n",
        "\n",
        "# Example sentences: \"I am GPT\" and \"Good to know\"\n",
        "sentences = [[\"I\", \"am\", \"GPT\"], [\"Good\", \"to\", \"know\"]]\n",
        "plot_multhead(attention, sentences)"
      ]
    },
    {
      "cell_type": "code",
      "execution_count": null,
      "metadata": {
        "id": "-4gOGgPOzGxv"
      },
      "outputs": [],
      "source": []
    },
    {
      "cell_type": "code",
      "execution_count": null,
      "metadata": {
        "id": "j8mXSoeCzG0i"
      },
      "outputs": [],
      "source": []
    },
    {
      "cell_type": "code",
      "execution_count": null,
      "metadata": {
        "id": "o5bgwCHwzHDd"
      },
      "outputs": [],
      "source": []
    },
    {
      "cell_type": "code",
      "execution_count": null,
      "metadata": {
        "id": "yS2V7JezzHFy"
      },
      "outputs": [],
      "source": []
    },
    {
      "cell_type": "code",
      "execution_count": null,
      "metadata": {
        "id": "cYIu8Iw03wJP"
      },
      "outputs": [],
      "source": [
        "#multihead attention using numpy\n",
        "import numpy as np\n",
        "import math\n",
        "import matplotlib.pyplot as plt\n",
        "import seaborn as sns\n",
        "\n",
        "def softmax(x):\n",
        "    return (np.exp(x).T / np.sum(np.exp(x), axis=-1)).T\n",
        "\n",
        "def scaled_dot_product_attention(q, k, v, mask=None):\n",
        "    d_k = q.shape[-1]\n",
        "    scaled = np.matmul(q, k.T) / math.sqrt(d_k)\n",
        "    if mask is not None:\n",
        "        scaled = scaled + mask\n",
        "    attention = softmax(scaled)\n",
        "    out = np.matmul(attention, v)\n",
        "    return out, attention\n",
        "\n",
        "# Multi-head Attention function\n",
        "def multi_head_attention(q, k, v, num_heads=2):\n",
        "    \"\"\"\n",
        "    Multi-head attention mechanism with specified number of heads.\n",
        "\n",
        "    Args:\n",
        "    - q, k, v: query, key, and value matrices\n",
        "    - num_heads: Number of attention heads\n",
        "\n",
        "    Returns:\n",
        "    - Concatenated output from all attention heads and the attention maps\n",
        "    \"\"\"\n",
        "    assert q.shape[1] % num_heads == 0, \"Embedding dimension must be divisible by num_heads\"\n",
        "\n",
        "    head_dim = q.shape[1] // num_heads\n",
        "\n",
        "    # Split q, k, v for each head\n",
        "    q_heads = np.array(np.split(q, num_heads, axis=-1))\n",
        "    k_heads = np.array(np.split(k, num_heads, axis=-1))\n",
        "    v_heads = np.array(np.split(v, num_heads, axis=-1))\n",
        "\n",
        "    attention_outputs = []\n",
        "    attention_maps = []\n",
        "\n",
        "    for i in range(num_heads):\n",
        "        out, attention = scaled_dot_product_attention(q_heads[i], k_heads[i], v_heads[i])\n",
        "        attention_outputs.append(out)\n",
        "        attention_maps.append(attention)\n",
        "\n",
        "    # Concatenate outputs from all heads\n",
        "    print('attention_output',attention_outputs)\n",
        "    concatenated_output = np.concatenate(attention_outputs, axis=-1)\n",
        "    return concatenated_output, attention_maps\n",
        "\n",
        "# Generate random q, k, v as given\n",
        "L, d_k, d_v = 3, 4,4\n",
        "q = np.random.randn(L, d_k)\n",
        "k = np.random.randn(L, d_k)\n",
        "v = np.random.randn(L, d_v)\n",
        "\n",
        "# Apply multi-head attention\n",
        "num_heads = 4\n",
        "output, attention_maps = multi_head_attention(q, k, v, num_heads=num_heads)\n",
        "\n",
        "print(\"Input Q:\\n\", q)\n",
        "print(\"Input K:\\n\", k)\n",
        "print(\"Input V:\\n\", v)\n",
        "print(\"\\nOutput after Multi-Head Attention:\\n\", output)\n",
        "\n",
        "# Plot the attention maps for each head\n",
        "tokens = [\"I\", \"am\", \"ChatGPT\"]\n",
        "fig, axes = plt.subplots(1, num_heads, figsize=(15, 5))\n",
        "\n",
        "for i in range(num_heads):\n",
        "    sns.heatmap(attention_maps[i], annot=True, cmap='Blues', xticklabels=tokens, yticklabels=tokens, cbar=True, ax=axes[i])\n",
        "    axes[i].set_title(f\"Head {i+1} Attention\")\n",
        "    axes[i].set_xlabel(\"Keys (K)\")\n",
        "    axes[i].set_ylabel(\"Queries (Q)\")\n",
        "\n",
        "plt.tight_layout()\n",
        "plt.show()\n"
      ]
    },
    {
      "cell_type": "code",
      "execution_count": null,
      "metadata": {
        "colab": {
          "base_uri": "https://localhost:8080/"
        },
        "id": "1NMQEiuC5PNx",
        "outputId": "f7c03a4e-2653-4e34-9df8-0fd16a05b766"
      },
      "outputs": [
        {
          "data": {
            "text/plain": [
              "1"
            ]
          },
          "execution_count": 10,
          "metadata": {},
          "output_type": "execute_result"
        }
      ],
      "source": [
        "q.shape[1]//3"
      ]
    },
    {
      "cell_type": "code",
      "execution_count": null,
      "metadata": {
        "colab": {
          "base_uri": "https://localhost:8080/"
        },
        "id": "rihk7zuUB2RP",
        "outputId": "03b240a7-1c07-4b97-8dd0-710a43dfc472"
      },
      "outputs": [
        {
          "data": {
            "text/plain": [
              "array([[ 1.49011329, -0.56310684, -1.34821423, -0.90496438],\n",
              "       [-1.01167136,  0.06952162,  1.16321428,  2.7645599 ],\n",
              "       [-0.42109332,  0.80756037,  0.05572551, -2.60140516]])"
            ]
          },
          "execution_count": 16,
          "metadata": {},
          "output_type": "execute_result"
        }
      ],
      "source": [
        "q"
      ]
    },
    {
      "cell_type": "code",
      "execution_count": null,
      "metadata": {
        "colab": {
          "base_uri": "https://localhost:8080/"
        },
        "id": "aRjrrs4P5guH",
        "outputId": "eca1946b-4707-4168-8edf-439544b52226"
      },
      "outputs": [
        {
          "data": {
            "text/plain": [
              "(2, 3, 2)"
            ]
          },
          "execution_count": 17,
          "metadata": {},
          "output_type": "execute_result"
        }
      ],
      "source": [
        " np.array(np.split(q, 2, axis=-1)).shape"
      ]
    },
    {
      "cell_type": "code",
      "execution_count": null,
      "metadata": {
        "colab": {
          "base_uri": "https://localhost:8080/"
        },
        "id": "xIrjaow_BtoB",
        "outputId": "9963fc2c-47c1-4e82-b4f4-1a8d0f9a3f25"
      },
      "outputs": [
        {
          "data": {
            "text/plain": [
              "array([[[ 1.49011329, -0.56310684],\n",
              "        [-1.01167136,  0.06952162],\n",
              "        [-0.42109332,  0.80756037]],\n",
              "\n",
              "       [[-1.34821423, -0.90496438],\n",
              "        [ 1.16321428,  2.7645599 ],\n",
              "        [ 0.05572551, -2.60140516]]])"
            ]
          },
          "execution_count": 18,
          "metadata": {},
          "output_type": "execute_result"
        }
      ],
      "source": [
        " np.array(np.split(q, 2, axis=-1))"
      ]
    },
    {
      "cell_type": "code",
      "execution_count": null,
      "metadata": {
        "colab": {
          "base_uri": "https://localhost:8080/"
        },
        "id": "mQ6HzlEtC_Pz",
        "outputId": "1169b3f3-3c22-4264-9464-f0ac5efb4f03"
      },
      "outputs": [
        {
          "data": {
            "text/plain": [
              "64"
            ]
          },
          "execution_count": 24,
          "metadata": {},
          "output_type": "execute_result"
        }
      ],
      "source": [
        "512//8"
      ]
    },
    {
      "cell_type": "code",
      "execution_count": null,
      "metadata": {
        "colab": {
          "base_uri": "https://localhost:8080/",
          "height": 528
        },
        "id": "uzZkLo3WFpTZ",
        "outputId": "6f04b732-9546-4a0f-ec2d-8224581ce974"
      },
      "outputs": [
        {
          "name": "stdout",
          "output_type": "stream",
          "text": [
            "Output after Multi-Head Attention:\n",
            " [[[-1.4828785  -0.07412343 -0.2533214   1.96585238]\n",
            "  [-1.66523979 -0.02408896 -0.09970823  0.52037312]\n",
            "  [-1.42320825 -0.06577388 -0.29025327  0.99061619]]]\n"
          ]
        },
        {
          "data": {
            "image/png": "[encoded data removed]",
            "text/plain": [
              "<Figure size 1000x400 with 4 Axes>"
            ]
          },
          "metadata": {},
          "output_type": "display_data"
        },
        {
          "data": {
            "text/plain": [
              "array([[[-0.41675785, -0.05626683, -2.1361961 ,  1.64027081],\n",
              "        [-1.79343559, -0.84174737,  0.50288142, -1.24528809],\n",
              "        [-1.05795222, -0.90900761,  0.55145404,  2.29220801]]])"
            ]
          },
          "execution_count": 19,
          "metadata": {},
          "output_type": "execute_result"
        }
      ],
      "source": [
        "import numpy as np\n",
        "import math\n",
        "import matplotlib.pyplot as plt\n",
        "import seaborn as sns\n",
        "\n",
        "\n",
        "def softmax(x, axis=-1):\n",
        "    exp_x = np.exp(x - np.max(x, axis=axis, keepdims=True))  # Numerical stability\n",
        "    return exp_x / np.sum(exp_x, axis=axis, keepdims=True)\n",
        "\n",
        "\n",
        "def scaled_dot_product_attention(q, k, v, mask=None):\n",
        "    d_k = q.shape[-1]\n",
        "    # Transpose k for correct dot product\n",
        "    scores = np.matmul(q, k.transpose(0, 1, 3, 2)) / math.sqrt(d_k)\n",
        "\n",
        "    if mask is not None:\n",
        "        scores += mask\n",
        "\n",
        "    attention = softmax(scores, axis=-1)\n",
        "    values = np.matmul(attention, v)\n",
        "    return values, attention\n",
        "\n",
        "\n",
        "def multi_head_attention(q, k, v, num_heads=2):\n",
        "    batch_size, seq_len, d_model = q.shape\n",
        "    head_dim = d_model // num_heads\n",
        "    assert d_model % num_heads == 0, \"d_model must be divisible by num_heads\"\n",
        "\n",
        "    # Reshape and split into multiple heads\n",
        "    def split_heads(x):\n",
        "        reshaped = x.reshape(batch_size, seq_len, num_heads, head_dim)\n",
        "        return np.transpose(reshaped, axes=(0, 2, 1, 3))  # (batch_size, num_heads, seq_len, head_dim)\n",
        "\n",
        "    q_heads = split_heads(q)\n",
        "    k_heads = split_heads(k)\n",
        "    v_heads = split_heads(v)\n",
        "\n",
        "    # Compute attention for all heads in parallel\n",
        "    attention_output, attention_weights = scaled_dot_product_attention(q_heads, k_heads, v_heads)\n",
        "\n",
        "    # Concatenate all attention outputs\n",
        "    attention_output = np.transpose(attention_output, axes=(0, 2, 1, 3)).reshape(batch_size, seq_len, d_model)\n",
        "\n",
        "    return attention_output, attention_weights\n",
        "\n",
        "\n",
        "# Example setup\n",
        "np.random.seed(2)\n",
        "L, d_model, num_heads = 3, 4, 2  # Sequence length, model dimension, and number of heads\n",
        "q = np.random.randn(1, L, d_model)\n",
        "k = np.random.randn(1, L, d_model)\n",
        "v = np.random.randn(1, L, d_model)\n",
        "\n",
        "# Apply efficient multi-head attention\n",
        "output, attention_maps = multi_head_attention(q, k, v, num_heads=num_heads)\n",
        "\n",
        "print(\"Output after Multi-Head Attention:\\n\", output)\n",
        "\n",
        "# Plot the attention maps\n",
        "tokens = [\"I\", \"am\", \"ChatGPT\"]\n",
        "fig, axes = plt.subplots(1, num_heads, figsize=(10, 4))\n",
        "attention_maps = np.squeeze(attention_maps)\n",
        "\n",
        "for i in range(num_heads):\n",
        "    sns.heatmap(attention_maps[i], annot=True, cmap='Blues', xticklabels=tokens, yticklabels=tokens, cbar=True, ax=axes[i])\n",
        "    axes[i].set_title(f\"Head {i+1} Attention\")\n",
        "    axes[i].set_xlabel(\"Keys (K)\")\n",
        "    axes[i].set_ylabel(\"Queries (Q)\")\n",
        "\n",
        "plt.tight_layout()\n",
        "plt.show()\n",
        "q"
      ]
    },
    {
      "cell_type": "code",
      "execution_count": null,
      "metadata": {
        "colab": {
          "base_uri": "https://localhost:8080/",
          "height": 476
        },
        "id": "RjEt7O20vY_X",
        "outputId": "ae1ec97b-7ba0-40a9-b27f-89574a73014d"
      },
      "outputs": [
        {
          "name": "stdout",
          "output_type": "stream",
          "text": [
            "Output after Multi-Head Attention:\n",
            " tensor([[[-0.2839,  0.3225,  0.1127, -0.4527],\n",
            "         [-0.2769,  0.3130,  0.2328, -0.2938],\n",
            "         [-0.5120,  0.1228,  0.2275, -0.3128]]])\n"
          ]
        },
        {
          "data": {
            "image/png": "[encoded data removed]",
            "text/plain": [
              "<Figure size 1000x400 with 4 Axes>"
            ]
          },
          "metadata": {},
          "output_type": "display_data"
        }
      ],
      "source": [
        "#using torhc\n",
        "import torch\n",
        "import torch.nn.functional as F\n",
        "import math\n",
        "import matplotlib.pyplot as plt\n",
        "import seaborn as sns\n",
        "\n",
        "def softmax(x, axis=-1):\n",
        "    return torch.softmax(x, dim=axis)\n",
        "\n",
        "def scaled_dot_product_attention(q, k, v, mask=None):\n",
        "    d_k = q.size()[-1]\n",
        "    # Transpose k for correct dot product\n",
        "    scores = torch.matmul(q, k.transpose(-2, -1)) / math.sqrt(d_k)\n",
        "\n",
        "    if mask is not None:\n",
        "        scores += mask\n",
        "\n",
        "    attention = F.softmax(scores, dim=-1)\n",
        "    values = torch.matmul(attention, v)\n",
        "    return values, attention\n",
        "\n",
        "def multi_head_attention(q, k, v, num_heads=2):\n",
        "    batch_size, seq_len, d_model = q.size()\n",
        "    head_dim = d_model // num_heads\n",
        "    assert d_model % num_heads == 0, \"d_model must be divisible by num_heads\"\n",
        "\n",
        "    # Split into multiple heads and rearrange dimensions\n",
        "    def split_heads(x):\n",
        "        return x.view(batch_size, seq_len, num_heads, head_dim).permute(0, 2, 1, 3)  # (batch_size, num_heads, seq_len, head_dim)\n",
        "\n",
        "    q_heads = split_heads(q)\n",
        "    k_heads = split_heads(k)\n",
        "    v_heads = split_heads(v)\n",
        "\n",
        "    # Compute attention for all heads in parallel\n",
        "    attention_output, attention_weights = scaled_dot_product_attention(q_heads, k_heads, v_heads)\n",
        "\n",
        "    # Concatenate all attention outputs\n",
        "    attention_output = attention_output.permute(0, 2, 1, 3).contiguous().view(batch_size, seq_len, d_model)\n",
        "\n",
        "    return attention_output, attention_weights\n",
        "\n",
        "# Example setup\n",
        "torch.manual_seed(2)\n",
        "L, d_model, num_heads = 3, 4, 2  # Sequence length, model dimension, and number of heads\n",
        "q = torch.randn(1, L, d_model)\n",
        "k = torch.randn(1, L, d_model)\n",
        "v = torch.randn(1, L, d_model)\n",
        "\n",
        "# Apply efficient multi-head attention\n",
        "output, attention_maps = multi_head_attention(q, k, v, num_heads=num_heads)\n",
        "\n",
        "print(\"Output after Multi-Head Attention:\\n\", output)\n",
        "\n",
        "# Plot the attention maps\n",
        "tokens = [\"I\", \"am\", \"ChatGPT\"]\n",
        "fig, axes = plt.subplots(1, num_heads, figsize=(10, 4))\n",
        "attention_maps = attention_maps.squeeze(0).detach().numpy()\n",
        "\n",
        "for i in range(num_heads):\n",
        "    sns.heatmap(attention_maps[i], annot=True, cmap='Blues', xticklabels=tokens, yticklabels=tokens, cbar=True, ax=axes[i])\n",
        "    axes[i].set_title(f\"Head {i+1} Attention\")\n",
        "    axes[i].set_xlabel(\"Keys (K)\")\n",
        "    axes[i].set_ylabel(\"Queries (Q)\")\n",
        "\n",
        "plt.tight_layout()\n",
        "plt.show()\n"
      ]
    },
    {
      "cell_type": "code",
      "execution_count": null,
      "metadata": {
        "colab": {
          "base_uri": "https://localhost:8080/"
        },
        "id": "iqozMwTewxiL",
        "outputId": "015017a8-f46b-45c3-816c-ce47f4f9b9a3"
      },
      "outputs": [
        {
          "name": "stdout",
          "output_type": "stream",
          "text": [
            "x tensor([[ 0.3923, -0.2236],\n",
            "        [-0.3195, -1.2050]])\n",
            "output\n"
          ]
        },
        {
          "data": {
            "text/plain": [
              "tensor([[0.6493, 0.3507],\n",
              "        [0.7080, 0.2920]])"
            ]
          },
          "execution_count": 33,
          "metadata": {},
          "output_type": "execute_result"
        }
      ],
      "source": [
        "\n",
        "torch.manual_seed(2)\n",
        "x=torch.randn(2,2)\n",
        "print('x',x)\n",
        "print('output')\n",
        "torch.softmax(x,dim=-1)"
      ]
    },
    {
      "cell_type": "code",
      "execution_count": null,
      "metadata": {
        "id": "6iMK8fOMzpZa"
      },
      "outputs": [],
      "source": [
        "# input_dim = 1024\n",
        "# d_model = 512\n",
        "# num_heads = 8\n",
        "\n",
        "# batch_size = 30\n",
        "# sequence_length = 5\n",
        "# x = torch.randn( (batch_size, sequence_length, input_dim) )\n",
        "\n",
        "# model = MultiheadAttention(input_dim, d_model, num_heads)\n",
        "# out = model.forward(x)"
      ]
    },
    {
      "cell_type": "code",
      "execution_count": null,
      "metadata": {
        "colab": {
          "base_uri": "https://localhost:8080/"
        },
        "id": "WlEXqOE7sHxx",
        "outputId": "7724abbe-00d2-49cc-d0db-5a8250c4602e"
      },
      "outputs": [
        {
          "name": "stdout",
          "output_type": "stream",
          "text": [
            "x.size(): torch.Size([2, 3, 2])\n",
            "qkv.size(): torch.Size([2, 3, 18])\n",
            "qkv.size(): torch.Size([2, 3, 2, 9])\n",
            "qkv.size(): torch.Size([2, 2, 3, 9])\n",
            "q size: torch.Size([2, 2, 3, 3]), k size: torch.Size([2, 2, 3, 3]), v size: torch.Size([2, 2, 3, 3]), \n",
            "values.size(): torch.Size([2, 2, 3, 3]), attention.size:torch.Size([2, 2, 3, 3]) \n",
            "values.size(): torch.Size([2, 3, 6])\n",
            "out.size(): torch.Size([2, 3, 6])\n",
            "x tensor([[[ 0.3923, -0.2236],\n",
            "         [-0.3195, -1.2050],\n",
            "         [ 1.0445, -0.6332]],\n",
            "\n",
            "        [[ 0.5731,  0.5409],\n",
            "         [-0.3919, -1.0427],\n",
            "         [ 1.3186,  0.7476]]])\n",
            "attention torch.Size([2, 2, 3, 3])\n",
            "out torch.Size([2, 3, 6])\n"
          ]
        }
      ],
      "source": [
        "input_dim = 2\n",
        "d_model = 6\n",
        "num_heads = 2\n",
        "\n",
        "batch_size = 2\n",
        "sequence_length = 3\n",
        "torch.manual_seed(2)\n",
        "x = torch.randn( (batch_size, sequence_length, input_dim) )\n",
        "\n",
        "model = MultiheadAttention(input_dim, d_model, num_heads)\n",
        "attention,out = model.forward(x)\n",
        "print('x',x)\n",
        "print('attention',attention.shape)\n",
        "print('out',out.shape)"
      ]
    },
    {
      "cell_type": "code",
      "execution_count": null,
      "metadata": {
        "colab": {
          "base_uri": "https://localhost:8080/"
        },
        "id": "b2NGT7TvuL2C",
        "outputId": "51a49a4a-025a-4cd3-9994-c0b1b4e2c578"
      },
      "outputs": [
        {
          "name": "stdout",
          "output_type": "stream",
          "text": [
            "Input x: tensor([[[ 0.3923, -0.2236],\n",
            "         [-0.3195, -1.2050],\n",
            "         [ 1.0445, -0.6332]],\n",
            "\n",
            "        [[ 0.5731,  0.5409],\n",
            "         [-0.3919, -1.0427],\n",
            "         [ 1.3186,  0.7476]]])\n",
            "heads = 2\n",
            "scores init tensor([[[[-0.1892,  0.1529,  0.2221],\n",
            "          [-0.0320, -0.2258,  0.0192],\n",
            "          [ 0.0825, -0.1731,  0.2062]],\n",
            "\n",
            "         [[ 0.3649, -0.0970, -1.0514],\n",
            "          [ 0.6609, -0.2058, -1.1408],\n",
            "          [ 0.6900, -0.2531, -1.3004]]],\n",
            "\n",
            "\n",
            "        [[[-0.5864,  0.7097,  0.3272],\n",
            "          [-0.3100,  0.1327,  0.0610],\n",
            "          [-0.2955,  0.2653,  0.2130]],\n",
            "\n",
            "         [[-0.0998,  0.1258, -0.6970],\n",
            "          [ 0.4480, -0.0925, -0.9322],\n",
            "          [ 0.2983, -0.0521, -0.9473]]]], grad_fn=<UnsafeViewBackward0>)\n",
            "scores out tensor([[[-0.1892,  0.1529,  0.2221, -0.0320, -0.2258,  0.0192],\n",
            "         [ 0.0825, -0.1731,  0.2062,  0.3649, -0.0970, -1.0514],\n",
            "         [ 0.6609, -0.2058, -1.1408,  0.6900, -0.2531, -1.3004]],\n",
            "\n",
            "        [[-0.5864,  0.7097,  0.3272, -0.3100,  0.1327,  0.0610],\n",
            "         [-0.2955,  0.2653,  0.2130, -0.0998,  0.1258, -0.6970],\n",
            "         [ 0.4480, -0.0925, -0.9322,  0.2983, -0.0521, -0.9473]]],\n",
            "       grad_fn=<ViewBackward0>)\n",
            "out torch.Size([2, 3, 6])\n",
            "projected torch.Size([2, 3, 2])\n",
            "Attention: tensor([[[[1.0000, 0.0000, 0.0000],\n",
            "          [0.5348, 0.4652, 0.0000],\n",
            "          [0.3332, 0.3435, 0.3233]],\n",
            "\n",
            "         [[1.0000, 0.0000, 0.0000],\n",
            "          [0.3885, 0.6115, 0.0000],\n",
            "          [0.2945, 0.4285, 0.2771]]],\n",
            "\n",
            "\n",
            "        [[[1.0000, 0.0000, 0.0000],\n",
            "          [0.5477, 0.4523, 0.0000],\n",
            "          [0.3129, 0.4119, 0.2752]],\n",
            "\n",
            "         [[1.0000, 0.0000, 0.0000],\n",
            "          [0.3353, 0.6647, 0.0000],\n",
            "          [0.2919, 0.4723, 0.2359]]]], grad_fn=<SoftmaxBackward0>)\n",
            "attention shape torch.Size([2, 2, 3, 3])\n",
            "values: tensor([[[-0.1892,  0.1529,  0.2221, -0.0320, -0.2258,  0.0192],\n",
            "         [ 0.0825, -0.1731,  0.2062,  0.3649, -0.0970, -1.0514],\n",
            "         [ 0.6609, -0.2058, -1.1408,  0.6900, -0.2531, -1.3004]],\n",
            "\n",
            "        [[-0.5864,  0.7097,  0.3272, -0.3100,  0.1327,  0.0610],\n",
            "         [-0.2955,  0.2653,  0.2130, -0.0998,  0.1258, -0.6970],\n",
            "         [ 0.4480, -0.0925, -0.9322,  0.2983, -0.0521, -0.9473]]],\n",
            "       grad_fn=<ViewBackward0>)\n",
            "values shape: torch.Size([2, 3, 6])\n",
            "out: tensor([[[-0.1834, -0.4313],\n",
            "         [-0.1486, -0.1837],\n",
            "         [ 0.0463,  0.1431]],\n",
            "\n",
            "        [[-0.2917, -0.5212],\n",
            "         [-0.2368, -0.3325],\n",
            "         [-0.0489, -0.0247]]], grad_fn=<ViewBackward0>)\n",
            "out shape: torch.Size([2, 3, 2])\n"
          ]
        }
      ],
      "source": [
        "#final perfect\n",
        "import torch.nn as nn\n",
        "import torch\n",
        "import numpy as np\n",
        "import matplotlib.pyplot as plt\n",
        "import seaborn as sns\n",
        "\n",
        "class multihead_attention(nn.Module):\n",
        "    def __init__(self, inputdim, dmodel, masking=None, heads=1):\n",
        "        super().__init__()\n",
        "        self.heads = heads\n",
        "        self.masking = masking\n",
        "        assert dmodel % heads == 0, \"Embedding dimension must be divisible by num_heads\"\n",
        "        self.inputdim = inputdim\n",
        "        self.dmodel = dmodel\n",
        "        self.head_dim = self.dmodel // self.heads\n",
        "        self.wq = nn.Linear(self.inputdim, self.dmodel)\n",
        "        self.wk = nn.Linear(self.inputdim, self.dmodel)\n",
        "        self.wv = nn.Linear(self.inputdim, self.dmodel)\n",
        "        self.linearlayer=nn.Linear(self.dmodel,self.dmodel)\n",
        "        self.projectionlayer=nn.Linear(self.dmodel,self.inputdim)\n",
        "        print('heads =', self.heads)\n",
        "\n",
        "    def scaled_dot_product_attention(self, q, k, v):\n",
        "        dk = torch.tensor(q.shape[-1], dtype=torch.float32)\n",
        "        scaled = torch.matmul(q, k.transpose(-2, -1)) / torch.sqrt(dk)\n",
        "\n",
        "        if self.masking is not None:\n",
        "            mask = torch.ones(q.shape[2], q.shape[2], device=q.device)\n",
        "            mask = torch.tril(mask)\n",
        "            mask[mask == 0] = -torch.inf\n",
        "            mask[mask == 1] = 0\n",
        "            scaled = scaled + mask\n",
        "\n",
        "        attention = torch.softmax(scaled, dim=-1)\n",
        "        scores = torch.matmul(attention, v)\n",
        "        return attention, scores\n",
        "\n",
        "    def forward(self, x):\n",
        "        batch_size, sequence_length, input_dim = x.size()\n",
        "        q = self.wq(x)\n",
        "        k = self.wk(x)\n",
        "        v = self.wv(x)\n",
        "        q = q.view(batch_size, sequence_length, self.heads, self.head_dim)\n",
        "        k = k.view(batch_size, sequence_length, self.heads, self.head_dim)\n",
        "        v = v.view(batch_size, sequence_length, self.heads, self.head_dim)\n",
        "        q = q.permute(0, 2, 1, 3)\n",
        "        k = k.permute(0, 2, 1, 3)\n",
        "        v = v.permute(0, 2, 1, 3)\n",
        "\n",
        "        attention, scores = self.scaled_dot_product_attention(q, k, v)\n",
        "        print('scores init',scores)\n",
        "        scores = scores.reshape(batch_size, sequence_length, self.heads *self.head_dim)# we can use self.dmodel as well as last arg\n",
        "        print('scores out',scores)\n",
        "        out=self.linearlayer(scores)\n",
        "        print('out',out.shape)\n",
        "        projected=self.projectionlayer(out)\n",
        "        print('projected',projected.shape)\n",
        "        return attention, scores,projected\n",
        "\n",
        "def plot_multhead(attention, sentences):\n",
        "    num_batches = attention.shape[0]\n",
        "    num_heads = attention.shape[1]\n",
        "    sequence_length = attention.shape[2]\n",
        "\n",
        "    fig, axes = plt.subplots(num_batches, num_heads, figsize=(5 * num_heads, 5 * num_batches))\n",
        "    if num_heads == 1:\n",
        "        axes = [axes]\n",
        "    if num_batches == 1:\n",
        "        axes = [axes]\n",
        "\n",
        "    for batch_idx in range(num_batches):\n",
        "        for head_idx in range(num_heads):\n",
        "            ax = axes[batch_idx][head_idx] if num_batches > 1 else axes[head_idx]\n",
        "            sns.heatmap(attention[batch_idx, head_idx].detach().numpy(), annot=True, cmap=\"Blues\", ax=ax)\n",
        "            sentence = sentences[batch_idx]\n",
        "            ax.set_title(f\"Attention Heatmap for Batch {batch_idx + 1}, Head {head_idx + 1}\")\n",
        "            ax.set_xticklabels(sentence, rotation=45, ha=\"right\")\n",
        "            ax.set_yticklabels(sentence, rotation=0)\n",
        "\n",
        "    plt.tight_layout()\n",
        "    plt.show()\n",
        "\n",
        "torch.manual_seed(2)\n",
        "input_dim = 2\n",
        "d_model = 6\n",
        "num_heads = 2\n",
        "batch_size = 2\n",
        "sequence_length = 3\n",
        "\n",
        "x = torch.randn(batch_size, sequence_length, input_dim)\n",
        "print('Input x:', x)\n",
        "multiattention = multihead_attention(input_dim, d_model, heads=num_heads, masking=True)\n",
        "\n",
        "attention, values,out = multiattention(x)\n",
        "\n",
        "print(\"Attention:\", attention)\n",
        "print('attention shape', attention.shape)\n",
        "print(\"values:\", values)\n",
        "print(\"values shape:\", values.shape)\n",
        "print(\"out:\", out)\n",
        "print(\"out shape:\", out.shape)#linear laer output\n",
        "sentences = [[\"I\", \"am\", \"GPT\"], [\"Good\", \"to\", \"know\"]]\n",
        "#plot_multhead(attention, sentences)"
      ]
    },
    {
      "cell_type": "code",
      "execution_count": null,
      "metadata": {
        "colab": {
          "base_uri": "https://localhost:8080/"
        },
        "id": "iZngFn2VZc8L",
        "outputId": "0c7871e1-6a87-4e09-aeb0-4edec60233ed"
      },
      "outputs": [
        {
          "name": "stdout",
          "output_type": "stream",
          "text": [
            "x.size(): torch.Size([2, 3, 2])\n",
            "qkv.size(): torch.Size([2, 3, 18])\n",
            "qkv.size(): torch.Size([2, 3, 2, 9])\n",
            "qkv.size(): torch.Size([2, 2, 3, 9])\n",
            "q size: torch.Size([2, 2, 3, 3]), k size: torch.Size([2, 2, 3, 3]), v size: torch.Size([2, 2, 3, 3]), \n",
            "values.size(): torch.Size([2, 2, 3, 3]), attention.size:torch.Size([2, 2, 3, 3]) \n",
            "values.size(): torch.Size([2, 3, 6])\n",
            "out.size(): torch.Size([2, 3, 6])\n"
          ]
        }
      ],
      "source": [
        "\n",
        "import torch\n",
        "import torch.nn as nn\n",
        "import math\n",
        "\n",
        "def scaled_dot_product(q, k, v, mask=None):\n",
        "    d_k = q.size()[-1]\n",
        "    scaled = torch.matmul(q, k.transpose(-1, -2)) / math.sqrt(d_k)\n",
        "    if mask is not None:\n",
        "        scaled += mask\n",
        "    attention = torch.softmax(scaled, dim=-1)\n",
        "    values = torch.matmul(attention, v)\n",
        "    return values, attention\n",
        "\n",
        "class MultiheadAttention(nn.Module):\n",
        "\n",
        "    def __init__(self, input_dim, d_model, num_heads):\n",
        "        super().__init__()\n",
        "        self.input_dim = input_dim\n",
        "        self.d_model = d_model\n",
        "        self.num_heads = num_heads\n",
        "        self.head_dim = d_model // num_heads\n",
        "        self.qkv_layer = nn.Linear(input_dim , 3 * d_model)\n",
        "        self.linear_layer = nn.Linear(d_model, d_model)\n",
        "\n",
        "    def forward(self, x, mask=None):\n",
        "        batch_size, sequence_length, input_dim = x.size()\n",
        "        print(f\"x.size(): {x.size()}\")\n",
        "        qkv = self.qkv_layer(x)\n",
        "        print(f\"qkv.size(): {qkv.size()}\")\n",
        "        qkv = qkv.reshape(batch_size, sequence_length, self.num_heads, 3 * self.head_dim)\n",
        "        print(f\"qkv.size(): {qkv.size()}\")\n",
        "        qkv = qkv.permute(0, 2, 1, 3)\n",
        "        print(f\"qkv.size(): {qkv.size()}\")\n",
        "        q, k, v = qkv.chunk(3, dim=-1)\n",
        "        print(f\"q size: {q.size()}, k size: {k.size()}, v size: {v.size()}, \")\n",
        "        values, attention = scaled_dot_product(q, k, v, mask)\n",
        "        print(f\"values.size(): {values.size()}, attention.size:{ attention.size()} \")\n",
        "        values = values.reshape(batch_size, sequence_length, self.num_heads * self.head_dim)\n",
        "        print(f\"values.size(): {values.size()}\")\n",
        "        out = self.linear_layer(values)\n",
        "        print(f\"out.size(): {out.size()}\")\n",
        "        return out\n",
        "\n",
        "input_dim = 2\n",
        "d_model = 6\n",
        "num_heads = 2\n",
        "\n",
        "batch_size = 2\n",
        "sequence_length = 3\n",
        "x = torch.randn( (batch_size, sequence_length, input_dim) )\n",
        "\n",
        "model = MultiheadAttention(input_dim, d_model, num_heads)\n",
        "out = model.forward(x)"
      ]
    },
    {
      "cell_type": "markdown",
      "metadata": {
        "id": "0a6RyJvIYbad"
      },
      "source": [
        "x→Linear\n",
        "1\n",
        "​\n",
        " →ReLU→Linear\n",
        "2\n",
        "​\n",
        " →Dropout→Residual Connection→LayerNorm"
      ]
    },
    {
      "cell_type": "code",
      "execution_count": null,
      "metadata": {
        "colab": {
          "base_uri": "https://localhost:8080/"
        },
        "id": "5DSIdPdneni-",
        "outputId": "bfef49c0-61e1-4f46-8286-b50961d16e92"
      },
      "outputs": [
        {
          "name": "stdout",
          "output_type": "stream",
          "text": [
            "x tensor([[[ 0.3923, -0.2236],\n",
            "         [-0.3195, -1.2050],\n",
            "         [ 1.0445, -0.6332]],\n",
            "\n",
            "        [[ 0.5731,  0.5409],\n",
            "         [-0.3919, -1.0427],\n",
            "         [ 1.3186,  0.7476]]])\n",
            "x after first linear layer: torch.Size([2, 3, 2])\n",
            "x after activation: torch.Size([2, 3, 4])\n",
            "x after dropout: torch.Size([2, 3, 4])\n",
            "x after 2nd linear layer: torch.Size([2, 3, 2])\n",
            "output tensor([[[-0.0033, -0.0869],\n",
            "         [-0.3580, -0.0473],\n",
            "         [-0.0640, -0.1487]],\n",
            "\n",
            "        [[ 0.1065,  0.0664],\n",
            "         [-0.1907, -0.1241],\n",
            "         [ 0.1290,  0.1307]]], grad_fn=<ViewBackward0>)\n"
          ]
        }
      ],
      "source": [
        "#linear layer class\n",
        "import torch.nn as nn\n",
        "import torch\n",
        "class feedforward(nn.Module):\n",
        "  def __init__(self,d_model,hidlayer,dropout):\n",
        "    super().__init__()\n",
        "    self.d_model=d_model\n",
        "    self.hidlayer=hidlayer\n",
        "    self.linearlayer1=nn.Linear(self.d_model,self.hidlayer)\n",
        "    self.linearlayer2=nn.Linear(self.hidlayer,self.d_model)\n",
        "    self.dropout=nn.Dropout(dropout)\n",
        "    self.activation=nn.ReLU()\n",
        "\n",
        "  def forward(self,x):\n",
        "    l1=self.linearlayer1(x)\n",
        "    print(f\"x after first linear layer: {x.size()}\")\n",
        "    l1=self.activation(l1)\n",
        "    print(f\"x after activation: {l1.size()}\")\n",
        "    l1=self.dropout(l1)\n",
        "    print(f\"x after dropout: {l1.size()}\")\n",
        "    out=self.linearlayer2(l1)\n",
        "    print(f\"x after 2nd linear layer: {out.size()}\")\n",
        "\n",
        "    # drop out gen not aplpied after 1st layhers\n",
        "    #out=self.dropout(l2)\n",
        "    return out\n",
        "\n",
        "torch.manual_seed(2)\n",
        "x=torch.randn(2,3,2)\n",
        "print('x',x)\n",
        "linlayer=feedforward(d_model=x.shape[-1],hidlayer=4,dropout=0.2)\n",
        "out=linlayer(x)\n",
        "print('output',out)"
      ]
    },
    {
      "cell_type": "code",
      "execution_count": null,
      "metadata": {
        "id": "vDVmk189K0qi"
      },
      "outputs": [],
      "source": []
    },
    {
      "cell_type": "code",
      "execution_count": null,
      "metadata": {
        "id": "2q43FHPhMIhq"
      },
      "outputs": [],
      "source": []
    }
  ],
  "metadata": {
    "accelerator": "GPU",
    "colab": {
      "gpuType": "T4",
      "provenance": []
    },
    "kernelspec": {
      "display_name": "Python 3",
      "name": "python3"
    },
    "language_info": {
      "name": "python"
    }
  },
  "nbformat": 4,
  "nbformat_minor": 0
}
